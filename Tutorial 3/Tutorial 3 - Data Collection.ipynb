{
  "cells": [
    {
      "cell_type": "markdown",
      "metadata": {
        "id": "WuFHM7XyUKxI"
      },
      "source": [
        "# Tutorial 3 - Data Collection"
      ]
    },
    {
      "cell_type": "markdown",
      "metadata": {
        "id": "8zksMzTGUKxN"
      },
      "source": [
        "Nama: \n",
        "<br>\n",
        "NPM: "
      ]
    },
    {
      "cell_type": "markdown",
      "metadata": {
        "ExecuteTime": {
          "end_time": "2021-02-21T04:36:55.393550Z",
          "start_time": "2021-02-21T04:36:55.379838Z"
        },
        "id": "pWLsXmD0UKxN"
      },
      "source": [
        "Pada tutorial ini, kita akan melakukan:\n",
        "1. Pengumpulan data dari Twitter menggunakan Tweepy (dengan Twitter Search API), Twint, dan Twecoll. Terdapat tiga jenis data yang akan kita kumpulkan, yaitu data <i>tweet</i>, data profil, dan data <i>network</i>.\n",
        "2. Pengumpulan data dari Instagram dengan instaloader.\n",
        "3. Pengumpulan data dari Linkedin dengan <i>web scraping</i>.\n",
        "\n",
        "Sebelum memulai tutorial, kita akan menginstal <i>library</i> yang kita perlukan:"
      ]
    },
    {
      "cell_type": "code",
      "execution_count": 1,
      "metadata": {
        "id": "i2yDZrcpUKxO",
        "outputId": "d8b62573-0576-423c-a94c-ce9fa030721f"
      },
      "outputs": [],
      "source": [
        "# !pip install tweepy\n",
        "# !pip install --user --upgrade git+https://github.com/twintproject/twint.git@origin/master#egg=twint\n",
        "# !pip install selenium\n",
        "# !pip install bs4\n",
        "# !pip install requests\n",
        "# !pip install instaloader\n",
        "# !pip install wordcloud\n",
        "# !pip install Sastrawi"
      ]
    },
    {
      "cell_type": "markdown",
      "metadata": {
        "id": "tjAUoMyFUKxO"
      },
      "source": [
        "# Data Collection - Twitter (Tweepy)"
      ]
    },
    {
      "cell_type": "markdown",
      "metadata": {
        "id": "D6v-dSL4UKxO"
      },
      "source": [
        "## Twitter Search API\n",
        "\n",
        "Pengumpulan data <i>tweet</i> dapat dilakukan dengan menggunakan Twitter API. Terdapat dua kategori API Twitter, yaitu Twitter Search API dan Twitter Streaming API. Perbedaan mendasar dari kedua jenis API tersebut adalah pada waktu data <i>tweet</i> yang akan dikumpulkan. Twitter Search API mengambil data <i>past tweet</i>, yaitu data <i>tweet</i> dengan kriteria tertentu yang diposting pada rentang waktu H-7 hari sampai dengan waktu <i>crawling</i>. Sementara itu, Twitter Streaming API akan mengambil data secara <i>real-time</i> pada saat program <i>crawling</i> dijalankan. Untuk memanggil kedua API tersebut, akan digunakan <i>library</i> Tweepy.\n",
        "\n",
        "Langkah-langkah untuk melakukan proses <i>search tweet data</i> adalah sebagai berikut:"
      ]
    },
    {
      "cell_type": "code",
      "execution_count": 2,
      "metadata": {
        "ExecuteTime": {
          "end_time": "2021-02-21T04:47:58.472270Z",
          "start_time": "2021-02-21T04:47:56.733683Z"
        },
        "id": "fBkvpuFnUKxP"
      },
      "outputs": [],
      "source": [
        "# import library\n",
        "import tweepy"
      ]
    },
    {
      "cell_type": "markdown",
      "metadata": {
        "id": "gk-XSFsUUKxP"
      },
      "source": [
        "### Bearer token variable\n",
        "\n",
        "Pertama-tama, kita harus mendaftarkan akun Twitter kita agar dapat menggunakan API. Mengikuti panduan untuk Twitter API v2, berikutnya kita perlu membuat sebuah proyek. Dari proyek tersebut kita dapat peroleh *bearer token*-nya. *Bearer token* tersebut wajib dimasukkan ke dalam parameter penggunaan Tweepy. "
      ]
    },
    {
      "cell_type": "code",
      "execution_count": 3,
      "metadata": {
        "id": "LArPgUkWYAHu"
      },
      "outputs": [],
      "source": [
        "bearer_token = \"AAAAAAAAAAAAAAAAAAAAAOPcaQEAAAAAZkgD0K5dMWX4D83e8SBnb0hSKl8%3Daz7iVQlo424kfYGuPGDOX37zqmL9c41H866xzRoq0NRixx4VmH\" # diisi"
      ]
    },
    {
      "cell_type": "markdown",
      "metadata": {
        "id": "J-Zyi2lIYAHv"
      },
      "source": [
        "### Setting client\n",
        "\n",
        "Pada tahap ini, kita membuat <i>client</i>  Tweepy dengan menggunakan otentikasi *bearer token*."
      ]
    },
    {
      "cell_type": "code",
      "execution_count": 4,
      "metadata": {
        "ExecuteTime": {
          "end_time": "2021-02-21T04:48:01.479405Z",
          "start_time": "2021-02-21T04:48:01.472266Z"
        },
        "id": "eODUhvoEUKxQ"
      },
      "outputs": [],
      "source": [
        "tweepy_client = tweepy.Client(bearer_token=bearer_token)"
      ]
    },
    {
      "cell_type": "markdown",
      "metadata": {
        "id": "rEYWGurqUKxQ"
      },
      "source": [
        "### Crawling tweet berdasarkan query \n",
        "\n",
        "Pada contoh <b>Code 1</b> di bawah ini, <i>tweet</i> yang ingin dicari adalah 10 <i>tweet</i> yang mengandung kata `ppkm` dan berbahasa Indonesia. Menggunakan method `search_recent_tweets()`, kita bisa mendapatkan *tweet* yang memenuhi kriteria *query* hingga 7 hari yang lalu.\n",
        "\n",
        "Untuk mengetahui lebih lanjut soal *query search* di Twitter, bisa dibaca pada halaman ini: https://developer.twitter.com/en/docs/twitter-api/tweets/search/integrate/build-a-query\n",
        "\n",
        "<b>Code 1</b>:"
      ]
    },
    {
      "cell_type": "code",
      "execution_count": 5,
      "metadata": {
        "ExecuteTime": {
          "end_time": "2021-02-21T04:48:34.979669Z",
          "start_time": "2021-02-21T04:48:33.564926Z"
        },
        "id": "mMEDyJCYUKxR",
        "outputId": "b3306b61-38aa-447e-f69f-c9be10b41cbc"
      },
      "outputs": [
        {
          "name": "stdout",
          "output_type": "stream",
          "text": [
            "Jumlah tweet yang berhasil didapatkan: 10.\n",
            "\n"
          ]
        }
      ],
      "source": [
        "ppkm = tweepy_client.search_recent_tweets(query=\"ppkm lang:id\", max_results=10)\n",
        "\n",
        "print(\"Jumlah tweet yang berhasil didapatkan: {}.\\n\".format(len(ppkm.data)))"
      ]
    },
    {
      "cell_type": "code",
      "execution_count": 6,
      "metadata": {
        "id": "tW3SR8ItYAHw",
        "outputId": "59448e12-a1fa-4e9b-f86f-8f1c7aeea523"
      },
      "outputs": [
        {
          "data": {
            "text/plain": [
              "Response(data=[<Tweet id=1506197053109866499 text='RT @Catatan_ali7: MOTOGP USAI\\nWELCOME TO DRAMA COVID FOR RAMADHAN AND IDUL FITRI \\n\\nJangan kaget jika bentar lagi angka COVID naik lagi\\n\\nTau…'>, <Tweet id=1506196947287547908 text='RT @Bebque__: Sudah selesai gelaran MotoGP, sekarang muncul PPKM lagi untuk Jawa-Bali. Padahal bentar lagi ramadhan dan lebaran. Kurva kopi…'>, <Tweet id=1506196926181838860 text='RT @DeeJee_007: Oyen pulang klo dijemput 😍😁\\n🤭😁🙈😂\\n\\nTongkrongan Tempe Purwokerto\\nCloud Engineer Anies Indonesia\\nSenin Selasa Sarapan pagii Ep…'>, <Tweet id=1506196892622880772 text='RT @Bebque__: Sudah selesai gelaran MotoGP, sekarang muncul PPKM lagi untuk Jawa-Bali. Padahal bentar lagi ramadhan dan lebaran. Kurva kopi…'>, <Tweet id=1506196877309480965 text='RT @JatimPemprov: Sobat Jatim,  dikutip dari Instruksi Menteri Dalam Negeri Nomor 17 Tahun 2022 yang terbit 21 Maret 2022, Alhamdulillah Ja…'>, <Tweet id=1506196856246013956 text='RT @Bebque__: Sudah selesai gelaran MotoGP, sekarang muncul PPKM lagi untuk Jawa-Bali. Padahal bentar lagi ramadhan dan lebaran. Kurva kopi…'>, <Tweet id=1506196834640822273 text='RT @freddyshang77: Yang mau pijat harga ppkm tapi pijat dijamin enak.silahkan ke saya dijamin gak rugi yang ada puasss BUKTIKAN sendiri  #p…'>, <Tweet id=1506196744308080644 text='Lima Daerah di Jatim Masuk PPKM Level 1, Terbanyak di Jawa-Bali: Penanganan pandemi Covid-19 Jatim terus menunjukkan progres yang positif. Berdasarkan Instruksi Menteri Dalam Negeri Nomor 17 Tahun 2022 yang… https://t.co/Kt06e5Yjb8 #beritabaik #timesindonesia #ketahananinformasi'>, <Tweet id=1506196710728474641 text='#Jogja |  Sah! DIY PPKM Level 3, Ini Aturan untuk Mal - https://t.co/yaMa9YUxUm - https://t.co/3iQtHnDUkh   https://t.co/UKeWceFdtz'>, <Tweet id=1506196694840475649 text='RT @DeeJee_007: Oyen pulang klo dijemput 😍😁\\n🤭😁🙈😂\\n\\nTongkrongan Tempe Purwokerto\\nCloud Engineer Anies Indonesia\\nSenin Selasa Sarapan pagii Ep…'>], includes={}, errors=[], meta={'newest_id': '1506197053109866499', 'oldest_id': '1506196694840475649', 'result_count': 10, 'next_token': 'b26v89c19zqg8o3fpyqnrm3o3jkyxkr4xw0gx5pev5jlp'})"
            ]
          },
          "execution_count": 6,
          "metadata": {},
          "output_type": "execute_result"
        }
      ],
      "source": [
        "# objek ppkm\n",
        "ppkm"
      ]
    },
    {
      "cell_type": "code",
      "execution_count": 7,
      "metadata": {
        "ExecuteTime": {
          "end_time": "2021-02-21T04:53:08.204314Z",
          "start_time": "2021-02-21T04:53:08.197717Z"
        },
        "id": "oNE5yfEEUKxR",
        "outputId": "874467ec-064f-4730-ca5e-b04a2ba53bf7"
      },
      "outputs": [
        {
          "data": {
            "text/plain": [
              "[<Tweet id=1506197053109866499 text='RT @Catatan_ali7: MOTOGP USAI\\nWELCOME TO DRAMA COVID FOR RAMADHAN AND IDUL FITRI \\n\\nJangan kaget jika bentar lagi angka COVID naik lagi\\n\\nTau…'>,\n",
              " <Tweet id=1506196947287547908 text='RT @Bebque__: Sudah selesai gelaran MotoGP, sekarang muncul PPKM lagi untuk Jawa-Bali. Padahal bentar lagi ramadhan dan lebaran. Kurva kopi…'>,\n",
              " <Tweet id=1506196926181838860 text='RT @DeeJee_007: Oyen pulang klo dijemput 😍😁\\n🤭😁🙈😂\\n\\nTongkrongan Tempe Purwokerto\\nCloud Engineer Anies Indonesia\\nSenin Selasa Sarapan pagii Ep…'>,\n",
              " <Tweet id=1506196892622880772 text='RT @Bebque__: Sudah selesai gelaran MotoGP, sekarang muncul PPKM lagi untuk Jawa-Bali. Padahal bentar lagi ramadhan dan lebaran. Kurva kopi…'>,\n",
              " <Tweet id=1506196877309480965 text='RT @JatimPemprov: Sobat Jatim,  dikutip dari Instruksi Menteri Dalam Negeri Nomor 17 Tahun 2022 yang terbit 21 Maret 2022, Alhamdulillah Ja…'>,\n",
              " <Tweet id=1506196856246013956 text='RT @Bebque__: Sudah selesai gelaran MotoGP, sekarang muncul PPKM lagi untuk Jawa-Bali. Padahal bentar lagi ramadhan dan lebaran. Kurva kopi…'>,\n",
              " <Tweet id=1506196834640822273 text='RT @freddyshang77: Yang mau pijat harga ppkm tapi pijat dijamin enak.silahkan ke saya dijamin gak rugi yang ada puasss BUKTIKAN sendiri  #p…'>,\n",
              " <Tweet id=1506196744308080644 text='Lima Daerah di Jatim Masuk PPKM Level 1, Terbanyak di Jawa-Bali: Penanganan pandemi Covid-19 Jatim terus menunjukkan progres yang positif. Berdasarkan Instruksi Menteri Dalam Negeri Nomor 17 Tahun 2022 yang… https://t.co/Kt06e5Yjb8 #beritabaik #timesindonesia #ketahananinformasi'>,\n",
              " <Tweet id=1506196710728474641 text='#Jogja |  Sah! DIY PPKM Level 3, Ini Aturan untuk Mal - https://t.co/yaMa9YUxUm - https://t.co/3iQtHnDUkh   https://t.co/UKeWceFdtz'>,\n",
              " <Tweet id=1506196694840475649 text='RT @DeeJee_007: Oyen pulang klo dijemput 😍😁\\n🤭😁🙈😂\\n\\nTongkrongan Tempe Purwokerto\\nCloud Engineer Anies Indonesia\\nSenin Selasa Sarapan pagii Ep…'>]"
            ]
          },
          "execution_count": 7,
          "metadata": {},
          "output_type": "execute_result"
        }
      ],
      "source": [
        "# contoh data\n",
        "ppkm.data"
      ]
    },
    {
      "cell_type": "code",
      "execution_count": 8,
      "metadata": {
        "id": "7o2caVe1YAHx",
        "outputId": "0051d22d-aced-429a-ec8c-a067a29c44e2"
      },
      "outputs": [
        {
          "name": "stderr",
          "output_type": "stream",
          "text": [
            "/tmp/ipykernel_75352/2074867235.py:7: FutureWarning: The frame.append method is deprecated and will be removed from pandas in a future version. Use pandas.concat instead.\n",
            "  df_ppkm = df_ppkm.append({\n",
            "/tmp/ipykernel_75352/2074867235.py:7: FutureWarning: The frame.append method is deprecated and will be removed from pandas in a future version. Use pandas.concat instead.\n",
            "  df_ppkm = df_ppkm.append({\n",
            "/tmp/ipykernel_75352/2074867235.py:7: FutureWarning: The frame.append method is deprecated and will be removed from pandas in a future version. Use pandas.concat instead.\n",
            "  df_ppkm = df_ppkm.append({\n",
            "/tmp/ipykernel_75352/2074867235.py:7: FutureWarning: The frame.append method is deprecated and will be removed from pandas in a future version. Use pandas.concat instead.\n",
            "  df_ppkm = df_ppkm.append({\n",
            "/tmp/ipykernel_75352/2074867235.py:7: FutureWarning: The frame.append method is deprecated and will be removed from pandas in a future version. Use pandas.concat instead.\n",
            "  df_ppkm = df_ppkm.append({\n",
            "/tmp/ipykernel_75352/2074867235.py:7: FutureWarning: The frame.append method is deprecated and will be removed from pandas in a future version. Use pandas.concat instead.\n",
            "  df_ppkm = df_ppkm.append({\n",
            "/tmp/ipykernel_75352/2074867235.py:7: FutureWarning: The frame.append method is deprecated and will be removed from pandas in a future version. Use pandas.concat instead.\n",
            "  df_ppkm = df_ppkm.append({\n",
            "/tmp/ipykernel_75352/2074867235.py:7: FutureWarning: The frame.append method is deprecated and will be removed from pandas in a future version. Use pandas.concat instead.\n",
            "  df_ppkm = df_ppkm.append({\n",
            "/tmp/ipykernel_75352/2074867235.py:7: FutureWarning: The frame.append method is deprecated and will be removed from pandas in a future version. Use pandas.concat instead.\n",
            "  df_ppkm = df_ppkm.append({\n",
            "/tmp/ipykernel_75352/2074867235.py:7: FutureWarning: The frame.append method is deprecated and will be removed from pandas in a future version. Use pandas.concat instead.\n",
            "  df_ppkm = df_ppkm.append({\n"
          ]
        },
        {
          "data": {
            "text/html": [
              "<div>\n",
              "<style scoped>\n",
              "    .dataframe tbody tr th:only-of-type {\n",
              "        vertical-align: middle;\n",
              "    }\n",
              "\n",
              "    .dataframe tbody tr th {\n",
              "        vertical-align: top;\n",
              "    }\n",
              "\n",
              "    .dataframe thead th {\n",
              "        text-align: right;\n",
              "    }\n",
              "</style>\n",
              "<table border=\"1\" class=\"dataframe\">\n",
              "  <thead>\n",
              "    <tr style=\"text-align: right;\">\n",
              "      <th></th>\n",
              "      <th>id</th>\n",
              "      <th>text</th>\n",
              "    </tr>\n",
              "  </thead>\n",
              "  <tbody>\n",
              "    <tr>\n",
              "      <th>0</th>\n",
              "      <td>1506197053109866499</td>\n",
              "      <td>RT @Catatan_ali7: MOTOGP USAI\\nWELCOME TO DRAMA COVID FOR RAMADHAN AND IDUL FITRI \\n\\nJangan kaget jika bentar lagi angka COVID naik lagi\\n\\nTau…</td>\n",
              "    </tr>\n",
              "    <tr>\n",
              "      <th>1</th>\n",
              "      <td>1506196947287547908</td>\n",
              "      <td>RT @Bebque__: Sudah selesai gelaran MotoGP, sekarang muncul PPKM lagi untuk Jawa-Bali. Padahal bentar lagi ramadhan dan lebaran. Kurva kopi…</td>\n",
              "    </tr>\n",
              "    <tr>\n",
              "      <th>2</th>\n",
              "      <td>1506196926181838860</td>\n",
              "      <td>RT @DeeJee_007: Oyen pulang klo dijemput 😍😁\\n🤭😁🙈😂\\n\\nTongkrongan Tempe Purwokerto\\nCloud Engineer Anies Indonesia\\nSenin Selasa Sarapan pagii Ep…</td>\n",
              "    </tr>\n",
              "    <tr>\n",
              "      <th>3</th>\n",
              "      <td>1506196892622880772</td>\n",
              "      <td>RT @Bebque__: Sudah selesai gelaran MotoGP, sekarang muncul PPKM lagi untuk Jawa-Bali. Padahal bentar lagi ramadhan dan lebaran. Kurva kopi…</td>\n",
              "    </tr>\n",
              "    <tr>\n",
              "      <th>4</th>\n",
              "      <td>1506196877309480965</td>\n",
              "      <td>RT @JatimPemprov: Sobat Jatim,  dikutip dari Instruksi Menteri Dalam Negeri Nomor 17 Tahun 2022 yang terbit 21 Maret 2022, Alhamdulillah Ja…</td>\n",
              "    </tr>\n",
              "    <tr>\n",
              "      <th>5</th>\n",
              "      <td>1506196856246013956</td>\n",
              "      <td>RT @Bebque__: Sudah selesai gelaran MotoGP, sekarang muncul PPKM lagi untuk Jawa-Bali. Padahal bentar lagi ramadhan dan lebaran. Kurva kopi…</td>\n",
              "    </tr>\n",
              "    <tr>\n",
              "      <th>6</th>\n",
              "      <td>1506196834640822273</td>\n",
              "      <td>RT @freddyshang77: Yang mau pijat harga ppkm tapi pijat dijamin enak.silahkan ke saya dijamin gak rugi yang ada puasss BUKTIKAN sendiri  #p…</td>\n",
              "    </tr>\n",
              "    <tr>\n",
              "      <th>7</th>\n",
              "      <td>1506196744308080644</td>\n",
              "      <td>Lima Daerah di Jatim Masuk PPKM Level 1, Terbanyak di Jawa-Bali: Penanganan pandemi Covid-19 Jatim terus menunjukkan progres yang positif. Berdasarkan Instruksi Menteri Dalam Negeri Nomor 17 Tahun 2022 yang… https://t.co/Kt06e5Yjb8 #beritabaik #timesindonesia #ketahananinformasi</td>\n",
              "    </tr>\n",
              "    <tr>\n",
              "      <th>8</th>\n",
              "      <td>1506196710728474641</td>\n",
              "      <td>#Jogja |  Sah! DIY PPKM Level 3, Ini Aturan untuk Mal - https://t.co/yaMa9YUxUm - https://t.co/3iQtHnDUkh   https://t.co/UKeWceFdtz</td>\n",
              "    </tr>\n",
              "    <tr>\n",
              "      <th>9</th>\n",
              "      <td>1506196694840475649</td>\n",
              "      <td>RT @DeeJee_007: Oyen pulang klo dijemput 😍😁\\n🤭😁🙈😂\\n\\nTongkrongan Tempe Purwokerto\\nCloud Engineer Anies Indonesia\\nSenin Selasa Sarapan pagii Ep…</td>\n",
              "    </tr>\n",
              "  </tbody>\n",
              "</table>\n",
              "</div>"
            ],
            "text/plain": [
              "                    id  \\\n",
              "0  1506197053109866499   \n",
              "1  1506196947287547908   \n",
              "2  1506196926181838860   \n",
              "3  1506196892622880772   \n",
              "4  1506196877309480965   \n",
              "5  1506196856246013956   \n",
              "6  1506196834640822273   \n",
              "7  1506196744308080644   \n",
              "8  1506196710728474641   \n",
              "9  1506196694840475649   \n",
              "\n",
              "                                                                                                                                                                                                                                                                                      text  \n",
              "0                                                                                                                                        RT @Catatan_ali7: MOTOGP USAI\\nWELCOME TO DRAMA COVID FOR RAMADHAN AND IDUL FITRI \\n\\nJangan kaget jika bentar lagi angka COVID naik lagi\\n\\nTau…  \n",
              "1                                                                                                                                             RT @Bebque__: Sudah selesai gelaran MotoGP, sekarang muncul PPKM lagi untuk Jawa-Bali. Padahal bentar lagi ramadhan dan lebaran. Kurva kopi…  \n",
              "2                                                                                                                                        RT @DeeJee_007: Oyen pulang klo dijemput 😍😁\\n🤭😁🙈😂\\n\\nTongkrongan Tempe Purwokerto\\nCloud Engineer Anies Indonesia\\nSenin Selasa Sarapan pagii Ep…  \n",
              "3                                                                                                                                             RT @Bebque__: Sudah selesai gelaran MotoGP, sekarang muncul PPKM lagi untuk Jawa-Bali. Padahal bentar lagi ramadhan dan lebaran. Kurva kopi…  \n",
              "4                                                                                                                                             RT @JatimPemprov: Sobat Jatim,  dikutip dari Instruksi Menteri Dalam Negeri Nomor 17 Tahun 2022 yang terbit 21 Maret 2022, Alhamdulillah Ja…  \n",
              "5                                                                                                                                             RT @Bebque__: Sudah selesai gelaran MotoGP, sekarang muncul PPKM lagi untuk Jawa-Bali. Padahal bentar lagi ramadhan dan lebaran. Kurva kopi…  \n",
              "6                                                                                                                                             RT @freddyshang77: Yang mau pijat harga ppkm tapi pijat dijamin enak.silahkan ke saya dijamin gak rugi yang ada puasss BUKTIKAN sendiri  #p…  \n",
              "7  Lima Daerah di Jatim Masuk PPKM Level 1, Terbanyak di Jawa-Bali: Penanganan pandemi Covid-19 Jatim terus menunjukkan progres yang positif. Berdasarkan Instruksi Menteri Dalam Negeri Nomor 17 Tahun 2022 yang… https://t.co/Kt06e5Yjb8 #beritabaik #timesindonesia #ketahananinformasi  \n",
              "8                                                                                                                                                      #Jogja |  Sah! DIY PPKM Level 3, Ini Aturan untuk Mal - https://t.co/yaMa9YUxUm - https://t.co/3iQtHnDUkh   https://t.co/UKeWceFdtz  \n",
              "9                                                                                                                                        RT @DeeJee_007: Oyen pulang klo dijemput 😍😁\\n🤭😁🙈😂\\n\\nTongkrongan Tempe Purwokerto\\nCloud Engineer Anies Indonesia\\nSenin Selasa Sarapan pagii Ep…  "
            ]
          },
          "execution_count": 8,
          "metadata": {},
          "output_type": "execute_result"
        }
      ],
      "source": [
        "# parse ke format tabular (pandas dataframe)\n",
        "import pandas as pd\n",
        "pd.set_option('max_colwidth', 1000)\n",
        "\n",
        "df_ppkm = pd.DataFrame()\n",
        "for t in ppkm.data:\n",
        "    df_ppkm = df_ppkm.append({\n",
        "        'id': t.id,\n",
        "        'text': t.text\n",
        "    }, ignore_index=True)\n",
        "\n",
        "df_ppkm"
      ]
    },
    {
      "cell_type": "markdown",
      "metadata": {
        "id": "pox9VGtJUKxS"
      },
      "source": [
        "### <i>Crawling tweet</i> dari <i>username</i> spesifik\n",
        "\n",
        "Untuk mendapatkan <i>tweet</i> dari <i>username</i> spesifik, digunakan fungsi `get_users_tweets()` dengan parameter `user_id`. Pada contoh ini akan diambil 10 <i>tweet</i> terkini dari @Univ_Indonesia. "
      ]
    },
    {
      "cell_type": "code",
      "execution_count": 9,
      "metadata": {
        "ExecuteTime": {
          "end_time": "2021-02-21T04:53:48.761480Z",
          "start_time": "2021-02-21T04:53:46.785558Z"
        },
        "id": "1ZRhMNDTUKxS",
        "outputId": "8295c3d7-4015-4a4f-995f-12dc1cc33c93"
      },
      "outputs": [
        {
          "name": "stdout",
          "output_type": "stream",
          "text": [
            "User ID untuk @univ_indonesia adalah: 74646907\n",
            "Jumlah tweet dari @univ_indonesia yang berhasil didapatkan: 10.\n",
            "\n"
          ]
        }
      ],
      "source": [
        "# 1. user lookup untuk mendapatkan ID\n",
        "user = tweepy_client.get_user(username='univ_indonesia')\n",
        "user_id = user.data.id\n",
        "print(\"User ID untuk @univ_indonesia adalah:\", user_id)\n",
        "\n",
        "# 2. search tweet yang diposting oleh user ID tertentu\n",
        "ui = tweepy_client.get_users_tweets(user_id, max_results=10)\n",
        "print(\"Jumlah tweet dari @univ_indonesia yang berhasil didapatkan: {}.\\n\".format(len(ui.data)))"
      ]
    },
    {
      "cell_type": "code",
      "execution_count": 10,
      "metadata": {
        "ExecuteTime": {
          "end_time": "2021-02-21T04:53:48.780906Z",
          "start_time": "2021-02-21T04:53:48.768465Z"
        },
        "id": "nws7clw6UKxS",
        "outputId": "62bcfc10-db56-4949-9782-53e5c0886f6a"
      },
      "outputs": [
        {
          "data": {
            "text/plain": [
              "[<Tweet id=1504766249964032001 text='Mahasiswa @Medicine_UI  raih juara di AMSA Internasional dan kompetisi fisiologi internasional di University of Health and Welfare, Jepang. Simak berita baik dari UI pekan ini dan dapatkan selengkapnya di https://t.co/QQb9GCdoNl. Selamat menikmati akhir pekan. https://t.co/SnZ2GYet58'>,\n",
              " <Tweet id=1504009074592997376 text='Lokasi kampus UI terdapat di Salemba, Jakarta Pusat dan Depok, Jawa Barat. Sedangkan untuk penerimaan melalui jalur SNMPTN yang diselenggarakan LTMPT, pada tahun ini UI masuk ke wilayah DKI Jakarta dan Jawa Barat 😊 https://t.co/WFzRt5lZir'>,\n",
              " <Tweet id=1503574424888348672 text='@aprilscnd @ui Halo,\\nApabila terdapat kendala pada webmail UI Anda, silakan melapor ke DSTI UI melalui email ke support@ui.ac.id dengan melampirkan Nama, NPM, Program Studi, dan permasalahannya.'>,\n",
              " <Tweet id=1502986716751474693 text='RT @ltmptofficial: H-4 PENUTUPAN REGISTRASI AKUN LTMPT UNTUK UTBK-SBMPTN 2022 \\n\\nHalo Calon Mahasiswa Indonesia!\\n\\nRegistrasi akun LTMPT untu…'>,\n",
              " <Tweet id=1502980164778852352 text='RT @ltmptofficial: 10 HARI LAGI PENDAFTARAN UTBK-SBMPTN 2022! \\n\\nHalo Calon Mahasiswa Indonesia! \\n\\nPendaftaran UTBK-SBMPTN sudah di depan ma…'>,\n",
              " <Tweet id=1502980035560771591 text='@ltmptofficial @xxwdrm Kalau diakhir namanya penyesalan ya, Min?'>,\n",
              " <Tweet id=1502192475318145024 text='https://t.co/YknUdjr0qU'>,\n",
              " <Tweet id=1502192468317839360 text='Berikut tata cara pelaksanaan ujian SIMAK UI Program Pascasarjana yang akan diselenggarakan pada Minggu, 13 Maret 2022.\\n\\nSemoga diberikan kelancaran dalam mengerjakan ujian. Tetap semangat dan jaga kesehatan! Sampai berjumpa di kampus perjuangan.\\n\\n#simakui #universitasindonesia https://t.co/N7xZnrUr6H'>,\n",
              " <Tweet id=1501161740310298628 text='Selamat Hari Perempuan International kepada perempuan luar biasa di seluruh dunia! Tetaplah menjadi wanita yang kuat dan menginspirasi.\\n\\n#universitasindonesia https://t.co/rMLwJMryX6'>,\n",
              " <Tweet id=1499587287214084096 text='@andong_ff @MuzakkiZulfikar Halo,\\nDapat kami informasikan Universitas Indonesia saat ini menyediakan layanan legalisasi dokumen akademik secara daring. Informasi selengkapnya, silakan mengirimkan email  melalui email sipp@ui.ac.id'>]"
            ]
          },
          "execution_count": 10,
          "metadata": {},
          "output_type": "execute_result"
        }
      ],
      "source": [
        "# contoh data\n",
        "ui.data"
      ]
    },
    {
      "cell_type": "markdown",
      "metadata": {
        "id": "QgNcApujUKxT"
      },
      "source": [
        "## Twitter Streaming API\n",
        "\n",
        "*Tweet* yang dikumpulkan menggunakan Twitter Streaming API merupakan data <i>tweet</i> yang bersifat <i>real time</i>. Langkah-langkah melakukan pengumpulan data dengan <i>Twitter Streaming API</i> adalah sebagai berikut:"
      ]
    },
    {
      "cell_type": "markdown",
      "metadata": {
        "id": "Fz2W18h6UKxU"
      },
      "source": [
        "### Membuat StreamingClient\n",
        "\n",
        "Kelas `StreamingClient` akan memberikan informasi mengenai status <i>request data</i> Twitter yang kita cari. Pada kelas ini, terdapat dua fungsi yaitu fungsi `on_tweet()` yang mengembalikan data yang kita <i>request</i> dan fungsi `on_connection_error()` yang memberikan informasi jika koneksi gagal.\n",
        "\n",
        "Di dalam fungsi `on_tweet()`, akan didapatkan object Tweet dari Tweepy yang berisi data hasil <i>request</i>. Sementara itu, fungsi `on_connection_error()` memutus koneksi jika terdapat masalah <i>request</i>."
      ]
    },
    {
      "cell_type": "code",
      "execution_count": 21,
      "metadata": {
        "ExecuteTime": {
          "end_time": "2021-02-21T05:33:23.495256Z",
          "start_time": "2021-02-21T05:33:23.481050Z"
        },
        "id": "4fXFj2I9UKxU"
      },
      "outputs": [],
      "source": [
        "# import library\n",
        "from tweepy import StreamingClient\n",
        "\n",
        "class CustomStreamingClient(StreamingClient):\n",
        "    def on_tweet(self, tweet):\n",
        "        print(tweet.text)\n",
        "\n",
        "    def on_connection_error(self):\n",
        "        print(\"Connection error, stopping stream...\")\n",
        "        self.disconnect()"
      ]
    },
    {
      "cell_type": "markdown",
      "metadata": {
        "id": "F9aLijo4UKxV"
      },
      "source": [
        "### Membuat stream\n",
        "\n",
        "Kelas `CustomStreamingClient` digunakan untuk melakukan <i>request streaming</i> berdasarkan autorisasi dari token API yang kita miliki.\n",
        "\n",
        "Untuk standar parameter *filter* yang lain dapat dilihat di halaman <a href='https://developer.twitter.com/en/docs/tweets/filter-realtime/guides/basic-stream-parameters.html'>dokumentasi</a> Twitter.\n",
        "\n",
        "<b>Code 2</b>:"
      ]
    },
    {
      "cell_type": "code",
      "execution_count": 22,
      "metadata": {
        "ExecuteTime": {
          "end_time": "2021-02-21T05:33:31.771307Z",
          "start_time": "2021-02-21T05:33:24.289705Z"
        },
        "id": "nASMLmH0UKxV",
        "outputId": "cdf548ee-f14f-4ef7-b021-ef082e38625c"
      },
      "outputs": [
        {
          "name": "stdout",
          "output_type": "stream",
          "text": [
            "@Mauriiice22 @Bundeskanzler Nur für Dich, Du Blindfuchs.\n",
            "Eine Quelle des Wahrheitsministeriums 👇🏼\n",
            "\n",
            "https://t.co/FzzlIagLZi\n",
            "Admit Ukraine into NATO and... #care2 https://t.co/Qpr8YRcySX\n",
            "The war in Ukraine is not about Sean Penn. https://t.co/N7cLgGWAyA\n",
            "RT @SKYmetaverseNFT: Get Your 24k $SKY #Crypto #Metaverse #Airdrops.\n",
            "\n",
            "RETWEET then Send Your #Polygon #Cryptocurrency Address.\n",
            "\n",
            "Let's Moon…\n",
            "RT @KyivIndependent: He added that Ukraine is waiting too long for the required weapons.\n",
            "\n",
            "“Who is leading the Euro-Atlantic community? Is i…\n",
            "@DarthPutinKGB Once again you have deserved to be called as \"the master strategist\". Just brilliant!\n",
            "RT @ProjetFOX: 🇺🇦CYBERSEC\n",
            "\n",
            "L'équipe ukrainienne d'intervention en cas d'urgence informatique @_CERT_UA a récemment alerté contre des attaqu…\n",
            "RT @KyivIndependent: ⚡️ Zelensky: Impossible to save Mariupol without additional tanks, planes. \n",
            "\n",
            "“Ukraine cannot shoot down Russian missil…\n",
            "RT @morphonios: Last week, Ukraine's Foreign Minister told friends that Ukraine only has “two weeks” worth of anti-aircraft &amp; anti-tank mis…\n",
            "RT @IuliiaMendel: A month into war, communicator-in-chief Zelenskiy strives to keep eyes on Ukraine https://t.co/0tQwh1kC68\n",
            "Guerre en Ukraine: l'AIEA \"inquiète\" de bombardements \"mettant en danger\" le personnel de Tchernobyl\n",
            "Lire l'article : https://t.co/nc8gcmJvOq\n",
            "#Actualités\n",
            "#SudPresse\n",
            "RT @nexta_tv: According to German Ministry of the Interior, more than a quarter of a million refugees fleeing the war in #Ukraine have arri…\n",
            "RT @sahouraxo: BREAKING: While all eyes are on Ukraine, American and British bombs are being dropped right now on Yemen's capital city of S…\n",
            "RT @kylenabecker: In under 24 hours the White House has corrected Biden for remarks on a foreign trip suggesting:\n",
            "\n",
            "1) U.S. Troops were goin…\n",
            "@MaajidNawaz Narrative about what? Ukraine? Covid? Inflation? The US economy? The 2020 election? Climate Change? Freedom of speech on social media? Mask and vaccine mandates? I can't keep up any more.\n",
            "RT @KyivIndependent: ⚡️Dozens of Ukrainian communities, monasteries move to the Orthodox Church of Ukraine.\n",
            "RT @barnes_law: Do you seriously think it a coincidence that the son of the VP was involved in funding biolab projects in Ukraine for the g…\n",
            "RT @gardgoldsmith: Liberty Conspiracy: Biden ADMITS That US Soldiers Have Been Training Ukraine Mil, MORE 3-26-22 https://t.co/2MZ6E5GURZ…\n",
            "@TomthunkitsMind This is about 2 weeks old.\n",
            "Mayor says Ukraine’s western city of Lviv under attack\n",
            "#Lviv #Ukraine #MissileAttacks #UkraineRussiaWar \n",
            "https://t.co/XQc0lBsBi8\n",
            "@business It must be nice to be American\n",
            "RT @duediligenceguy: More cracks in the #PetroDollar foundation, which supports the #USD's reserve currency status. We're seeing the start…\n",
            "Superheroes at Ukraine's metro stations draw crowds https://t.co/c86A5Wxb4w\n",
            "RT @Jr2QuiVol1: 【音量注意】\n",
            "2022/03/19 14:43UTC Radio Lux FM Lviv , Air raid warning , #Lviv #Ukraine\n",
            "#ウクライナ リビウにあるFM放送のインターネット放送を聞き始めたら空襲警報が繰り返…\n",
            "RT @KyivIndependent: The Ukrainian Orthodox Church reported on March 25 that 28 communities in 9 oblasts have officially switched from the…\n",
            "RT @RealScottRitter: I’ve never seen such a level of self-delusion as what I’m witnessing on CNN this morning. They think Ukraine is winnin…\n",
            "Imagine all the people\n",
            "Livin' life in peace...🙏❤\n",
            "@johnlennon @yokoono \n",
            "\n",
            "#Ukraine #Ucraina #Peace #NoWar #PrayForPeace\n",
            "#StopWarInUkraine #StopTheWar\n",
            "#PeaceForUkraine #Pace\n",
            "#PeaceAndLove  \n",
            "\n",
            "'Imagine' by #JohnLennon\n",
            "listen it!❤\n",
            "https://t.co/l4Mp9zOlsG https://t.co/83VKkvmIY7\n",
            "RT @sentdefender: It is now 6am and the Sun has Risen on the 32nd Day of the Russian Invasion in the Capitol city of Kyiv, it has been more…\n",
            "RT @BBCWorld: Ukraine defence: Red lights and painted arrows fuel fear of Russian agents https://t.co/y3udjgHPic\n",
            "RT @ReutersWorld: Zurich Insurance removes Z symbol after letter used to show support for Ukraine war https://t.co/YtpQp2Zzdt https://t.co/…\n",
            "@finKlEiNhoRN22 Ukraine probably can't even stand this one.  \n",
            "Full on narcissism.\n",
            "@ukraine_world @POTUS slava ukraini❤🇺🇦🌏🕊\n",
            "@KyivIndependent Is this effectively a breakaway from the state church of Russia?\n",
            "\n",
            "Forgive me, I truly don't know\n",
            "RT @PaulaJo4GOP: $14 billion sent to Ukraine yet this is Baltimore. https://t.co/MtNxJXT3Rn\n",
            "RT @sahabnews1: صاروخ كينجال الروسي أسرع من الصوت ب ١٠ مرات (شاهد ذهول المراسل الامريكي حينما راه  علما انه اصاب مستودع للاسلحه الاوكرانيه…\n",
            "RT @POTUS: A dictator bent on rebuilding an empire will never erase a people’s love for liberty.\n",
            " \n",
            "Brutality will never grind down their wi…\n",
            "RT @POTUS: We are here for the people of Ukraine. https://t.co/NiAQJSfAuV\n",
            "How Europe can manage the millions of refugees fleeing Russia's invasion of Ukraine... and create a better model for the world’s future refugee crises. \n",
            "\n",
            "— RAND's @SC_Culbertson. https://t.co/ax0hXNxuZ9\n",
            "RT @sumlenny: \"Quit smoking. Otherwise you die and will not witness Putin's death\" - a very clever anti-tobacco warning in Ukraine. https:/…\n",
            "RT @MarkHertling: The objectives of Putin were fairly straightforward from the beginning: Subjugate Ukraine, Divide NATO, further divide th…\n",
            "@SamRamani2 It’s always been that way. Poland is the one that doesn’t want to. How about Ukrainian pilots just go get them. Problem solved.\n",
            "A Dozen Russian Troops Refuse to Go to Ukraine and Show Us That Russia's Government Looks a Lot Like Ours \n",
            " https://t.co/Xxbom1E4H5\n",
            "@Spooky_2001 @Aeroteq I didn't know they fucking played the Russian anthem. We stand with Ukraine 💙💛\n",
            "@ away\n",
            "Sean Penn vows to publicly smelt his Oscar if Academy Awards refuses to let Ukraine's Zelensky speak https://t.co/DndaFLygDK\n",
            "What Ukrainians could do for Europe is keep relying on their #identity and impose such #homonistic self-perception to the EU, showing  that the community of nations stand on national identities, firm self-reliance, and a strong sense of #existence. https://t.co/Zz034kETH8\n",
            "@matucic @CityBureaucrat I doubt this horrible woman even believes it. this is just pure propaganda to convince stupid women to put Ukraine flags in their usernames, support WWIII &amp; not mind paying $10/gallon for gas or going hungry. it's on the same level as the \"sexiest man alive\" Anthony Fauci panties\n",
            "RT @nexta_tv: Keanu Reeves supported #Ukraine https://t.co/SjlOziekTK\n",
            "@heatherbear2020 Heather,  what would you do if someone invaded your home, shot and killed your family, burned your home down and then provided you a sandwich on your street.  Would be happy if your neighbour said.. wow this invader is real nice, he’s giving Heather some food.\n",
            "@SkyNews London is too busy setting up shell companies for russians so that they can evade sanctions! Money launderying at full speed!\n",
            "RT @PaulaJo4GOP: $14 billion sent to Ukraine yet this is Baltimore. https://t.co/MtNxJXT3Rn\n",
            "D. Wallace Peach @Dwallacepeach VOICE OF INDIE #Podcast @FreshInkGroup hosts @StephenGeez @BeemWeeks March 33, 2022, 8PM EST https://t.co/5KXKtpSW4j #RRBC #bookworm #MustRead #newrelease #Fantasy #Sci-fi #dragons #dystopian #epic #poetry #Ukraine #adventure #books a @VoiceOfIndie https://t.co/2bEpfgj4W7\n",
            "RT @POTUS: Putin has the gall to say he is “de-Nazifying” Ukraine.\n",
            "\n",
            "This lie isn’t just cynical. It is obscene. \n",
            "\n",
            "President Zelenskyy was d…\n",
            "Turkey Feels Russia-Ukraine War as Navy Explodes Mine Drifting Near Coast https://t.co/z4XeOCgNwQ\n",
            "RT @DanielBleakley: What if instead of giving Ukraine $31 million in the form of 70 000 tonnes of Whitehaven coal, the Australian governmen…\n",
            "RT @poldiscoursebot: Let's talk about how Ukraine is alt-right.\n",
            "@UAWeapons Stealing stuff✔\n",
            "Smashing stuff ✔\n",
            "Burning something big ✔\n",
            "Undermining an Invasion ✔\n",
            "RT @PeanutTweezer: Here is the one difference:\n",
            "\n",
            "Republicans want to control you.\n",
            "\n",
            "Democrats want to live in peace with you.\n",
            "\n",
            "That’s why the…\n",
            "Excellent.\n",
            "Interesting statistics of Russia/ Ukraine's exports of energy , wheat, &amp; other products.\n",
            "Agree that Biden's passivity was a recipe for literally a disaster. https://t.co/DF2qMULPRc\n",
            "@Exy_Nodes 👀 Sheeeeesh I love this!\n",
            "RT @meiselasb: The timing of this Trump &amp; GOP rally where Trump just said President Biden must recuse himself from all matters involving Uk…\n",
            "RT @nypost: Sean Penn calls for Oscars boycott if Ukraine's Zelensky isn't given chance to speak https://t.co/oV6DlWl9LQ https://t.co/RCWb0…\n",
            "https://t.co/rqIVEXek7n\n",
            "https://t.co/VXHaJDTHIa\n",
            "RT @Durancimon: He forgot that he let Putin freely prepare his war with Ukraine for 4 years. If it were not for Biden @POTUS , NATO would b…\n",
            "RT @POTUS: Putin has the gall to say he is “de-Nazifying” Ukraine.\n",
            "\n",
            "This lie isn’t just cynical. It is obscene. \n",
            "\n",
            "President Zelenskyy was d…\n",
            "RT @POTUS: Ukraine and its people are on the front lines fighting to save their nation. And their brave resistance is part of a larger figh…\n",
            "https://t.co/fyDuzL5Bqf\n",
            "RT @walterlekh: This is what Russians brought to Ukraine - death, horror and despair.\n",
            "Read the full thread on #Mariupol.\n",
            "#RussianWarCrimesI…\n",
            "RT @POTUS: Putin has the gall to say he is “de-Nazifying” Ukraine.\n",
            "\n",
            "This lie isn’t just cynical. It is obscene. \n",
            "\n",
            "President Zelenskyy was d…\n",
            "https://t.co/3AqKgjz2F4\n",
            "@RALee85 You are a morbid propagandist. Wish you put a photo of your children up too.\n",
            "RT @JedManWell: @LakovosJustice Here's how I understand the cause for war. Ukraine joining NATO. Ukraine having Western Weapons right next…\n",
            "RT @JacobJohnson5: There’s a fucking war going on in Ukraine and you guys are worried about basketball. Wow.\n",
            "RT @KyivIndependent: Hundreds of protesters supporting Ukraine lay on the ground in Warsaw on March 25, to represent the civilians killed b…\n",
            "RT @france_soir: ☣️ \"Les affirmations russes selon lesquelles Hunter Biden serait en train de financer des laboratoires biologiques en Ukra…\n",
            "@ubco2 Hero\n",
            "RT @OlexanderN: President Zelenskyy is by far the most respected politician in the world today. His message: international community has a…\n",
            "RT @DougJBalloon: We wanted to know how and why Vladimir Putin may be shifting tactics in the war in Ukraine.  So we talked with four unvac…\n",
            "RT @PChidambaram_IN: My @IndianExpress Column | This horrific war must end\n",
            "\n",
            "https://t.co/kzBXPoGpyj\n",
            "@CNEWS https://t.co/dHsWIDyExe\n",
            "Hence Ukraine!? 😬 https://t.co/Wd08gYpeyp\n",
            "Wooden overriding Ukraine Cotton Generic Minnesota invoice bottom-line Fantastic seize connect invoice https://t.co/CVndkchHH7\n",
            "@richimedhurst @piyushbafna1977 True words\n",
            "RT @POTUS: Today, I met with Ukraine’s Minister of Foreign Affairs and Minister of Defense — and with Polish President Andrzej Duda. I’m vi…\n",
            "@tvanouvelles TVA manque de QI\n",
            "@MomSmurfette @ccowboy723 This meme is horse caca.Trump did strengthen NATO by getting the members to pay their fair share. Trump armed Ukraine with anti-tank missiles,something Obama refused to do.Trump did not lift sanctions on Russia.Trump did withdraw from the nuke treaty due to Russia not complying!\n",
            "RT @mhmck: Give Ukraine missiles to destroy the Black Sea Fleet at temporarily-occupied Sevastopol. This will stop the launch of cruise mis…\n",
            "RT @BCWildfireWkly: “Zelenskyy calls for supply of planes and tanks from NATO as war in Ukraine continues” - @TwitterMoments:\n",
            "https://t.co/…\n",
            "@TemujinCrack I support Ukraine because I fucking hate Bolsheviks\n",
            "RT @tuzzi: Attack On Europe: Documenting Equipment Losses During The 2022 Russian Invasion Of Ukraine - Oryx https://t.co/MBhSlbnpGG \n",
            "\n",
            "俄羅斯入…\n",
            "RT @IAPonomarenko: Neo, John Wick, and Johnny Silverhand are altogether standing for Ukraine https://t.co/sd4R9f2HRH\n",
            "First politician to speak the truth. \n",
            "\n",
            "#JoeBiden #Putin #Ukraine #Russia https://t.co/ZR42qJIV5I\n",
            "RT @YingJie22739040: Stand with UKRAINE\n",
            "🇺🇦 🇺🇦 🇺🇦 🇺🇦 🇺🇦\n",
            "🌻🌻🌻🌻🌻🌻\n",
            "美軍奔赴前線\n",
            "為人類的自由而戰❗向閃耀著人性光輝的真的英雄致敬！ 慷慨赴義，上天庇佑❗ https://t.co/dGkzn60N3H\n",
            "RT @HelloMrBond: Here is the graphic to go along with my March 25 update thread 🧵 on estimates of #Russia and #Ukraine losses compared to a…\n",
            "RT @Militarylandnet: 📽️Ukrainian troops assaulting Russian positions in #Sumy region #Ukraine #UkraineRussiaWar https://t.co/g6WOQjpwgR\n",
            "RT @KayKosmos: 'Peace and Solidarity for the people of Ukraine'\n",
            "'If you let Ukraine fall, who will be next?'\n",
            "'What are you doing to your ne…\n",
            "RT @logela_: 🔴 BOMBAZO; El Daily Mail británico valida la versión rusa: el hijo de Joe Biden, Hunter Biden habría hecho lobbying y financia…\n",
            "RT @nexta_tv: #British Foreign Office names conditions for lifting sanctions against #Russia. They can be lifted from Russia if its troops…\n",
            "RT @sumlenny: \"Quit smoking. Otherwise you die and will not witness Putin's death\" - a very clever anti-tobacco warning in Ukraine. https:/…\n",
            "@DanRather Well ya because he's a Russian stooge. I hope he likes how things are going for his master Putinboy in Ukraine. Two loosers meant for each other.\n",
            "RT @anneapplebaum: thread, describing genocide from the air\n",
            "RT @realLizUSA: “If Biden were serious about helping Ukraine &amp; defending America, the first thing he would do is walk into the White House…\n",
            "RT @OccupyDemocrats: BREAKING NEWS: In a fiery speech in Poland, Iconic American actor Sean Penn demands that America “help Ukraine with ev…\n",
            "@passionsdelisah @YvesPDB 👍👍👍👍 bravo ma belle. Mais tu fais partie des RARES à avoir compris. Ce avec la supervision de Ursula 3615....\n",
            "@badtux99 @boofketimo @mattia_n @bfry1981 It's more like the ex-wife beater shaming and telling everyone else about the other ex-wife beater.\n",
            "@nypost a vaccine to stave off irrelevance for him- he's gonna need a booster..\n",
            "RT @YugBamBaby: วัยรุ่นใน Novomoskovsk 🇺🇦เห็นว่าธงชาติของตนร่วงหล่น  จึงขึ้นไปคืนที่เดิม\n",
            "\n",
            "#ยูเครน #รัสเซียยูเครน #RussiaUkraine #รัสเซีย #…\n",
            "RT @sahouraxo: BREAKING: While all eyes are on Ukraine, American and British bombs are being dropped right now on Yemen's capital city of S…\n",
            "RT @sahouraxo: BREAKING: While all eyes are on Ukraine, American and British bombs are being dropped right now on Yemen's capital city of S…\n",
            "@LeyLloydsOaDeMs @michael34299150 @Reuters Western bot, lol are you an idiot stfu, he has a point...\n",
            "RT @Finanzas_Times: 🇺🇦 #Ucrania | #Ukraine | HILO 🧵 sobre #Zelenski | #Zelensky la degeneración en persona. A ver si así abrís los ojos y c…\n",
            "RT @lesiavasylenko: #WarDay #30 #Ukraine lives life and we do it well. Even with the background of war. Guided by basic instincts we fight…\n",
            "RT @KyivIndependent: ⚡️ Zelensky: Impossible to save Mariupol without additional tanks, planes. \n",
            "\n",
            "“Ukraine cannot shoot down Russian missil…\n",
            "RT @sahouraxo: BREAKING: While all eyes are on Ukraine, American and British bombs are being dropped right now on Yemen's capital city of S…\n",
            "RT @axidentaliberal: @POTUS “All free men, wherever they may live,are citizens of Berlin..as a free man, I take pride in the words ‘Ich bin…\n",
            "RT @michelefron: @Stealthgirl21 @Angry_Staffer https://t.co/zgSe7aYbSb\n",
            "RT @Chriss_m: Oh man. I love the Ukrainians and I’m so proud of the support the UK is giving to Ukraine, and it feels great to hear Ukraini…\n",
            "@Li_Yang_China Oh Li , can you unblock me please, I don’t hate China , I just don’t agree with china most of the time. Im@not a bad person. Honest ❤️\n",
            "RT @Reuters: ‘For God’s sake, this man cannot remain in power’: In a fiery speech, President Joe Biden condemned Russian President Vladimir…\n",
            "@kerstinPe3 Die Geschichte von der Alten ist doch einfach nur erfunden. So entstehen Fake-News. Nächste Woche werden die ersten Idioten erzählen, dass ihnen eine gute Bekannte ihrer Nachbarin erzählt hat, dass sie selbst gesehen hat, wie ukrainische Flüchtlinge hier Gucci und Prada shoppen.\n",
            "@PucksReturn @Anonymous_23126 Honourable mentions go to\n",
            "#WCK making 1000s of meals daily for\n",
            "#Ukraine refugees \n",
            "#Macron #Trudeau #vonderLeyen notably\n",
            "Working towards 🌎☮️\n",
            "And here comes Joe scraping republicans off his shoes\n",
            "And havin pizza in Poland with NATO Troops\n",
            "1000s of them🔥👍\n",
            "RT @McFaul: The only way Putin will withdraw his army is when they are no longer advancing. Ukraine needs more weapons to stop their advanc…\n",
            "RT @YourAnonNews: There are activist accounts being suspended by @twitter b/c of leaked info about Russia.\n",
            "Twitter is a company based in th…\n",
            "Weekly US wheat 🌾 price report via @uswheatassoc\n",
            "Canada drought, Ukraine war impacts noted. https://t.co/91fE2axp17\n",
            "RT @BenjaminNorton: Perfect symbol of this farce: an apolitical actor who played a president in a TV show funded by a billionaire oligarch…\n"
          ]
        },
        {
          "ename": "KeyboardInterrupt",
          "evalue": "",
          "output_type": "error",
          "traceback": [
            "\u001b[0;31m---------------------------------------------------------------------------\u001b[0m",
            "\u001b[0;31mKeyboardInterrupt\u001b[0m                         Traceback (most recent call last)",
            "\u001b[1;32m/home/sebelum_masehi/Documents/Ilmu Komputer UI/Analitika Media Sosial/Tutorial/Tutorial 3/Tutorial 3 - Data Collection.ipynb Cell 24'\u001b[0m in \u001b[0;36m<cell line: 7>\u001b[0;34m()\u001b[0m\n\u001b[1;32m      <a href='vscode-notebook-cell:/home/sebelum_masehi/Documents/Ilmu%20Komputer%20UI/Analitika%20Media%20Sosial/Tutorial/Tutorial%203/Tutorial%203%20-%20Data%20Collection.ipynb#ch0000023?line=3'>4</a>\u001b[0m custom_stream\u001b[39m.\u001b[39madd_rules(tweepy\u001b[39m.\u001b[39mStreamRule(\u001b[39m\"\u001b[39m\u001b[39mukraine\u001b[39m\u001b[39m\"\u001b[39m))\n\u001b[1;32m      <a href='vscode-notebook-cell:/home/sebelum_masehi/Documents/Ilmu%20Komputer%20UI/Analitika%20Media%20Sosial/Tutorial/Tutorial%203/Tutorial%203%20-%20Data%20Collection.ipynb#ch0000023?line=4'>5</a>\u001b[0m custom_stream\u001b[39m.\u001b[39madd_rules(tweepy\u001b[39m.\u001b[39mStreamRule(\u001b[39m\"\u001b[39m\u001b[39mlang:en\u001b[39m\u001b[39m\"\u001b[39m))\n\u001b[0;32m----> <a href='vscode-notebook-cell:/home/sebelum_masehi/Documents/Ilmu%20Komputer%20UI/Analitika%20Media%20Sosial/Tutorial/Tutorial%203/Tutorial%203%20-%20Data%20Collection.ipynb#ch0000023?line=6'>7</a>\u001b[0m custom_stream\u001b[39m.\u001b[39;49mfilter()\n",
            "File \u001b[0;32m~/Documents/Ilmu Komputer UI/Analitika Media Sosial/Tutorial/Tutorial 3/env/lib/python3.10/site-packages/tweepy/streaming.py:745\u001b[0m, in \u001b[0;36mStreamingClient.filter\u001b[0;34m(self, threaded, **params)\u001b[0m\n\u001b[1;32m    <a href='file:///home/sebelum_masehi/Documents/Ilmu%20Komputer%20UI/Analitika%20Media%20Sosial/Tutorial/Tutorial%203/env/lib/python3.10/site-packages/tweepy/streaming.py?line=742'>743</a>\u001b[0m     \u001b[39mreturn\u001b[39;00m \u001b[39mself\u001b[39m\u001b[39m.\u001b[39m_threaded_connect(method, endpoint, params\u001b[39m=\u001b[39mparams)\n\u001b[1;32m    <a href='file:///home/sebelum_masehi/Documents/Ilmu%20Komputer%20UI/Analitika%20Media%20Sosial/Tutorial/Tutorial%203/env/lib/python3.10/site-packages/tweepy/streaming.py?line=743'>744</a>\u001b[0m \u001b[39melse\u001b[39;00m:\n\u001b[0;32m--> <a href='file:///home/sebelum_masehi/Documents/Ilmu%20Komputer%20UI/Analitika%20Media%20Sosial/Tutorial/Tutorial%203/env/lib/python3.10/site-packages/tweepy/streaming.py?line=744'>745</a>\u001b[0m     \u001b[39mself\u001b[39;49m\u001b[39m.\u001b[39;49m_connect(method, endpoint, params\u001b[39m=\u001b[39;49mparams)\n",
            "File \u001b[0;32m~/Documents/Ilmu Komputer UI/Analitika Media Sosial/Tutorial/Tutorial 3/env/lib/python3.10/site-packages/tweepy/streaming.py:570\u001b[0m, in \u001b[0;36mStreamingClient._connect\u001b[0;34m(self, method, endpoint, **kwargs)\u001b[0m\n\u001b[1;32m    <a href='file:///home/sebelum_masehi/Documents/Ilmu%20Komputer%20UI/Analitika%20Media%20Sosial/Tutorial/Tutorial%203/env/lib/python3.10/site-packages/tweepy/streaming.py?line=567'>568</a>\u001b[0m \u001b[39mself\u001b[39m\u001b[39m.\u001b[39msession\u001b[39m.\u001b[39mheaders[\u001b[39m\"\u001b[39m\u001b[39mAuthorization\u001b[39m\u001b[39m\"\u001b[39m] \u001b[39m=\u001b[39m \u001b[39mf\u001b[39m\u001b[39m\"\u001b[39m\u001b[39mBearer \u001b[39m\u001b[39m{\u001b[39;00m\u001b[39mself\u001b[39m\u001b[39m.\u001b[39mbearer_token\u001b[39m}\u001b[39;00m\u001b[39m\"\u001b[39m\n\u001b[1;32m    <a href='file:///home/sebelum_masehi/Documents/Ilmu%20Komputer%20UI/Analitika%20Media%20Sosial/Tutorial/Tutorial%203/env/lib/python3.10/site-packages/tweepy/streaming.py?line=568'>569</a>\u001b[0m url \u001b[39m=\u001b[39m \u001b[39mf\u001b[39m\u001b[39m\"\u001b[39m\u001b[39mhttps://api.twitter.com/2/tweets/\u001b[39m\u001b[39m{\u001b[39;00mendpoint\u001b[39m}\u001b[39;00m\u001b[39m/stream\u001b[39m\u001b[39m\"\u001b[39m\n\u001b[0;32m--> <a href='file:///home/sebelum_masehi/Documents/Ilmu%20Komputer%20UI/Analitika%20Media%20Sosial/Tutorial/Tutorial%203/env/lib/python3.10/site-packages/tweepy/streaming.py?line=569'>570</a>\u001b[0m \u001b[39msuper\u001b[39;49m()\u001b[39m.\u001b[39;49m_connect(method, url, \u001b[39m*\u001b[39;49m\u001b[39m*\u001b[39;49mkwargs)\n",
            "File \u001b[0;32m~/Documents/Ilmu Komputer UI/Analitika Media Sosial/Tutorial/Tutorial 3/env/lib/python3.10/site-packages/tweepy/streaming.py:87\u001b[0m, in \u001b[0;36mBaseStream._connect\u001b[0;34m(self, method, url, auth, params, headers, body)\u001b[0m\n\u001b[1;32m     <a href='file:///home/sebelum_masehi/Documents/Ilmu%20Komputer%20UI/Analitika%20Media%20Sosial/Tutorial/Tutorial%203/env/lib/python3.10/site-packages/tweepy/streaming.py?line=83'>84</a>\u001b[0m \u001b[39mif\u001b[39;00m \u001b[39mnot\u001b[39;00m \u001b[39mself\u001b[39m\u001b[39m.\u001b[39mrunning:\n\u001b[1;32m     <a href='file:///home/sebelum_masehi/Documents/Ilmu%20Komputer%20UI/Analitika%20Media%20Sosial/Tutorial/Tutorial%203/env/lib/python3.10/site-packages/tweepy/streaming.py?line=84'>85</a>\u001b[0m     \u001b[39mbreak\u001b[39;00m\n\u001b[0;32m---> <a href='file:///home/sebelum_masehi/Documents/Ilmu%20Komputer%20UI/Analitika%20Media%20Sosial/Tutorial/Tutorial%203/env/lib/python3.10/site-packages/tweepy/streaming.py?line=86'>87</a>\u001b[0m \u001b[39mfor\u001b[39;00m line \u001b[39min\u001b[39;00m resp\u001b[39m.\u001b[39miter_lines(\n\u001b[1;32m     <a href='file:///home/sebelum_masehi/Documents/Ilmu%20Komputer%20UI/Analitika%20Media%20Sosial/Tutorial/Tutorial%203/env/lib/python3.10/site-packages/tweepy/streaming.py?line=87'>88</a>\u001b[0m     chunk_size\u001b[39m=\u001b[39m\u001b[39mself\u001b[39m\u001b[39m.\u001b[39mchunk_size\n\u001b[1;32m     <a href='file:///home/sebelum_masehi/Documents/Ilmu%20Komputer%20UI/Analitika%20Media%20Sosial/Tutorial/Tutorial%203/env/lib/python3.10/site-packages/tweepy/streaming.py?line=88'>89</a>\u001b[0m ):\n\u001b[1;32m     <a href='file:///home/sebelum_masehi/Documents/Ilmu%20Komputer%20UI/Analitika%20Media%20Sosial/Tutorial/Tutorial%203/env/lib/python3.10/site-packages/tweepy/streaming.py?line=89'>90</a>\u001b[0m     \u001b[39mif\u001b[39;00m line:\n\u001b[1;32m     <a href='file:///home/sebelum_masehi/Documents/Ilmu%20Komputer%20UI/Analitika%20Media%20Sosial/Tutorial/Tutorial%203/env/lib/python3.10/site-packages/tweepy/streaming.py?line=90'>91</a>\u001b[0m         \u001b[39mself\u001b[39m\u001b[39m.\u001b[39mon_data(line)\n",
            "File \u001b[0;32m~/Documents/Ilmu Komputer UI/Analitika Media Sosial/Tutorial/Tutorial 3/env/lib/python3.10/site-packages/requests/models.py:804\u001b[0m, in \u001b[0;36mResponse.iter_lines\u001b[0;34m(self, chunk_size, decode_unicode, delimiter)\u001b[0m\n\u001b[1;32m    <a href='file:///home/sebelum_masehi/Documents/Ilmu%20Komputer%20UI/Analitika%20Media%20Sosial/Tutorial/Tutorial%203/env/lib/python3.10/site-packages/requests/models.py?line=794'>795</a>\u001b[0m \u001b[39m\"\"\"Iterates over the response data, one line at a time.  When\u001b[39;00m\n\u001b[1;32m    <a href='file:///home/sebelum_masehi/Documents/Ilmu%20Komputer%20UI/Analitika%20Media%20Sosial/Tutorial/Tutorial%203/env/lib/python3.10/site-packages/requests/models.py?line=795'>796</a>\u001b[0m \u001b[39mstream=True is set on the request, this avoids reading the\u001b[39;00m\n\u001b[1;32m    <a href='file:///home/sebelum_masehi/Documents/Ilmu%20Komputer%20UI/Analitika%20Media%20Sosial/Tutorial/Tutorial%203/env/lib/python3.10/site-packages/requests/models.py?line=796'>797</a>\u001b[0m \u001b[39mcontent at once into memory for large responses.\u001b[39;00m\n\u001b[1;32m    <a href='file:///home/sebelum_masehi/Documents/Ilmu%20Komputer%20UI/Analitika%20Media%20Sosial/Tutorial/Tutorial%203/env/lib/python3.10/site-packages/requests/models.py?line=797'>798</a>\u001b[0m \n\u001b[1;32m    <a href='file:///home/sebelum_masehi/Documents/Ilmu%20Komputer%20UI/Analitika%20Media%20Sosial/Tutorial/Tutorial%203/env/lib/python3.10/site-packages/requests/models.py?line=798'>799</a>\u001b[0m \u001b[39m.. note:: This method is not reentrant safe.\u001b[39;00m\n\u001b[1;32m    <a href='file:///home/sebelum_masehi/Documents/Ilmu%20Komputer%20UI/Analitika%20Media%20Sosial/Tutorial/Tutorial%203/env/lib/python3.10/site-packages/requests/models.py?line=799'>800</a>\u001b[0m \u001b[39m\"\"\"\u001b[39;00m\n\u001b[1;32m    <a href='file:///home/sebelum_masehi/Documents/Ilmu%20Komputer%20UI/Analitika%20Media%20Sosial/Tutorial/Tutorial%203/env/lib/python3.10/site-packages/requests/models.py?line=801'>802</a>\u001b[0m pending \u001b[39m=\u001b[39m \u001b[39mNone\u001b[39;00m\n\u001b[0;32m--> <a href='file:///home/sebelum_masehi/Documents/Ilmu%20Komputer%20UI/Analitika%20Media%20Sosial/Tutorial/Tutorial%203/env/lib/python3.10/site-packages/requests/models.py?line=803'>804</a>\u001b[0m \u001b[39mfor\u001b[39;00m chunk \u001b[39min\u001b[39;00m \u001b[39mself\u001b[39m\u001b[39m.\u001b[39miter_content(chunk_size\u001b[39m=\u001b[39mchunk_size, decode_unicode\u001b[39m=\u001b[39mdecode_unicode):\n\u001b[1;32m    <a href='file:///home/sebelum_masehi/Documents/Ilmu%20Komputer%20UI/Analitika%20Media%20Sosial/Tutorial/Tutorial%203/env/lib/python3.10/site-packages/requests/models.py?line=805'>806</a>\u001b[0m     \u001b[39mif\u001b[39;00m pending \u001b[39mis\u001b[39;00m \u001b[39mnot\u001b[39;00m \u001b[39mNone\u001b[39;00m:\n\u001b[1;32m    <a href='file:///home/sebelum_masehi/Documents/Ilmu%20Komputer%20UI/Analitika%20Media%20Sosial/Tutorial/Tutorial%203/env/lib/python3.10/site-packages/requests/models.py?line=806'>807</a>\u001b[0m         chunk \u001b[39m=\u001b[39m pending \u001b[39m+\u001b[39m chunk\n",
            "File \u001b[0;32m~/Documents/Ilmu Komputer UI/Analitika Media Sosial/Tutorial/Tutorial 3/env/lib/python3.10/site-packages/requests/models.py:760\u001b[0m, in \u001b[0;36mResponse.iter_content.<locals>.generate\u001b[0;34m()\u001b[0m\n\u001b[1;32m    <a href='file:///home/sebelum_masehi/Documents/Ilmu%20Komputer%20UI/Analitika%20Media%20Sosial/Tutorial/Tutorial%203/env/lib/python3.10/site-packages/requests/models.py?line=757'>758</a>\u001b[0m \u001b[39mif\u001b[39;00m \u001b[39mhasattr\u001b[39m(\u001b[39mself\u001b[39m\u001b[39m.\u001b[39mraw, \u001b[39m'\u001b[39m\u001b[39mstream\u001b[39m\u001b[39m'\u001b[39m):\n\u001b[1;32m    <a href='file:///home/sebelum_masehi/Documents/Ilmu%20Komputer%20UI/Analitika%20Media%20Sosial/Tutorial/Tutorial%203/env/lib/python3.10/site-packages/requests/models.py?line=758'>759</a>\u001b[0m     \u001b[39mtry\u001b[39;00m:\n\u001b[0;32m--> <a href='file:///home/sebelum_masehi/Documents/Ilmu%20Komputer%20UI/Analitika%20Media%20Sosial/Tutorial/Tutorial%203/env/lib/python3.10/site-packages/requests/models.py?line=759'>760</a>\u001b[0m         \u001b[39mfor\u001b[39;00m chunk \u001b[39min\u001b[39;00m \u001b[39mself\u001b[39m\u001b[39m.\u001b[39mraw\u001b[39m.\u001b[39mstream(chunk_size, decode_content\u001b[39m=\u001b[39m\u001b[39mTrue\u001b[39;00m):\n\u001b[1;32m    <a href='file:///home/sebelum_masehi/Documents/Ilmu%20Komputer%20UI/Analitika%20Media%20Sosial/Tutorial/Tutorial%203/env/lib/python3.10/site-packages/requests/models.py?line=760'>761</a>\u001b[0m             \u001b[39myield\u001b[39;00m chunk\n\u001b[1;32m    <a href='file:///home/sebelum_masehi/Documents/Ilmu%20Komputer%20UI/Analitika%20Media%20Sosial/Tutorial/Tutorial%203/env/lib/python3.10/site-packages/requests/models.py?line=761'>762</a>\u001b[0m     \u001b[39mexcept\u001b[39;00m ProtocolError \u001b[39mas\u001b[39;00m e:\n",
            "File \u001b[0;32m~/Documents/Ilmu Komputer UI/Analitika Media Sosial/Tutorial/Tutorial 3/env/lib/python3.10/site-packages/urllib3/response.py:575\u001b[0m, in \u001b[0;36mHTTPResponse.stream\u001b[0;34m(self, amt, decode_content)\u001b[0m\n\u001b[1;32m    <a href='file:///home/sebelum_masehi/Documents/Ilmu%20Komputer%20UI/Analitika%20Media%20Sosial/Tutorial/Tutorial%203/env/lib/python3.10/site-packages/urllib3/response.py?line=558'>559</a>\u001b[0m \u001b[39m\"\"\"\u001b[39;00m\n\u001b[1;32m    <a href='file:///home/sebelum_masehi/Documents/Ilmu%20Komputer%20UI/Analitika%20Media%20Sosial/Tutorial/Tutorial%203/env/lib/python3.10/site-packages/urllib3/response.py?line=559'>560</a>\u001b[0m \u001b[39mA generator wrapper for the read() method. A call will block until\u001b[39;00m\n\u001b[1;32m    <a href='file:///home/sebelum_masehi/Documents/Ilmu%20Komputer%20UI/Analitika%20Media%20Sosial/Tutorial/Tutorial%203/env/lib/python3.10/site-packages/urllib3/response.py?line=560'>561</a>\u001b[0m \u001b[39m``amt`` bytes have been read from the connection or until the\u001b[39;00m\n\u001b[0;32m   (...)\u001b[0m\n\u001b[1;32m    <a href='file:///home/sebelum_masehi/Documents/Ilmu%20Komputer%20UI/Analitika%20Media%20Sosial/Tutorial/Tutorial%203/env/lib/python3.10/site-packages/urllib3/response.py?line=571'>572</a>\u001b[0m \u001b[39m    'content-encoding' header.\u001b[39;00m\n\u001b[1;32m    <a href='file:///home/sebelum_masehi/Documents/Ilmu%20Komputer%20UI/Analitika%20Media%20Sosial/Tutorial/Tutorial%203/env/lib/python3.10/site-packages/urllib3/response.py?line=572'>573</a>\u001b[0m \u001b[39m\"\"\"\u001b[39;00m\n\u001b[1;32m    <a href='file:///home/sebelum_masehi/Documents/Ilmu%20Komputer%20UI/Analitika%20Media%20Sosial/Tutorial/Tutorial%203/env/lib/python3.10/site-packages/urllib3/response.py?line=573'>574</a>\u001b[0m \u001b[39mif\u001b[39;00m \u001b[39mself\u001b[39m\u001b[39m.\u001b[39mchunked \u001b[39mand\u001b[39;00m \u001b[39mself\u001b[39m\u001b[39m.\u001b[39msupports_chunked_reads():\n\u001b[0;32m--> <a href='file:///home/sebelum_masehi/Documents/Ilmu%20Komputer%20UI/Analitika%20Media%20Sosial/Tutorial/Tutorial%203/env/lib/python3.10/site-packages/urllib3/response.py?line=574'>575</a>\u001b[0m     \u001b[39mfor\u001b[39;00m line \u001b[39min\u001b[39;00m \u001b[39mself\u001b[39m\u001b[39m.\u001b[39mread_chunked(amt, decode_content\u001b[39m=\u001b[39mdecode_content):\n\u001b[1;32m    <a href='file:///home/sebelum_masehi/Documents/Ilmu%20Komputer%20UI/Analitika%20Media%20Sosial/Tutorial/Tutorial%203/env/lib/python3.10/site-packages/urllib3/response.py?line=575'>576</a>\u001b[0m         \u001b[39myield\u001b[39;00m line\n\u001b[1;32m    <a href='file:///home/sebelum_masehi/Documents/Ilmu%20Komputer%20UI/Analitika%20Media%20Sosial/Tutorial/Tutorial%203/env/lib/python3.10/site-packages/urllib3/response.py?line=576'>577</a>\u001b[0m \u001b[39melse\u001b[39;00m:\n",
            "File \u001b[0;32m~/Documents/Ilmu Komputer UI/Analitika Media Sosial/Tutorial/Tutorial 3/env/lib/python3.10/site-packages/urllib3/response.py:767\u001b[0m, in \u001b[0;36mHTTPResponse.read_chunked\u001b[0;34m(self, amt, decode_content)\u001b[0m\n\u001b[1;32m    <a href='file:///home/sebelum_masehi/Documents/Ilmu%20Komputer%20UI/Analitika%20Media%20Sosial/Tutorial/Tutorial%203/env/lib/python3.10/site-packages/urllib3/response.py?line=763'>764</a>\u001b[0m     \u001b[39mreturn\u001b[39;00m\n\u001b[1;32m    <a href='file:///home/sebelum_masehi/Documents/Ilmu%20Komputer%20UI/Analitika%20Media%20Sosial/Tutorial/Tutorial%203/env/lib/python3.10/site-packages/urllib3/response.py?line=765'>766</a>\u001b[0m \u001b[39mwhile\u001b[39;00m \u001b[39mTrue\u001b[39;00m:\n\u001b[0;32m--> <a href='file:///home/sebelum_masehi/Documents/Ilmu%20Komputer%20UI/Analitika%20Media%20Sosial/Tutorial/Tutorial%203/env/lib/python3.10/site-packages/urllib3/response.py?line=766'>767</a>\u001b[0m     \u001b[39mself\u001b[39;49m\u001b[39m.\u001b[39;49m_update_chunk_length()\n\u001b[1;32m    <a href='file:///home/sebelum_masehi/Documents/Ilmu%20Komputer%20UI/Analitika%20Media%20Sosial/Tutorial/Tutorial%203/env/lib/python3.10/site-packages/urllib3/response.py?line=767'>768</a>\u001b[0m     \u001b[39mif\u001b[39;00m \u001b[39mself\u001b[39m\u001b[39m.\u001b[39mchunk_left \u001b[39m==\u001b[39m \u001b[39m0\u001b[39m:\n\u001b[1;32m    <a href='file:///home/sebelum_masehi/Documents/Ilmu%20Komputer%20UI/Analitika%20Media%20Sosial/Tutorial/Tutorial%203/env/lib/python3.10/site-packages/urllib3/response.py?line=768'>769</a>\u001b[0m         \u001b[39mbreak\u001b[39;00m\n",
            "File \u001b[0;32m~/Documents/Ilmu Komputer UI/Analitika Media Sosial/Tutorial/Tutorial 3/env/lib/python3.10/site-packages/urllib3/response.py:697\u001b[0m, in \u001b[0;36mHTTPResponse._update_chunk_length\u001b[0;34m(self)\u001b[0m\n\u001b[1;32m    <a href='file:///home/sebelum_masehi/Documents/Ilmu%20Komputer%20UI/Analitika%20Media%20Sosial/Tutorial/Tutorial%203/env/lib/python3.10/site-packages/urllib3/response.py?line=694'>695</a>\u001b[0m \u001b[39mif\u001b[39;00m \u001b[39mself\u001b[39m\u001b[39m.\u001b[39mchunk_left \u001b[39mis\u001b[39;00m \u001b[39mnot\u001b[39;00m \u001b[39mNone\u001b[39;00m:\n\u001b[1;32m    <a href='file:///home/sebelum_masehi/Documents/Ilmu%20Komputer%20UI/Analitika%20Media%20Sosial/Tutorial/Tutorial%203/env/lib/python3.10/site-packages/urllib3/response.py?line=695'>696</a>\u001b[0m     \u001b[39mreturn\u001b[39;00m\n\u001b[0;32m--> <a href='file:///home/sebelum_masehi/Documents/Ilmu%20Komputer%20UI/Analitika%20Media%20Sosial/Tutorial/Tutorial%203/env/lib/python3.10/site-packages/urllib3/response.py?line=696'>697</a>\u001b[0m line \u001b[39m=\u001b[39m \u001b[39mself\u001b[39;49m\u001b[39m.\u001b[39;49m_fp\u001b[39m.\u001b[39;49mfp\u001b[39m.\u001b[39;49mreadline()\n\u001b[1;32m    <a href='file:///home/sebelum_masehi/Documents/Ilmu%20Komputer%20UI/Analitika%20Media%20Sosial/Tutorial/Tutorial%203/env/lib/python3.10/site-packages/urllib3/response.py?line=697'>698</a>\u001b[0m line \u001b[39m=\u001b[39m line\u001b[39m.\u001b[39msplit(\u001b[39mb\u001b[39m\u001b[39m\"\u001b[39m\u001b[39m;\u001b[39m\u001b[39m\"\u001b[39m, \u001b[39m1\u001b[39m)[\u001b[39m0\u001b[39m]\n\u001b[1;32m    <a href='file:///home/sebelum_masehi/Documents/Ilmu%20Komputer%20UI/Analitika%20Media%20Sosial/Tutorial/Tutorial%203/env/lib/python3.10/site-packages/urllib3/response.py?line=698'>699</a>\u001b[0m \u001b[39mtry\u001b[39;00m:\n",
            "File \u001b[0;32m/usr/lib/python3.10/socket.py:705\u001b[0m, in \u001b[0;36mSocketIO.readinto\u001b[0;34m(self, b)\u001b[0m\n\u001b[1;32m    <a href='file:///usr/lib/python3.10/socket.py?line=702'>703</a>\u001b[0m \u001b[39mwhile\u001b[39;00m \u001b[39mTrue\u001b[39;00m:\n\u001b[1;32m    <a href='file:///usr/lib/python3.10/socket.py?line=703'>704</a>\u001b[0m     \u001b[39mtry\u001b[39;00m:\n\u001b[0;32m--> <a href='file:///usr/lib/python3.10/socket.py?line=704'>705</a>\u001b[0m         \u001b[39mreturn\u001b[39;00m \u001b[39mself\u001b[39;49m\u001b[39m.\u001b[39;49m_sock\u001b[39m.\u001b[39;49mrecv_into(b)\n\u001b[1;32m    <a href='file:///usr/lib/python3.10/socket.py?line=705'>706</a>\u001b[0m     \u001b[39mexcept\u001b[39;00m timeout:\n\u001b[1;32m    <a href='file:///usr/lib/python3.10/socket.py?line=706'>707</a>\u001b[0m         \u001b[39mself\u001b[39m\u001b[39m.\u001b[39m_timeout_occurred \u001b[39m=\u001b[39m \u001b[39mTrue\u001b[39;00m\n",
            "File \u001b[0;32m/usr/lib/python3.10/ssl.py:1273\u001b[0m, in \u001b[0;36mSSLSocket.recv_into\u001b[0;34m(self, buffer, nbytes, flags)\u001b[0m\n\u001b[1;32m   <a href='file:///usr/lib/python3.10/ssl.py?line=1268'>1269</a>\u001b[0m     \u001b[39mif\u001b[39;00m flags \u001b[39m!=\u001b[39m \u001b[39m0\u001b[39m:\n\u001b[1;32m   <a href='file:///usr/lib/python3.10/ssl.py?line=1269'>1270</a>\u001b[0m         \u001b[39mraise\u001b[39;00m \u001b[39mValueError\u001b[39;00m(\n\u001b[1;32m   <a href='file:///usr/lib/python3.10/ssl.py?line=1270'>1271</a>\u001b[0m           \u001b[39m\"\u001b[39m\u001b[39mnon-zero flags not allowed in calls to recv_into() on \u001b[39m\u001b[39m%s\u001b[39;00m\u001b[39m\"\u001b[39m \u001b[39m%\u001b[39m\n\u001b[1;32m   <a href='file:///usr/lib/python3.10/ssl.py?line=1271'>1272</a>\u001b[0m           \u001b[39mself\u001b[39m\u001b[39m.\u001b[39m\u001b[39m__class__\u001b[39m)\n\u001b[0;32m-> <a href='file:///usr/lib/python3.10/ssl.py?line=1272'>1273</a>\u001b[0m     \u001b[39mreturn\u001b[39;00m \u001b[39mself\u001b[39;49m\u001b[39m.\u001b[39;49mread(nbytes, buffer)\n\u001b[1;32m   <a href='file:///usr/lib/python3.10/ssl.py?line=1273'>1274</a>\u001b[0m \u001b[39melse\u001b[39;00m:\n\u001b[1;32m   <a href='file:///usr/lib/python3.10/ssl.py?line=1274'>1275</a>\u001b[0m     \u001b[39mreturn\u001b[39;00m \u001b[39msuper\u001b[39m()\u001b[39m.\u001b[39mrecv_into(buffer, nbytes, flags)\n",
            "File \u001b[0;32m/usr/lib/python3.10/ssl.py:1129\u001b[0m, in \u001b[0;36mSSLSocket.read\u001b[0;34m(self, len, buffer)\u001b[0m\n\u001b[1;32m   <a href='file:///usr/lib/python3.10/ssl.py?line=1126'>1127</a>\u001b[0m \u001b[39mtry\u001b[39;00m:\n\u001b[1;32m   <a href='file:///usr/lib/python3.10/ssl.py?line=1127'>1128</a>\u001b[0m     \u001b[39mif\u001b[39;00m buffer \u001b[39mis\u001b[39;00m \u001b[39mnot\u001b[39;00m \u001b[39mNone\u001b[39;00m:\n\u001b[0;32m-> <a href='file:///usr/lib/python3.10/ssl.py?line=1128'>1129</a>\u001b[0m         \u001b[39mreturn\u001b[39;00m \u001b[39mself\u001b[39;49m\u001b[39m.\u001b[39;49m_sslobj\u001b[39m.\u001b[39;49mread(\u001b[39mlen\u001b[39;49m, buffer)\n\u001b[1;32m   <a href='file:///usr/lib/python3.10/ssl.py?line=1129'>1130</a>\u001b[0m     \u001b[39melse\u001b[39;00m:\n\u001b[1;32m   <a href='file:///usr/lib/python3.10/ssl.py?line=1130'>1131</a>\u001b[0m         \u001b[39mreturn\u001b[39;00m \u001b[39mself\u001b[39m\u001b[39m.\u001b[39m_sslobj\u001b[39m.\u001b[39mread(\u001b[39mlen\u001b[39m)\n",
            "\u001b[0;31mKeyboardInterrupt\u001b[0m: "
          ]
        }
      ],
      "source": [
        "custom_stream = CustomStreamingClient(bearer_token)\n",
        "\n",
        "# membuat rules untuk filter\n",
        "custom_stream.add_rules(tweepy.StreamRule(\"ukraine\"))\n",
        "custom_stream.add_rules(tweepy.StreamRule(\"lang:en\"))\n",
        "\n",
        "custom_stream.filter()"
      ]
    },
    {
      "cell_type": "code",
      "execution_count": 23,
      "metadata": {
        "id": "4UQ7JojtYAHz",
        "outputId": "7976fea3-ebfb-4c00-ed93-98d1ae6d31d6"
      },
      "outputs": [
        {
          "data": {
            "text/plain": [
              "<__main__.CustomStreamingClient at 0x7fa0e551e500>"
            ]
          },
          "execution_count": 23,
          "metadata": {},
          "output_type": "execute_result"
        }
      ],
      "source": [
        "# objek custom stream\n",
        "custom_stream"
      ]
    },
    {
      "cell_type": "code",
      "execution_count": 24,
      "metadata": {
        "id": "9tXs1SXaYAHz",
        "outputId": "c985c078-9080-4528-cfdf-c6c6661567d3"
      },
      "outputs": [
        {
          "data": {
            "text/plain": [
              "Response(data=[StreamRule(value='ukraine', tag=None, id='1506197122927915012'), StreamRule(value='saham', tag=None, id='1507937972414709761')], includes={}, errors=[], meta={'sent': '2022-03-27T04:40:26.782Z', 'result_count': 2})"
            ]
          },
          "execution_count": 24,
          "metadata": {},
          "output_type": "execute_result"
        }
      ],
      "source": [
        "# cek rules yang sudah di-add\n",
        "custom_stream.get_rules()"
      ]
    },
    {
      "cell_type": "code",
      "execution_count": 25,
      "metadata": {
        "id": "OVixBELRYAHz",
        "outputId": "c9a926dd-3d30-4a71-f53e-93cd2531c3f0"
      },
      "outputs": [
        {
          "data": {
            "text/plain": [
              "Response(data=None, includes={}, errors=[{'errors': [{'parameters': {}, 'message': 'Rule does not exist'}], 'title': 'Invalid Request', 'detail': 'One or more parameters to your request was invalid.', 'type': 'https://api.twitter.com/2/problems/invalid-request'}], meta={'sent': '2022-03-27T04:40:32.839Z', 'summary': {'deleted': 0, 'not_deleted': 1}})"
            ]
          },
          "execution_count": 25,
          "metadata": {},
          "output_type": "execute_result"
        }
      ],
      "source": [
        "# menghapus stream rules\n",
        "custom_stream.delete_rules(ids='1505082423637266432')"
      ]
    },
    {
      "cell_type": "code",
      "execution_count": 26,
      "metadata": {
        "id": "V3Dttv0AYAH0",
        "outputId": "f6e2292b-7d24-4bf3-b022-7bb3466b871d"
      },
      "outputs": [
        {
          "data": {
            "text/plain": [
              "Response(data=[StreamRule(value='ukraine', tag=None, id='1506197122927915012'), StreamRule(value='saham', tag=None, id='1507937972414709761')], includes={}, errors=[], meta={'sent': '2022-03-27T04:40:36.347Z', 'result_count': 2})"
            ]
          },
          "execution_count": 26,
          "metadata": {},
          "output_type": "execute_result"
        }
      ],
      "source": [
        "custom_stream.get_rules()"
      ]
    },
    {
      "cell_type": "markdown",
      "metadata": {
        "id": "z9x0aCN6YAH0"
      },
      "source": [
        "## Data User - Twitter\n",
        "\n",
        "Selain data *tweet*, data profil akun Twitter juga dapat didapatkan. Karena sebelumnya kita telah mengambil data tweet menggunakan *bearer token*, di tahap ini kita akan mencoba autentikasi user menggunakan token. Jika ingin mencoba mengambil data user dengan menggunakan *bearer token*, teman-teman bisa mengikuti sampel kode <a href=\"https://github.com/twitterdev/Twitter-API-v2-sample-code/blob/main/User-Lookup/get_users_with_bearer_token.py\">ini</a>.  "
      ]
    },
    {
      "cell_type": "code",
      "execution_count": null,
      "metadata": {
        "id": "0lgG7QUDYAH0"
      },
      "outputs": [],
      "source": [
        "consumer_key = \"\" # diisi\n",
        "consumer_secret = \"\" # diisi"
      ]
    },
    {
      "cell_type": "markdown",
      "metadata": {
        "id": "XjO3Q4ejYAH0"
      },
      "source": [
        "<b>Code 3</b>"
      ]
    },
    {
      "cell_type": "code",
      "execution_count": null,
      "metadata": {
        "id": "o2Tf1JGYYAH0"
      },
      "outputs": [],
      "source": [
        "from requests_oauthlib import OAuth1Session\n",
        "# field user yg ingin diambil, referensi: https://developer.twitter.com/en/docs/twitter-api/data-dictionary/object-model/user\n",
        "fields = \"created_at,description,entities,id,location,name,pinned_tweet_id,profile_image_url,protected,public_metrics,url,username,verified,withheld\"\n",
        "params = {\"usernames\": \"NajwaShihab,gojektech\", \"user.fields\": fields}\n",
        "request_token_url = \"https://api.twitter.com/oauth/request_token\"\n",
        "oauth = OAuth1Session(consumer_key, client_secret=consumer_secret)\n",
        "fetch_response = oauth.fetch_request_token(request_token_url)"
      ]
    },
    {
      "cell_type": "code",
      "execution_count": null,
      "metadata": {
        "id": "S10KSaNlYAH0",
        "outputId": "f4c9cdc1-2d4c-4b2f-abd4-c9c739467bcf"
      },
      "outputs": [
        {
          "data": {
            "text/plain": [
              "{'oauth_token': 'UoBm8AAAAAAA9wN5AAABf6LsreM',\n",
              " 'oauth_token_secret': '97fyPRTnuVgChMczQ5F3ysz3L12n0YR3',\n",
              " 'oauth_callback_confirmed': 'true'}"
            ]
          },
          "execution_count": 21,
          "metadata": {},
          "output_type": "execute_result"
        }
      ],
      "source": [
        "# objek response\n",
        "fetch_response"
      ]
    },
    {
      "cell_type": "code",
      "execution_count": null,
      "metadata": {
        "id": "Ho-37vVVYAH1"
      },
      "outputs": [],
      "source": [
        "resource_owner_key = fetch_response.get(\"oauth_token\")\n",
        "resource_owner_secret = fetch_response.get(\"oauth_token_secret\")"
      ]
    },
    {
      "cell_type": "code",
      "execution_count": null,
      "metadata": {
        "id": "neMHfUjJYAH1",
        "outputId": "95a33a49-bd47-471c-e4b7-dcd433ea5605"
      },
      "outputs": [
        {
          "name": "stdout",
          "output_type": "stream",
          "text": [
            "Please go here and authorize: https://api.twitter.com/oauth/authorize?oauth_token=UoBm8AAAAAAA9wN5AAABf6LsreM\n",
            "Paste the PIN here: xqVDFCjA7T1UTyGzzLHencQ71fUFwjeM\n"
          ]
        }
      ],
      "source": [
        "# authorisasi\n",
        "base_authorization_url = \"https://api.twitter.com/oauth/authorize\"\n",
        "authorization_url = oauth.authorization_url(base_authorization_url)\n",
        "print(\"Please go here and authorize: %s\" % authorization_url)\n",
        "verifier = input(\"Paste the PIN here: \")"
      ]
    },
    {
      "cell_type": "code",
      "execution_count": null,
      "metadata": {
        "id": "Ypb9ioHMYAH1"
      },
      "outputs": [],
      "source": [
        "# Get the access token\n",
        "access_token_url = \"https://api.twitter.com/oauth/access_token\"\n",
        "oauth = OAuth1Session(\n",
        "    consumer_key,\n",
        "    client_secret=consumer_secret,\n",
        "    resource_owner_key=resource_owner_key,\n",
        "    resource_owner_secret=resource_owner_secret,\n",
        "    verifier=verifier,\n",
        ")\n",
        "oauth_tokens = oauth.fetch_access_token(access_token_url)\n",
        "\n",
        "access_token = oauth_tokens[\"oauth_token\"]\n",
        "access_token_secret = oauth_tokens[\"oauth_token_secret\"]\n",
        "\n",
        "# make the request\n",
        "oauth = OAuth1Session(\n",
        "    consumer_key,\n",
        "    client_secret=consumer_secret,\n",
        "    resource_owner_key=access_token,\n",
        "    resource_owner_secret=access_token_secret,\n",
        ")"
      ]
    },
    {
      "cell_type": "code",
      "execution_count": null,
      "metadata": {
        "id": "NIQAEMhHYAH1",
        "outputId": "77bc322b-f6c7-43de-d400-8d754ef902c1"
      },
      "outputs": [
        {
          "name": "stdout",
          "output_type": "stream",
          "text": [
            "Response code: 200\n"
          ]
        }
      ],
      "source": [
        "response = oauth.get(\n",
        "    \"https://api.twitter.com/2/users/by\", params=params\n",
        ")\n",
        "\n",
        "if response.status_code != 200:\n",
        "    raise Exception(\n",
        "        \"Request returned an error: {} {}\".format(response.status_code, response.text)\n",
        "    )\n",
        "\n",
        "print(\"Response code: {}\".format(response.status_code))\n",
        "\n",
        "json_response = response.json()"
      ]
    },
    {
      "cell_type": "code",
      "execution_count": null,
      "metadata": {
        "id": "USh0_9s2YAH1",
        "outputId": "b7e41edd-e3aa-4776-f0f9-ede58f66b8cf"
      },
      "outputs": [
        {
          "data": {
            "text/plain": [
              "{'data': [{'created_at': '2008-10-22T21:15:07.000Z',\n",
              "   'public_metrics': {'followers_count': 8074751,\n",
              "    'following_count': 487,\n",
              "    'tweet_count': 25836,\n",
              "    'listed_count': 3021},\n",
              "   'profile_image_url': 'https://pbs.twimg.com/profile_images/839298349148717056/yEE35xbx_normal.jpg',\n",
              "   'name': 'Najwa Shihab',\n",
              "   'protected': False,\n",
              "   'entities': {'url': {'urls': [{'start': 0,\n",
              "       'end': 23,\n",
              "       'url': 'https://t.co/Yg2rg6isix',\n",
              "       'expanded_url': 'http://www.narasi.tv',\n",
              "       'display_url': 'narasi.tv'}]},\n",
              "    'description': {'urls': [{'start': 8,\n",
              "       'end': 31,\n",
              "       'url': 'https://t.co/1H5VBxjbYU',\n",
              "       'expanded_url': 'http://Narasi.TV',\n",
              "       'display_url': 'Narasi.TV'}],\n",
              "     'mentions': [{'start': 41, 'end': 50, 'username': 'narasitv'}]}},\n",
              "   'location': 'ÜT: -6.292607,106.821193',\n",
              "   'id': '16912985',\n",
              "   'url': 'https://t.co/Yg2rg6isix',\n",
              "   'verified': True,\n",
              "   'description': 'Founder https://t.co/1H5VBxjbYU\\nTwitter: @narasitv',\n",
              "   'username': 'NajwaShihab'},\n",
              "  {'created_at': '2015-12-07T06:52:53.000Z',\n",
              "   'public_metrics': {'followers_count': 19509,\n",
              "    'following_count': 149,\n",
              "    'tweet_count': 2316,\n",
              "    'listed_count': 114},\n",
              "   'profile_image_url': 'https://pbs.twimg.com/profile_images/1153975468812406785/ONvxKr_G_normal.jpg',\n",
              "   'name': 'Gojek Tech',\n",
              "   'pinned_tweet_id': '1480781930547367945',\n",
              "   'protected': False,\n",
              "   'entities': {'url': {'urls': [{'start': 0,\n",
              "       'end': 23,\n",
              "       'url': 'https://t.co/c1e8IMLiW6',\n",
              "       'expanded_url': 'http://www.gojek.io',\n",
              "       'display_url': 'gojek.io'}]},\n",
              "    'description': {'mentions': [{'start': 0,\n",
              "       'end': 15,\n",
              "       'username': 'GojekIndonesia'}]}},\n",
              "   'location': 'BLR. GGN. JKT. SG.',\n",
              "   'id': '4483368134',\n",
              "   'url': 'https://t.co/c1e8IMLiW6',\n",
              "   'verified': True,\n",
              "   'description': \"@GojekIndonesia's product + engineering division. Crafting SE Asia's fastest growing Super App. 1100x growth in 36 months, now serving 200M+ orders per month.🖖\",\n",
              "   'username': 'gojektech'}]}"
            ]
          },
          "execution_count": 27,
          "metadata": {},
          "output_type": "execute_result"
        }
      ],
      "source": [
        "# objek response\n",
        "json_response"
      ]
    },
    {
      "cell_type": "markdown",
      "metadata": {
        "id": "3uflvMrpUKxV"
      },
      "source": [
        "# Data Collection - Twitter (Twint)\n",
        "\n",
        "Selain menggunakan Tweepy, pengumpulan data <i>tweet</i> dapat juga dilakukan dengan menggunakan <i>library</i> <a href='https://github.com/twintproject/twint'>Twint</a>. Perbedaan <i>library</i> ini dengan Tweepy adalah tidak membutuhkan <i>access token</i> Twitter API.\n",
        "\n",
        "Berikut merupakan contoh penggunaan Twint dalam melakukan <i>crawling tweet</i>:"
      ]
    },
    {
      "cell_type": "code",
      "execution_count": 2,
      "metadata": {
        "ExecuteTime": {
          "end_time": "2021-02-21T07:13:23.672924Z",
          "start_time": "2021-02-21T07:13:22.868565Z"
        },
        "id": "xs0Dwv2YUKxW"
      },
      "outputs": [],
      "source": [
        "# import library\n",
        "import twint\n",
        "import nest_asyncio\n",
        "\n",
        "nest_asyncio.apply()"
      ]
    },
    {
      "cell_type": "code",
      "execution_count": 5,
      "metadata": {
        "ExecuteTime": {
          "end_time": "2021-02-21T07:37:35.634233Z",
          "start_time": "2021-02-21T07:13:24.486422Z"
        },
        "id": "90IVCRvVUKxW",
        "outputId": "ed5d6c80-e82d-4528-d300-bad418aa57cb"
      },
      "outputs": [
        {
          "name": "stderr",
          "output_type": "stream",
          "text": [
            "CRITICAL:root:twint.run:Twint:Feed:noDataExpecting value: line 1 column 1 (char 0)\n",
            "sleeping for 1.0 secs\n",
            "CRITICAL:root:twint.run:Twint:Feed:noDataExpecting value: line 1 column 1 (char 0)\n",
            "sleeping for 8.0 secs\n",
            "CRITICAL:root:twint.run:Twint:Feed:noDataExpecting value: line 1 column 1 (char 0)\n",
            "sleeping for 27.0 secs\n",
            "CRITICAL:root:twint.run:Twint:Feed:noDataExpecting value: line 1 column 1 (char 0)\n",
            "sleeping for 64.0 secs\n",
            "CRITICAL:root:twint.run:Twint:Feed:noDataExpecting value: line 1 column 1 (char 0)\n",
            "sleeping for 125.0 secs\n",
            "CRITICAL:root:twint.run:Twint:Feed:noDataExpecting value: line 1 column 1 (char 0)\n",
            "sleeping for 216.0 secs\n",
            "CRITICAL:root:twint.run:Twint:Feed:noDataExpecting value: line 1 column 1 (char 0)\n",
            "sleeping for 343.0 secs\n",
            "CRITICAL:root:twint.run:Twint:Feed:noDataExpecting value: line 1 column 1 (char 0)\n",
            "sleeping for 512.0 secs\n",
            "CRITICAL:root:twint.run:Twint:Feed:noDataExpecting value: line 1 column 1 (char 0)\n",
            "sleeping for 729.0 secs\n",
            "CRITICAL:root:twint.run:Twint:Feed:noDataExpecting value: line 1 column 1 (char 0)\n",
            "CRITICAL:root:twint.run:Twint:Feed:Tweets_known_error:Expecting value: line 1 column 1 (char 0)\n",
            "Expecting value: line 1 column 1 (char 0) [x] run.Feed[!] if get this error but you know for sure that more tweets exist, please open an issue and we will investigate it!"
          ]
        }
      ],
      "source": [
        "# need time about 10-15 mins\n",
        "\n",
        "c = twint.Config()\n",
        "keyword = 'lebaran'\n",
        "c.Search = keyword # masukkan kata kunci\n",
        "c.Since = '2022-03-15 00:00:00'\n",
        "c.Until = '2022-03-15 23:59:59' \n",
        "c.Store_csv = True\n",
        "c.Output = '{}.csv'.format(keyword)\n",
        "c.Hide_output = True\n",
        "\n",
        "twint.run.Search(c)"
      ]
    },
    {
      "cell_type": "code",
      "execution_count": 4,
      "metadata": {
        "id": "xMVSepb-YAH2",
        "outputId": "b004add6-7459-4923-c859-57c7f73aa296"
      },
      "outputs": [
        {
          "ename": "NameError",
          "evalue": "name 'pd' is not defined",
          "output_type": "error",
          "traceback": [
            "\u001b[0;31m---------------------------------------------------------------------------\u001b[0m",
            "\u001b[0;31mNameError\u001b[0m                                 Traceback (most recent call last)",
            "\u001b[1;32m/home/sebelum_masehi/Documents/Ilmu Komputer UI/Analitika Media Sosial/Tutorial/Tutorial 3/Tutorial 3 - Data Collection.ipynb Cell 42'\u001b[0m in \u001b[0;36m<cell line: 2>\u001b[0;34m()\u001b[0m\n\u001b[1;32m      <a href='vscode-notebook-cell:/home/sebelum_masehi/Documents/Ilmu%20Komputer%20UI/Analitika%20Media%20Sosial/Tutorial/Tutorial%203/Tutorial%203%20-%20Data%20Collection.ipynb#ch0000041?line=0'>1</a>\u001b[0m \u001b[39m# explore data \u001b[39;00m\n\u001b[0;32m----> <a href='vscode-notebook-cell:/home/sebelum_masehi/Documents/Ilmu%20Komputer%20UI/Analitika%20Media%20Sosial/Tutorial/Tutorial%203/Tutorial%203%20-%20Data%20Collection.ipynb#ch0000041?line=1'>2</a>\u001b[0m df_goto \u001b[39m=\u001b[39m pd\u001b[39m.\u001b[39mread_csv(\u001b[39m'\u001b[39m\u001b[39mgoto.csv\u001b[39m\u001b[39m'\u001b[39m)\n\u001b[1;32m      <a href='vscode-notebook-cell:/home/sebelum_masehi/Documents/Ilmu%20Komputer%20UI/Analitika%20Media%20Sosial/Tutorial/Tutorial%203/Tutorial%203%20-%20Data%20Collection.ipynb#ch0000041?line=2'>3</a>\u001b[0m df_goto\u001b[39m.\u001b[39minfo()\n\u001b[1;32m      <a href='vscode-notebook-cell:/home/sebelum_masehi/Documents/Ilmu%20Komputer%20UI/Analitika%20Media%20Sosial/Tutorial/Tutorial%203/Tutorial%203%20-%20Data%20Collection.ipynb#ch0000041?line=3'>4</a>\u001b[0m df_goto\u001b[39m.\u001b[39mhead()\n",
            "\u001b[0;31mNameError\u001b[0m: name 'pd' is not defined"
          ]
        }
      ],
      "source": [
        "# explore data \n",
        "df_goto = pd.read_csv('goto.csv')\n",
        "df_goto.info()\n",
        "df_goto.head()"
      ]
    },
    {
      "cell_type": "code",
      "execution_count": null,
      "metadata": {
        "id": "4VhQKJLhYAH2"
      },
      "outputs": [],
      "source": [
        "# wordcloud tweet goto\n",
        "\n",
        "# import library\n",
        "import nltk\n",
        "from nltk.tokenize import word_tokenize\n",
        "from Sastrawi.StopWordRemover.StopWordRemoverFactory import StopWordRemoverFactory\n",
        "stop_factory = StopWordRemoverFactory()\n",
        "stopwords = stop_factory.get_stop_words()\n",
        "\n",
        "from wordcloud import WordCloud\n",
        "import matplotlib.pyplot as plt\n",
        "%matplotlib inline"
      ]
    },
    {
      "cell_type": "code",
      "execution_count": null,
      "metadata": {
        "id": "eud9UPmTYAH3",
        "outputId": "9512cd1e-06ae-43d0-e185-ad50aea1fe93"
      },
      "outputs": [
        {
          "data": {
            "image/png": "[encoded data removed]",
            "text/plain": [
              "<Figure size 720x360 with 1 Axes>"
            ]
          },
          "metadata": {
            "needs_background": "light"
          },
          "output_type": "display_data"
        }
      ],
      "source": [
        "text = ' '.join(df_goto['tweet'].unique().tolist())\n",
        "\n",
        "# create and generate a word cloud image:\n",
        "wordcloud = WordCloud(stopwords=stopwords, max_words=100, background_color=\"white\").generate(text)\n",
        "\n",
        "# display the generated image:\n",
        "plt.figure(figsize=(10, 5))\n",
        "plt.imshow(wordcloud, interpolation='bilinear')\n",
        "plt.axis(\"off\")\n",
        "plt.show()"
      ]
    },
    {
      "cell_type": "markdown",
      "metadata": {
        "id": "c3Ol0kKCUKxW"
      },
      "source": [
        "# Data Collection - Twecoll\n",
        "\n",
        "Pada tutorial kali ini, akan dibahas tentang langkah-langkah untuk mengetahui <i>friends-of-friends network</i>. Analisis <i>friends-of-friends</i> merupakan analisis yang dilakukan pada\n",
        "jaringan media sosial yang bertujuan untuk mengetahui jaringan pertemanan. Pada tutorial\n",
        "ini, akan dilakukan pengumpulan data jaringan <i>friends-of-friends</i> dari Twitter dengan\n",
        "menggunakan Twecoll.\n",
        "\n",
        "Langkah-langkah untuk untuk mengambil data pertemanan menggunakan Twecoll adalah\n",
        "sebagai berikut:\n",
        "1. Masuk ke direktori dari twecoll dan eksekusi perintah berikut:<br>\n",
        "```\n",
        "python twecoll init <USERNAME_TWITTER_TARGET>\n",
        "```\n",
        "Setelah selesai akan dihasilkan berkas .dat dengan format <USERNAME_TWITTER_TARGET>.dat\n",
        "\n",
        "2. Ketika baru dijalankan pertama kali, maka program akan meminta <i>consumer secret</i> dan\n",
        "<i>consumer key</i>. Masukkan <i>consumer secret</i> dan <i>consumer key</i> masing-masing.\n",
        "\n",
        "3. Setelah terverifikasi, program akan mengarahkan ke <i>browser</i> yang berisi PIN. Berikut\n",
        "adalah contoh halaman yang menampilkan PIN.\n",
        "<img src='images/image2.png'></img>\n",
        "Masukkan PIN yang ditampilkan di <i>browser</i> ke dalam program.\n",
        "\n",
        "4. Setelah selesai, eksekusi perintah berikut: \n",
        "```\n",
        "python twecoll fetch <USERNAME_TWITTER_TARGET>\n",
        "```\n",
        "Proses ini akan menghasilkan suatu berkas berekstensi .f di dalam folder fdat yang\n",
        "berisi daftar <i>user id</i> pada jaringan <i>friends-of-friends</i>. Untuk mengunduh data ini,\n",
        "diperlukan waktu sekitar 5-6 jam (bisa lebih lama, tergantung jumlah\n",
        "<i>follower</i>/<i>following</i> target). Hal ini disebabkan oleh <i>rate limit</i> dari Twitter API yang hanya memberikan akses data sebanyak 15 <i>requests</i> per 15 menit.\n",
        "\n",
        "5. Setelah selesai, eksekusi perintah berikut:\n",
        "```\n",
        "python twecoll edgelist <USERNAME_TWITTER_TARGET>\n",
        "```\n",
        "Perintah tersebut akan membentuk daftar <i>edge</i> dari daftar pertemanan yang sudah\n",
        "disimpan dalam folder fdat. Keluaran dari perintah ini adalah berupa berkas .gml\n",
        "dengan format <USERNAME_TWITTER_TARGET>.gml. Berikut adalah contoh isi berkas\n",
        ".gml dari <i>username</i> target “najwashihab”\n",
        "<img src='images/image4.png'></img>\n",
        "\n",
        "Untuk dapat melihat visualisasi antar <i>nodes</i>, berkas .gml pada langkah 5 dapat dibuka dengan menggunakan <i>graph processing tools</i> seperti Gephi atau dengan Python <i>library</i>, misalnya NetworkX dan igraph. Berikut adalah cara memvisualisikan berkas .gml pada Gephi:\n",
        "\n",
        "1. Saat membuka file .gml untuk pertama kali, akan muncul tampilan seperti ini\n",
        "<img src='images/image3.png'></img>\n",
        "\n",
        "2. Mengatur layout\n",
        "Graf yang ditunjukkan tidak beraturan dan susah untuk dianalisis. Di dalam Gephi \n",
        "terdapat beberapa <i>plugins</i> yang dapat digunakan untuk merepresentasikan kembali graf \n",
        "menjadi lebih terkelompok dan membuat <i>node</i> menjadi mudah untuk dilihat. <i>Layout</i> \n",
        "dapat diakses pada <i>box</i> pada pojok kiri bawah dari layar Gephi.\n",
        "<img src='images/image6.png'></img>\n",
        "\n",
        "3. Jika Anda klik dropdown `---Choose Layout`, maka akan muncul beberapa pilihan algoritma yang dapat dipilih seperti Force Atlas, Yifan Hu, dan lain-lain. Coba Anda pilih algoritma Force Atlas lalu <i>click</i> `Run`. Setelah beberapa saat lalu klik `Stop`, maka graf akan bergerak.\n",
        "<img src='images/image5.png'></img>\n",
        "\n",
        "4. Anda dapat menginstal beberapa plugins tambahan untuk visualisasi layout dengan\n",
        "masuk ke dalam <i>Tools</i> lalu <i>Plugins</i>.\n",
        "\n",
        "<i>Disclaimer</i>: Tidak ada tugas visualisasi <i>network</i> yang diujikan pada tutorial ini, namun hal tersebut akan berguna untuk <i>midterm project</i>."
      ]
    },
    {
      "cell_type": "markdown",
      "metadata": {
        "id": "5rHi6d-RYAH3"
      },
      "source": [
        "# Data Collection - Instagram\n",
        "\n",
        "Salah satu cara untuk mengambil data dari Instagram adalah dengan menggunakan <i>library</i> Instaloader. Sebelum menggunakan <i>library</i> tersebut, kita perlu login terlebih dahulu."
      ]
    },
    {
      "cell_type": "code",
      "execution_count": null,
      "metadata": {
        "id": "znVhr2X1YAH3"
      },
      "outputs": [],
      "source": [
        "from instaloader import Instaloader\n",
        "\n",
        "loader = Instaloader()\n",
        "user = '' # diisi\n",
        "pwd = '' # diisi\n",
        "loader.login(user, pwd)"
      ]
    },
    {
      "cell_type": "markdown",
      "metadata": {
        "id": "J3EEGm2oYAH3"
      },
      "source": [
        "Data yang akan kita ambil dalam tutorial ini adalah data profil, postingan, komentar, dan balasan komentar."
      ]
    },
    {
      "cell_type": "markdown",
      "metadata": {
        "id": "7Sz3spJRYAH4"
      },
      "source": [
        "## Data Profil - Instagram\n",
        "\n",
        "Profil dari sebuah akun dapat dicari dengan kita mengetahui <i>username</i> atau id dari akun tersebut. Dokumentasi terkait representasi objek profil dapat diakses pada halaman <a href=\"https://instaloader.github.io/module/structures.html?highlight=profile#instaloader.Profile\">ini</a>. \n",
        "\n",
        "Pada tutorial ini, kita akan mencoba mengambil data profil <a href=\"https://www.instagram.com/najwashihab/\">Mba Nana</a>."
      ]
    },
    {
      "cell_type": "code",
      "execution_count": null,
      "metadata": {
        "id": "ldxs0DX2YAH4",
        "outputId": "ee9ca1ca-6b1f-402c-fca5-e93b9f4dc3ba"
      },
      "outputs": [
        {
          "data": {
            "text/plain": [
              "<Profile najwashihab (48294511)>"
            ]
          },
          "execution_count": 84,
          "metadata": {},
          "output_type": "execute_result"
        }
      ],
      "source": [
        "from instaloader import Profile\n",
        "\n",
        "profile = Profile.from_username(loader.context, 'najwashihab')\n",
        "# objek profile\n",
        "profile"
      ]
    },
    {
      "cell_type": "markdown",
      "metadata": {
        "id": "Sdjmf-PIYAH4"
      },
      "source": [
        "Sebuah objek profil memiliki beberapa properti, seperti `userid`, `username`, `is_private`, dsb. Kita akan menyimpan data profil ke sebuah pandas dataframe."
      ]
    },
    {
      "cell_type": "code",
      "execution_count": null,
      "metadata": {
        "id": "W9aam4AZYAH4",
        "outputId": "71e89e6f-86aa-43a5-b4ab-5c1d0b9876f4"
      },
      "outputs": [
        {
          "data": {
            "text/html": [
              "<div>\n",
              "<style scoped>\n",
              "    .dataframe tbody tr th:only-of-type {\n",
              "        vertical-align: middle;\n",
              "    }\n",
              "\n",
              "    .dataframe tbody tr th {\n",
              "        vertical-align: top;\n",
              "    }\n",
              "\n",
              "    .dataframe thead th {\n",
              "        text-align: right;\n",
              "    }\n",
              "</style>\n",
              "<table border=\"1\" class=\"dataframe\">\n",
              "  <thead>\n",
              "    <tr style=\"text-align: right;\">\n",
              "      <th></th>\n",
              "      <th>userid</th>\n",
              "      <th>username</th>\n",
              "      <th>is_private</th>\n",
              "      <th>mediacount</th>\n",
              "      <th>igtvcount</th>\n",
              "      <th>followers</th>\n",
              "      <th>followees</th>\n",
              "      <th>external_url</th>\n",
              "      <th>is_business_account</th>\n",
              "      <th>business_category_name</th>\n",
              "      <th>biography</th>\n",
              "      <th>full_name</th>\n",
              "      <th>has_public_story</th>\n",
              "      <th>is_verified</th>\n",
              "      <th>profile_pic_url</th>\n",
              "    </tr>\n",
              "  </thead>\n",
              "  <tbody>\n",
              "    <tr>\n",
              "      <th>0</th>\n",
              "      <td>48294511</td>\n",
              "      <td>najwashihab</td>\n",
              "      <td>False</td>\n",
              "      <td>4151</td>\n",
              "      <td>1138</td>\n",
              "      <td>21213668</td>\n",
              "      <td>784</td>\n",
              "      <td>http://www.narasi.tv/</td>\n",
              "      <td>False</td>\n",
              "      <td>None</td>\n",
              "      <td>Founder Narasi @narasi.tv @narasinewsroom\\nWatch more on www.narasi.tv also YouTube NajwaShihab, Narasi, NarasiNewsroom.</td>\n",
              "      <td>Najwa Shihab</td>\n",
              "      <td>True</td>\n",
              "      <td>True</td>\n",
              "      <td>https://scontent-sin6-3.cdninstagram.com/v/t51.2885-19/69404594_447731939153837_7938163589615976448_n.jpg?_nc_ht=scontent-sin6-3.cdninstagram.com&amp;_nc_cat=1&amp;_nc_ohc=xXeCCytQFHQAX8BOGNZ&amp;edm=AEF8tYYBAAAA&amp;ccb=7-4&amp;oh=00_AT90EzRXbuMxLNmekJQ_LEAIa5J1yz8N776AiEqWJw4_Xg&amp;oe=623CDE55&amp;_nc_sid=a9513d</td>\n",
              "    </tr>\n",
              "  </tbody>\n",
              "</table>\n",
              "</div>"
            ],
            "text/plain": [
              "     userid     username  is_private  mediacount  igtvcount  followers  \\\n",
              "0  48294511  najwashihab       False        4151       1138   21213668   \n",
              "\n",
              "   followees           external_url  is_business_account  \\\n",
              "0        784  http://www.narasi.tv/                False   \n",
              "\n",
              "  business_category_name  \\\n",
              "0                   None   \n",
              "\n",
              "                                                                                                                  biography  \\\n",
              "0  Founder Narasi @narasi.tv @narasinewsroom\\nWatch more on www.narasi.tv also YouTube NajwaShihab, Narasi, NarasiNewsroom.   \n",
              "\n",
              "      full_name  has_public_story  is_verified  \\\n",
              "0  Najwa Shihab              True         True   \n",
              "\n",
              "                                                                                                                                                                                                                                                                                    profile_pic_url  \n",
              "0  https://scontent-sin6-3.cdninstagram.com/v/t51.2885-19/69404594_447731939153837_7938163589615976448_n.jpg?_nc_ht=scontent-sin6-3.cdninstagram.com&_nc_cat=1&_nc_ohc=xXeCCytQFHQAX8BOGNZ&edm=AEF8tYYBAAAA&ccb=7-4&oh=00_AT90EzRXbuMxLNmekJQ_LEAIa5J1yz8N776AiEqWJw4_Xg&oe=623CDE55&_nc_sid=a9513d  "
            ]
          },
          "execution_count": 85,
          "metadata": {},
          "output_type": "execute_result"
        }
      ],
      "source": [
        "import pandas as pd\n",
        "pd.set_option('max_colwidth', 1000)\n",
        "\n",
        "df_profile = pd.DataFrame({\n",
        "    'userid': [profile.userid],\n",
        "    'username': [profile.username],\n",
        "    'is_private': [profile.is_private],\n",
        "    'mediacount': [profile.mediacount],\n",
        "    'igtvcount': [profile.igtvcount],\n",
        "    'followers': [profile.followers],\n",
        "    'followees': [profile.followees],\n",
        "    'external_url': [profile.external_url],\n",
        "    'is_business_account': [profile.is_business_account],\n",
        "    'business_category_name': [profile.business_category_name],\n",
        "    'biography': [profile.biography],\n",
        "    'full_name': [profile.full_name],\n",
        "    'has_public_story': [profile.has_public_story],\n",
        "    'is_verified': [profile.is_verified],\n",
        "    'profile_pic_url': [profile.profile_pic_url]\n",
        "}) \n",
        "\n",
        "df_profile"
      ]
    },
    {
      "cell_type": "markdown",
      "metadata": {
        "id": "fQeoBDEjYAH4"
      },
      "source": [
        "## Data Postingan - Instagram"
      ]
    },
    {
      "cell_type": "markdown",
      "metadata": {
        "id": "KMg-te_qYAH4"
      },
      "source": [
        "Data postingan dari sebuah akun dapat diambil dengan menjalankan fungsi `get_posts()`. Data yang dikembalikan berupa iterator. Dokumentasi terkait objek postingan dapat diakses melalui halaman <a href=\"https://instaloader.github.io/module/structures.html?highlight=profile#instaloader.Post\">ini</a>. \n",
        "\n",
        "Kali ini, kita akan mengambil 5 postingan terbaru dari akun <a href=\"https://www.instagram.com/najwashihab/\">Mba Nana</a>."
      ]
    },
    {
      "cell_type": "code",
      "execution_count": null,
      "metadata": {
        "id": "YoTPRgEAYAH4",
        "outputId": "60d1df25-0610-461e-a776-e1316732de4e"
      },
      "outputs": [
        {
          "data": {
            "text/plain": [
              "<instaloader.nodeiterator.NodeIterator at 0x7f4828824fd0>"
            ]
          },
          "execution_count": 86,
          "metadata": {},
          "output_type": "execute_result"
        }
      ],
      "source": [
        "posts = profile.get_posts()\n",
        "# iterator posts\n",
        "posts"
      ]
    },
    {
      "cell_type": "code",
      "execution_count": null,
      "metadata": {
        "id": "NP3uHByjYAH5",
        "outputId": "5963d014-4154-48c0-a6bb-692d85940ae7"
      },
      "outputs": [
        {
          "data": {
            "text/html": [
              "<div>\n",
              "<style scoped>\n",
              "    .dataframe tbody tr th:only-of-type {\n",
              "        vertical-align: middle;\n",
              "    }\n",
              "\n",
              "    .dataframe tbody tr th {\n",
              "        vertical-align: top;\n",
              "    }\n",
              "\n",
              "    .dataframe thead th {\n",
              "        text-align: right;\n",
              "    }\n",
              "</style>\n",
              "<table border=\"1\" class=\"dataframe\">\n",
              "  <thead>\n",
              "    <tr style=\"text-align: right;\">\n",
              "      <th></th>\n",
              "      <th>shortcode</th>\n",
              "      <th>mediaid</th>\n",
              "      <th>title</th>\n",
              "      <th>owner_username</th>\n",
              "      <th>date_local</th>\n",
              "      <th>date_utc</th>\n",
              "      <th>url</th>\n",
              "      <th>typename</th>\n",
              "      <th>mediacount</th>\n",
              "      <th>caption</th>\n",
              "      <th>caption_hashtags</th>\n",
              "      <th>caption_mentions</th>\n",
              "      <th>tagged_users</th>\n",
              "      <th>is_video</th>\n",
              "      <th>video_url</th>\n",
              "      <th>video_view_count</th>\n",
              "      <th>video_duration</th>\n",
              "      <th>likes</th>\n",
              "      <th>comments</th>\n",
              "    </tr>\n",
              "  </thead>\n",
              "  <tbody>\n",
              "    <tr>\n",
              "      <th>0</th>\n",
              "      <td>CbRciqgvpYR</td>\n",
              "      <td>2.797142e+18</td>\n",
              "      <td>None</td>\n",
              "      <td>najwashihab</td>\n",
              "      <td>2022-03-19 12:49:36</td>\n",
              "      <td>2022-03-19 04:49:36</td>\n",
              "      <td>https://scontent-sin6-3.cdninstagram.com/v/t51.2885-15/276009298_377839734128837_5040744026660474714_n.webp?stp=dst-jpg_e35_p1080x1080&amp;_nc_ht=scontent-sin6-3.cdninstagram.com&amp;_nc_cat=1&amp;_nc_ohc=pxFkQGK0lWAAX-HsjBM&amp;edm=AAuNW_gBAAAA&amp;ccb=7-4&amp;oh=00_AT8zGchFOybVqQOrNOlmzfBpghbBJlAXpq-pvzsDog-jrw&amp;oe=623D1DD9&amp;_nc_sid=498da5</td>\n",
              "      <td>GraphSidecar</td>\n",
              "      <td>2.0</td>\n",
              "      <td>24 Juli 2022 nanti saya mau ajak teman2 lari. Ajakan ini terutama untuk yang belum pernah (bahkan gak pernah mikir) ikut event lari. Yang terakhir lari jaman SD waktu main kasti. Yang terlanjur mengasosiasikan lari dgn trauma hukuman.\\n\\nSemua di atas itu deskripsi perasaan saya tahun lalu. Tapi seperti banyak hal lain, pandemi mengubah dan membuat kita mencoba hal baru. Ada yang jadi suka tanaman, rajin sepedaan, atau yang seperti saya, lelarian. \\n\\nKenapa lari? Mungkin karena lari sepenuhnya mengandalkan kekuatan fisik dan pikiran. Tidak perlu alat dan ragam cara. Ketika pandemi memaksa kita kehilangan banyak pilihan, lari adalah cara saya memastikan tetap punya daya. Niat, target, rencana, eksekusi, kontrol, semua ada di tangan (dan kaki) saya.\\n\\nKarena lari bukan semata urusan jarak atau pace waktu. Tapi perasaan tuntas bisa menyelesaikan sesuatu. Saya gak bilang lari itu gampang dan bisa cepat lancar. Sampai sekarang saya masih jauh dari target2 yang saya idamkan.\\n\\nYang sa...</td>\n",
              "      <td>[pocarisweatrun2022, catatannajwa]</td>\n",
              "      <td>[]</td>\n",
              "      <td>[ridwankamil, narasi.tv, melanieputria, agusprayogo21, pocarisportid, fukazawa_wina]</td>\n",
              "      <td>0.0</td>\n",
              "      <td>None</td>\n",
              "      <td>None</td>\n",
              "      <td>NaN</td>\n",
              "      <td>94081.0</td>\n",
              "      <td>339.0</td>\n",
              "    </tr>\n",
              "    <tr>\n",
              "      <th>1</th>\n",
              "      <td>Ca1UkNqDigc</td>\n",
              "      <td>2.789226e+18</td>\n",
              "      <td>None</td>\n",
              "      <td>najwashihab</td>\n",
              "      <td>2022-03-08 14:41:10</td>\n",
              "      <td>2022-03-08 06:41:10</td>\n",
              "      <td>https://scontent-sin6-4.cdninstagram.com/v/t51.2885-15/275274687_4883628828424575_8915053602670584894_n.webp?stp=dst-jpg_e35&amp;_nc_ht=scontent-sin6-4.cdninstagram.com&amp;_nc_cat=103&amp;_nc_ohc=3PG9zwYTFFkAX8rjueM&amp;edm=ALQROFkBAAAA&amp;ccb=7-4&amp;ig_cache_key=Mjc4OTIyNTk5MzcyMTQ4OTQzNg%3D%3D.2-ccb7-4&amp;oh=00_AT92Oi0sWzaekQNl4VQk4CYBeojUKs366gZZhddIjQAu3A&amp;oe=623C5B74&amp;_nc_sid=30a2ef</td>\n",
              "      <td>GraphImage</td>\n",
              "      <td>1.0</td>\n",
              "      <td>@rahasiagadis I accept your challenge! \\n\\nMitos itu berkata, pelecehan hanya terjadi pada perempuan yang sedang sendiri, malam hari, di tempat sepi dan berbusana mini.\\n\\nFaktanya? Lokasi yang paling banyak menjadi latar terjadinya pelecehan seksual adalah jalan umum, transportasi publik, lalu sekolah dan kampus. Kasusnya terjadi paling banyak di siang hari dan jenis pakaian yang dikenakan korban sama sekali bukan faktor signifikan. \\n\\nSetiap perempuan rentan terhadap perlecehan seksual. Setop menyalahkan korban. Yang bersalah adalah pelaku tidak pernah korban. \\n\\nTiap kita pantas dan berharga.\\n\\nUntuk merayakan Hari Perempuan Internasional dan memberi dukungan kekuatan kepada sesama perempuan, yuk ikut posting foto kamu dengan post-it bertulisan #KamuBerharga\\n\\nUntuk setiap foto yang diunggah menggunakan #KamuBerhargaRG sampai 15 Maret 2022, @rahasiagadis akan menyumbangkan Rp 10,000 ke Yayasan Kemanusiaan untuk Indonesia dalam program Pundi Perempuan untuk mendukung para gad...</td>\n",
              "      <td>[kamuberharga, kamuberhargarg, kamuberhargarg, iwd2022]</td>\n",
              "      <td>[rahasiagadis, rahasiagadis, meutyahafid, widyacatlady, housniati, melanieputria]</td>\n",
              "      <td>[rahasiagadis, meutya_hafid, widyacatlady, housniati]</td>\n",
              "      <td>0.0</td>\n",
              "      <td>None</td>\n",
              "      <td>None</td>\n",
              "      <td>NaN</td>\n",
              "      <td>233117.0</td>\n",
              "      <td>846.0</td>\n",
              "    </tr>\n",
              "    <tr>\n",
              "      <th>2</th>\n",
              "      <td>CazgTXxDzq5</td>\n",
              "      <td>2.788715e+18</td>\n",
              "      <td></td>\n",
              "      <td>najwashihab</td>\n",
              "      <td>2022-03-07 21:46:56</td>\n",
              "      <td>2022-03-07 13:46:56</td>\n",
              "      <td>https://scontent-sin6-2.cdninstagram.com/v/t51.2885-15/275389588_910285359637169_307903636470044915_n.jpg?stp=dst-jpg_e35&amp;_nc_ht=scontent-sin6-2.cdninstagram.com&amp;_nc_cat=105&amp;_nc_ohc=pfUi-KAq8LIAX-4I_Sj&amp;edm=AAuNW_gBAAAA&amp;ccb=7-4&amp;oh=00_AT9tMswZIMPl6P4UY9alhfExIygPCU98x3VyXw8rno_pyg&amp;oe=6237E7EA&amp;_nc_sid=498da5</td>\n",
              "      <td>GraphVideo</td>\n",
              "      <td>1.0</td>\n",
              "      <td>Masih ingat dengan kasus pelecehan seksual di KPI? Sejak ramai di September 2021 lalu, hingga kini kasus dari korban pria berinisial MS ini belum juga menemui titik terang.\\n\\nApa yang terjadi setelah berita itu viral? Bagaimana MS menjalani kehidupannya sehari-hari dalam kondisi yang masih trauma?\\n\\nSimak penuturan MS dalam Surat Untuk Najwa episode \"Blak-blakan MS, Korban Pelecehan Seksual KPI: Saya Diminta Tidak Bicara\" di channel Youtube Najwa Shihab atau kunjungi web narasi.tv\\n\\n| Surat untuk Najwa\\n\\n#SuratUntukNajwa #KasusPelecehanSeksual #Narasi #JadiPaham</td>\n",
              "      <td>[suratuntuknajwa, kasuspelecehanseksual, narasi, jadipaham]</td>\n",
              "      <td>[]</td>\n",
              "      <td>[]</td>\n",
              "      <td>1.0</td>\n",
              "      <td>https://scontent-sin6-4.cdninstagram.com/v/t50.2886-16/275513964_1103659930419874_1523745697042686466_n.mp4?_nc_ht=scontent-sin6-4.cdninstagram.com&amp;_nc_cat=110&amp;_nc_ohc=Swtg7ux7sgcAX8OWJYs&amp;edm=AAuNW_gBAAAA&amp;ccb=7-4&amp;oe=6237F4DB&amp;oh=00_AT96J74RbcPb2WgNpOzAB29XV6sLvw_VvKysWOYAGbdRVw&amp;_nc_sid=498da5</td>\n",
              "      <td>811513</td>\n",
              "      <td>60.024</td>\n",
              "      <td>81104.0</td>\n",
              "      <td>947.0</td>\n",
              "    </tr>\n",
              "    <tr>\n",
              "      <th>3</th>\n",
              "      <td>Cami6ejjWSO</td>\n",
              "      <td>2.785067e+18</td>\n",
              "      <td></td>\n",
              "      <td>najwashihab</td>\n",
              "      <td>2022-03-02 20:59:47</td>\n",
              "      <td>2022-03-02 12:59:47</td>\n",
              "      <td>https://scontent-sin6-2.cdninstagram.com/v/t51.2885-15/275050226_504536637701990_6887069291677889026_n.jpg?stp=dst-jpg_e35&amp;_nc_ht=scontent-sin6-2.cdninstagram.com&amp;_nc_cat=102&amp;_nc_ohc=tzIAJhQeRoEAX_c-19m&amp;edm=AAuNW_gBAAAA&amp;ccb=7-4&amp;oh=00_AT_sAVhdI25K4X0WoYQvpj_mJjRyFwya2VvnXB7AB5DE9A&amp;oe=623802BE&amp;_nc_sid=498da5</td>\n",
              "      <td>GraphVideo</td>\n",
              "      <td>1.0</td>\n",
              "      <td>@matanajwa Sampai 2021 lalu, Presiden Jokowi masih lantang menolak 3 periode. Kalau sekarang, kira-kira bagaimana respon Pak Jokowi soal usulan pemilu ditunda, ya? | Mata Najwa\\n\\n#NextJourneyMataNajwa #MataNajwa #CatatanNajwa #Narasi #JadiPaham</td>\n",
              "      <td>[nextjourneymatanajwa, matanajwa, catatannajwa, narasi, jadipaham]</td>\n",
              "      <td>[matanajwa]</td>\n",
              "      <td>[]</td>\n",
              "      <td>1.0</td>\n",
              "      <td>https://scontent-sin6-4.cdninstagram.com/v/t50.2886-16/275115468_439288544611611_5277097368091306417_n.mp4?_nc_ht=scontent-sin6-4.cdninstagram.com&amp;_nc_cat=103&amp;_nc_ohc=bORlPq9z-VoAX_6bX-w&amp;edm=AAuNW_gBAAAA&amp;ccb=7-4&amp;oe=6237FE8F&amp;oh=00_AT-WAl2lCoOcv_h_EKahiu_4VPWl8c5hGq5LV2I9KqDOdQ&amp;_nc_sid=498da5</td>\n",
              "      <td>4294998</td>\n",
              "      <td>49.552</td>\n",
              "      <td>360352.0</td>\n",
              "      <td>11957.0</td>\n",
              "    </tr>\n",
              "    <tr>\n",
              "      <th>4</th>\n",
              "      <td>CajpcMhDyG_</td>\n",
              "      <td>2.784251e+18</td>\n",
              "      <td></td>\n",
              "      <td>najwashihab</td>\n",
              "      <td>2022-03-01 18:13:05</td>\n",
              "      <td>2022-03-01 10:13:05</td>\n",
              "      <td>https://scontent-sin6-1.cdninstagram.com/v/t51.2885-15/274937386_151250350643551_4976682493923045335_n.jpg?stp=dst-jpg_e35&amp;_nc_ht=scontent-sin6-1.cdninstagram.com&amp;_nc_cat=107&amp;_nc_ohc=jGwUmv-htPsAX-klySo&amp;edm=AAuNW_gBAAAA&amp;ccb=7-4&amp;oh=00_AT-bL2FigpuJINz217NnzQy97BkhThqSasBewn5aEvinPw&amp;oe=62382077&amp;_nc_sid=498da5</td>\n",
              "      <td>GraphVideo</td>\n",
              "      <td>1.0</td>\n",
              "      <td>HADEUUH 🙄\\nAda yang mau titip bilang HADEUUH juga? Sila tulis di komen, nanti saya sampaikan ke elit2 parpol ini.\\n\\nSekali lagi deh #HADEUUH\\n\\n#CatatanNajwa</td>\n",
              "      <td>[hadeuuh, catatannajwa]</td>\n",
              "      <td>[]</td>\n",
              "      <td>[]</td>\n",
              "      <td>1.0</td>\n",
              "      <td>https://scontent-sin6-4.cdninstagram.com/v/t50.2886-16/275034305_1105997889976246_8512271015512861631_n.mp4?_nc_ht=scontent-sin6-4.cdninstagram.com&amp;_nc_cat=110&amp;_nc_ohc=jfAXavbPumMAX8x2AUk&amp;edm=AAuNW_gBAAAA&amp;ccb=7-4&amp;oe=6238277A&amp;oh=00_AT9vkuNvVzcVdSXVEzHR1UAlTBBMojLwypnQTyFA-yzWFw&amp;_nc_sid=498da5</td>\n",
              "      <td>844991</td>\n",
              "      <td>37.367</td>\n",
              "      <td>56020.0</td>\n",
              "      <td>6360.0</td>\n",
              "    </tr>\n",
              "  </tbody>\n",
              "</table>\n",
              "</div>"
            ],
            "text/plain": [
              "     shortcode       mediaid title owner_username          date_local  \\\n",
              "0  CbRciqgvpYR  2.797142e+18  None    najwashihab 2022-03-19 12:49:36   \n",
              "1  Ca1UkNqDigc  2.789226e+18  None    najwashihab 2022-03-08 14:41:10   \n",
              "2  CazgTXxDzq5  2.788715e+18          najwashihab 2022-03-07 21:46:56   \n",
              "3  Cami6ejjWSO  2.785067e+18          najwashihab 2022-03-02 20:59:47   \n",
              "4  CajpcMhDyG_  2.784251e+18          najwashihab 2022-03-01 18:13:05   \n",
              "\n",
              "             date_utc  \\\n",
              "0 2022-03-19 04:49:36   \n",
              "1 2022-03-08 06:41:10   \n",
              "2 2022-03-07 13:46:56   \n",
              "3 2022-03-02 12:59:47   \n",
              "4 2022-03-01 10:13:05   \n",
              "\n",
              "                                                                                                                                                                                                                                                                                                                                                                            url  \\\n",
              "0                                                 https://scontent-sin6-3.cdninstagram.com/v/t51.2885-15/276009298_377839734128837_5040744026660474714_n.webp?stp=dst-jpg_e35_p1080x1080&_nc_ht=scontent-sin6-3.cdninstagram.com&_nc_cat=1&_nc_ohc=pxFkQGK0lWAAX-HsjBM&edm=AAuNW_gBAAAA&ccb=7-4&oh=00_AT8zGchFOybVqQOrNOlmzfBpghbBJlAXpq-pvzsDog-jrw&oe=623D1DD9&_nc_sid=498da5   \n",
              "1  https://scontent-sin6-4.cdninstagram.com/v/t51.2885-15/275274687_4883628828424575_8915053602670584894_n.webp?stp=dst-jpg_e35&_nc_ht=scontent-sin6-4.cdninstagram.com&_nc_cat=103&_nc_ohc=3PG9zwYTFFkAX8rjueM&edm=ALQROFkBAAAA&ccb=7-4&ig_cache_key=Mjc4OTIyNTk5MzcyMTQ4OTQzNg%3D%3D.2-ccb7-4&oh=00_AT92Oi0sWzaekQNl4VQk4CYBeojUKs366gZZhddIjQAu3A&oe=623C5B74&_nc_sid=30a2ef   \n",
              "2                                                            https://scontent-sin6-2.cdninstagram.com/v/t51.2885-15/275389588_910285359637169_307903636470044915_n.jpg?stp=dst-jpg_e35&_nc_ht=scontent-sin6-2.cdninstagram.com&_nc_cat=105&_nc_ohc=pfUi-KAq8LIAX-4I_Sj&edm=AAuNW_gBAAAA&ccb=7-4&oh=00_AT9tMswZIMPl6P4UY9alhfExIygPCU98x3VyXw8rno_pyg&oe=6237E7EA&_nc_sid=498da5   \n",
              "3                                                           https://scontent-sin6-2.cdninstagram.com/v/t51.2885-15/275050226_504536637701990_6887069291677889026_n.jpg?stp=dst-jpg_e35&_nc_ht=scontent-sin6-2.cdninstagram.com&_nc_cat=102&_nc_ohc=tzIAJhQeRoEAX_c-19m&edm=AAuNW_gBAAAA&ccb=7-4&oh=00_AT_sAVhdI25K4X0WoYQvpj_mJjRyFwya2VvnXB7AB5DE9A&oe=623802BE&_nc_sid=498da5   \n",
              "4                                                           https://scontent-sin6-1.cdninstagram.com/v/t51.2885-15/274937386_151250350643551_4976682493923045335_n.jpg?stp=dst-jpg_e35&_nc_ht=scontent-sin6-1.cdninstagram.com&_nc_cat=107&_nc_ohc=jGwUmv-htPsAX-klySo&edm=AAuNW_gBAAAA&ccb=7-4&oh=00_AT-bL2FigpuJINz217NnzQy97BkhThqSasBewn5aEvinPw&oe=62382077&_nc_sid=498da5   \n",
              "\n",
              "       typename  mediacount  \\\n",
              "0  GraphSidecar         2.0   \n",
              "1    GraphImage         1.0   \n",
              "2    GraphVideo         1.0   \n",
              "3    GraphVideo         1.0   \n",
              "4    GraphVideo         1.0   \n",
              "\n",
              "                                                                                                                                                                                                                                                                                                                                                                                                                                                                                                                                                                                                                                                                                                                                                                                                                                                                                                                                                                                                                                   caption  \\\n",
              "0  24 Juli 2022 nanti saya mau ajak teman2 lari. Ajakan ini terutama untuk yang belum pernah (bahkan gak pernah mikir) ikut event lari. Yang terakhir lari jaman SD waktu main kasti. Yang terlanjur mengasosiasikan lari dgn trauma hukuman.\\n\\nSemua di atas itu deskripsi perasaan saya tahun lalu. Tapi seperti banyak hal lain, pandemi mengubah dan membuat kita mencoba hal baru. Ada yang jadi suka tanaman, rajin sepedaan, atau yang seperti saya, lelarian. \\n\\nKenapa lari? Mungkin karena lari sepenuhnya mengandalkan kekuatan fisik dan pikiran. Tidak perlu alat dan ragam cara. Ketika pandemi memaksa kita kehilangan banyak pilihan, lari adalah cara saya memastikan tetap punya daya. Niat, target, rencana, eksekusi, kontrol, semua ada di tangan (dan kaki) saya.\\n\\nKarena lari bukan semata urusan jarak atau pace waktu. Tapi perasaan tuntas bisa menyelesaikan sesuatu. Saya gak bilang lari itu gampang dan bisa cepat lancar. Sampai sekarang saya masih jauh dari target2 yang saya idamkan.\\n\\nYang sa...   \n",
              "1  @rahasiagadis I accept your challenge! \\n\\nMitos itu berkata, pelecehan hanya terjadi pada perempuan yang sedang sendiri, malam hari, di tempat sepi dan berbusana mini.\\n\\nFaktanya? Lokasi yang paling banyak menjadi latar terjadinya pelecehan seksual adalah jalan umum, transportasi publik, lalu sekolah dan kampus. Kasusnya terjadi paling banyak di siang hari dan jenis pakaian yang dikenakan korban sama sekali bukan faktor signifikan. \\n\\nSetiap perempuan rentan terhadap perlecehan seksual. Setop menyalahkan korban. Yang bersalah adalah pelaku tidak pernah korban. \\n\\nTiap kita pantas dan berharga.\\n\\nUntuk merayakan Hari Perempuan Internasional dan memberi dukungan kekuatan kepada sesama perempuan, yuk ikut posting foto kamu dengan post-it bertulisan #KamuBerharga\\n\\nUntuk setiap foto yang diunggah menggunakan #KamuBerhargaRG sampai 15 Maret 2022, @rahasiagadis akan menyumbangkan Rp 10,000 ke Yayasan Kemanusiaan untuk Indonesia dalam program Pundi Perempuan untuk mendukung para gad...   \n",
              "2                                                                                                                                                                                                                                                                                                                                                                                                                                             Masih ingat dengan kasus pelecehan seksual di KPI? Sejak ramai di September 2021 lalu, hingga kini kasus dari korban pria berinisial MS ini belum juga menemui titik terang.\\n\\nApa yang terjadi setelah berita itu viral? Bagaimana MS menjalani kehidupannya sehari-hari dalam kondisi yang masih trauma?\\n\\nSimak penuturan MS dalam Surat Untuk Najwa episode \"Blak-blakan MS, Korban Pelecehan Seksual KPI: Saya Diminta Tidak Bicara\" di channel Youtube Najwa Shihab atau kunjungi web narasi.tv\\n\\n| Surat untuk Najwa\\n\\n#SuratUntukNajwa #KasusPelecehanSeksual #Narasi #JadiPaham   \n",
              "3                                                                                                                                                                                                                                                                                                                                                                                                                                                                                                                                                                                                                                                                                                                                                                                    @matanajwa Sampai 2021 lalu, Presiden Jokowi masih lantang menolak 3 periode. Kalau sekarang, kira-kira bagaimana respon Pak Jokowi soal usulan pemilu ditunda, ya? | Mata Najwa\\n\\n#NextJourneyMataNajwa #MataNajwa #CatatanNajwa #Narasi #JadiPaham   \n",
              "4                                                                                                                                                                                                                                                                                                                                                                                                                                                                                                                                                                                                                                                                                                                                                                                                                                                                           HADEUUH 🙄\\nAda yang mau titip bilang HADEUUH juga? Sila tulis di komen, nanti saya sampaikan ke elit2 parpol ini.\\n\\nSekali lagi deh #HADEUUH\\n\\n#CatatanNajwa   \n",
              "\n",
              "                                                     caption_hashtags  \\\n",
              "0                                  [pocarisweatrun2022, catatannajwa]   \n",
              "1             [kamuberharga, kamuberhargarg, kamuberhargarg, iwd2022]   \n",
              "2         [suratuntuknajwa, kasuspelecehanseksual, narasi, jadipaham]   \n",
              "3  [nextjourneymatanajwa, matanajwa, catatannajwa, narasi, jadipaham]   \n",
              "4                                             [hadeuuh, catatannajwa]   \n",
              "\n",
              "                                                                    caption_mentions  \\\n",
              "0                                                                                 []   \n",
              "1  [rahasiagadis, rahasiagadis, meutyahafid, widyacatlady, housniati, melanieputria]   \n",
              "2                                                                                 []   \n",
              "3                                                                        [matanajwa]   \n",
              "4                                                                                 []   \n",
              "\n",
              "                                                                           tagged_users  \\\n",
              "0  [ridwankamil, narasi.tv, melanieputria, agusprayogo21, pocarisportid, fukazawa_wina]   \n",
              "1                                 [rahasiagadis, meutya_hafid, widyacatlady, housniati]   \n",
              "2                                                                                    []   \n",
              "3                                                                                    []   \n",
              "4                                                                                    []   \n",
              "\n",
              "   is_video  \\\n",
              "0       0.0   \n",
              "1       0.0   \n",
              "2       1.0   \n",
              "3       1.0   \n",
              "4       1.0   \n",
              "\n",
              "                                                                                                                                                                                                                                                                                              video_url  \\\n",
              "0                                                                                                                                                                                                                                                                                                  None   \n",
              "1                                                                                                                                                                                                                                                                                                  None   \n",
              "2  https://scontent-sin6-4.cdninstagram.com/v/t50.2886-16/275513964_1103659930419874_1523745697042686466_n.mp4?_nc_ht=scontent-sin6-4.cdninstagram.com&_nc_cat=110&_nc_ohc=Swtg7ux7sgcAX8OWJYs&edm=AAuNW_gBAAAA&ccb=7-4&oe=6237F4DB&oh=00_AT96J74RbcPb2WgNpOzAB29XV6sLvw_VvKysWOYAGbdRVw&_nc_sid=498da5   \n",
              "3   https://scontent-sin6-4.cdninstagram.com/v/t50.2886-16/275115468_439288544611611_5277097368091306417_n.mp4?_nc_ht=scontent-sin6-4.cdninstagram.com&_nc_cat=103&_nc_ohc=bORlPq9z-VoAX_6bX-w&edm=AAuNW_gBAAAA&ccb=7-4&oe=6237FE8F&oh=00_AT-WAl2lCoOcv_h_EKahiu_4VPWl8c5hGq5LV2I9KqDOdQ&_nc_sid=498da5   \n",
              "4  https://scontent-sin6-4.cdninstagram.com/v/t50.2886-16/275034305_1105997889976246_8512271015512861631_n.mp4?_nc_ht=scontent-sin6-4.cdninstagram.com&_nc_cat=110&_nc_ohc=jfAXavbPumMAX8x2AUk&edm=AAuNW_gBAAAA&ccb=7-4&oe=6238277A&oh=00_AT9vkuNvVzcVdSXVEzHR1UAlTBBMojLwypnQTyFA-yzWFw&_nc_sid=498da5   \n",
              "\n",
              "  video_view_count  video_duration     likes  comments  \n",
              "0             None             NaN   94081.0     339.0  \n",
              "1             None             NaN  233117.0     846.0  \n",
              "2           811513          60.024   81104.0     947.0  \n",
              "3          4294998          49.552  360352.0   11957.0  \n",
              "4           844991          37.367   56020.0    6360.0  "
            ]
          },
          "execution_count": 87,
          "metadata": {},
          "output_type": "execute_result"
        }
      ],
      "source": [
        "counter = 0\n",
        "df_posts = pd.DataFrame()\n",
        "for p in posts:\n",
        "    if counter == 5:\n",
        "        break\n",
        "    df_posts = df_posts.append({\n",
        "        'shortcode': p.shortcode,\n",
        "        'mediaid': p.mediaid,\n",
        "        'title': p.title,\n",
        "        'owner_username': p.owner_username,\n",
        "        'date_local': p.date_local,\n",
        "        'date_utc': p.date_utc,\n",
        "        'url': p.url,\n",
        "        'typename': p.typename,\n",
        "        'mediacount': p.mediacount,\n",
        "        'caption': p.caption,\n",
        "        'caption_hashtags': p.caption_hashtags,\n",
        "        'caption_mentions': p.caption_mentions,\n",
        "        'tagged_users': p.tagged_users,\n",
        "        'is_video': p.is_video,\n",
        "        'video_url': p.video_url,\n",
        "        'video_view_count': p.video_view_count,\n",
        "        'video_duration': p.video_duration,\n",
        "        'likes': p.likes,\n",
        "        'comments': p.comments\n",
        "    }, ignore_index=True)\n",
        "    counter += 1\n",
        "df_posts"
      ]
    },
    {
      "cell_type": "markdown",
      "metadata": {
        "id": "RygDOtDkYAH5"
      },
      "source": [
        "## Data Komentar - Instagram\n",
        "Sebuah postingan dapat memiliki komentar. Data terkait komentar dapat diambil dengan menjalankan fungsi `get_comments()`. Fungsi tersebut mengembalikan objek iterator. Dokumentasi terkait objek komentar dapat diakses melalui halaman <a href=\"https://instaloader.github.io/module/structures.html?highlight=profile#instaloader.PostComment\">ini</a>.\n",
        "\n",
        "Kita akan mengambil 5 komentar dari postingan terbaru dari akun <a href=\"https://www.instagram.com/najwashihab/\">Mba Nana</a>."
      ]
    },
    {
      "cell_type": "code",
      "execution_count": null,
      "metadata": {
        "id": "DMVphauIYAH5",
        "outputId": "24e9af30-e741-44da-97e6-d31c1f395e68"
      },
      "outputs": [
        {
          "data": {
            "text/plain": [
              "<Post CbRciqgvpYR>"
            ]
          },
          "execution_count": 88,
          "metadata": {},
          "output_type": "execute_result"
        }
      ],
      "source": [
        "from instaloader import Post\n",
        "# mendapatkan objek postingan dengan menggunakan shortcode\n",
        "post = Post.from_shortcode(loader.context, df_posts.loc[0]['shortcode'])\n",
        "# objek postingan\n",
        "post"
      ]
    },
    {
      "cell_type": "code",
      "execution_count": null,
      "metadata": {
        "id": "Wpw6LZC1YAH5",
        "outputId": "69551f9c-7eb4-477b-cc35-919d6400c4e5"
      },
      "outputs": [
        {
          "data": {
            "text/plain": [
              "<instaloader.nodeiterator.NodeIterator at 0x7f482881bdc0>"
            ]
          },
          "execution_count": 89,
          "metadata": {},
          "output_type": "execute_result"
        }
      ],
      "source": [
        "# iterator comments\n",
        "comments = post.get_comments()\n",
        "comments"
      ]
    },
    {
      "cell_type": "code",
      "execution_count": null,
      "metadata": {
        "id": "6NBYZT6-YAH5",
        "outputId": "8c83f0bf-a2fd-4f8c-9fd0-5091641735f8"
      },
      "outputs": [
        {
          "data": {
            "text/html": [
              "<div>\n",
              "<style scoped>\n",
              "    .dataframe tbody tr th:only-of-type {\n",
              "        vertical-align: middle;\n",
              "    }\n",
              "\n",
              "    .dataframe tbody tr th {\n",
              "        vertical-align: top;\n",
              "    }\n",
              "\n",
              "    .dataframe thead th {\n",
              "        text-align: right;\n",
              "    }\n",
              "</style>\n",
              "<table border=\"1\" class=\"dataframe\">\n",
              "  <thead>\n",
              "    <tr style=\"text-align: right;\">\n",
              "      <th></th>\n",
              "      <th>answers</th>\n",
              "      <th>created_at_utc</th>\n",
              "      <th>id</th>\n",
              "      <th>likes_count</th>\n",
              "      <th>owner_username</th>\n",
              "      <th>text</th>\n",
              "    </tr>\n",
              "  </thead>\n",
              "  <tbody>\n",
              "    <tr>\n",
              "      <th>0</th>\n",
              "      <td>[{'created_at_utc': 2022-03-19 05:06:57, 'id': 17931439886107348, 'likes_count': 2, 'owner_username': 'dianandreyan', 'text': '@melanieputria pingin banget kecanduan lari biar sehat tapi apalah daya tiktok membisiki aku untuk terus rebahan dikasur dan scroll, lepas kerja abis mandi scroll tiktok weekend juga 😓😭'}, {'created_at_utc': 2022-03-19 05:14:07, 'id': 17940069697939208, 'likes_count': 0, 'owner_username': 'apt_ratna_andriani', 'text': '@melanieputria sudah kecanduan olahraga lari..namun klo hujan ya gak lari...'}]</td>\n",
              "      <td>2022-03-19 04:58:57</td>\n",
              "      <td>1.788065e+16</td>\n",
              "      <td>15.0</td>\n",
              "      <td>melanieputria</td>\n",
              "      <td>Mba Nana aja sudah jatuh cinta sama lari. Kamu gimana?😊</td>\n",
              "    </tr>\n",
              "    <tr>\n",
              "      <th>1</th>\n",
              "      <td>[{'created_at_utc': 2022-03-19 05:11:26, 'id': 17920381100160716, 'likes_count': 2, 'owner_username': 'najwashihab', 'text': '@widyacatlady HAHAHA YEKAAN'}]</td>\n",
              "      <td>2022-03-19 05:04:02</td>\n",
              "      <td>1.794587e+16</td>\n",
              "      <td>4.0</td>\n",
              "      <td>widyacatlady</td>\n",
              "      <td>MBAK NANAAAA KASTIIIIIII 🥎🎾🥎🎾 terus berangan2 kalau kasti itu lacrosse hahaha #EnidBlyton</td>\n",
              "    </tr>\n",
              "    <tr>\n",
              "      <th>2</th>\n",
              "      <td>[]</td>\n",
              "      <td>2022-03-19 06:28:46</td>\n",
              "      <td>1.799891e+16</td>\n",
              "      <td>3.0</td>\n",
              "      <td>agusprayogo21</td>\n",
              "      <td>⚡️⚡️⚡️</td>\n",
              "    </tr>\n",
              "    <tr>\n",
              "      <th>3</th>\n",
              "      <td>[{'created_at_utc': 2022-03-19 05:44:06, 'id': 17955856153655408, 'likes_count': 0, 'owner_username': 'najwashihab', 'text': '@josechitersone pasti yg bagian lari itu semacam hukuman 😂'}, {'created_at_utc': 2022-03-19 06:05:43, 'id': 17927729057174049, 'likes_count': 0, 'owner_username': 'josechitersone', 'text': '@najwashihab bener mbak huaa, soalnya pernah hampir pingsan kena hukuman lari keliling lapangan 🥲🥲'}]</td>\n",
              "      <td>2022-03-19 04:55:46</td>\n",
              "      <td>1.800699e+16</td>\n",
              "      <td>2.0</td>\n",
              "      <td>josechitersone</td>\n",
              "      <td>Paragraf pertamanya jleb mbak 😌🥲</td>\n",
              "    </tr>\n",
              "    <tr>\n",
              "      <th>4</th>\n",
              "      <td>[{'created_at_utc': 2022-03-19 05:11:46, 'id': 17949438730763070, 'likes_count': 3, 'owner_username': 'najwashihab', 'text': '@alva.romance letsgoh!'}]</td>\n",
              "      <td>2022-03-19 04:59:17</td>\n",
              "      <td>1.791206e+16</td>\n",
              "      <td>0.0</td>\n",
              "      <td>alva.romance</td>\n",
              "      <td>jadi kepengen lari bareng mba Nana😂</td>\n",
              "    </tr>\n",
              "  </tbody>\n",
              "</table>\n",
              "</div>"
            ],
            "text/plain": [
              "                                                                                                                                                                                                                                                                                                                                                                                                                                                                                                                                           answers  \\\n",
              "0  [{'created_at_utc': 2022-03-19 05:06:57, 'id': 17931439886107348, 'likes_count': 2, 'owner_username': 'dianandreyan', 'text': '@melanieputria pingin banget kecanduan lari biar sehat tapi apalah daya tiktok membisiki aku untuk terus rebahan dikasur dan scroll, lepas kerja abis mandi scroll tiktok weekend juga 😓😭'}, {'created_at_utc': 2022-03-19 05:14:07, 'id': 17940069697939208, 'likes_count': 0, 'owner_username': 'apt_ratna_andriani', 'text': '@melanieputria sudah kecanduan olahraga lari..namun klo hujan ya gak lari...'}]   \n",
              "1                                                                                                                                                                                                                                                                                                                                                                                     [{'created_at_utc': 2022-03-19 05:11:26, 'id': 17920381100160716, 'likes_count': 2, 'owner_username': 'najwashihab', 'text': '@widyacatlady HAHAHA YEKAAN'}]   \n",
              "2                                                                                                                                                                                                                                                                                                                                                                                                                                                                                                                                               []   \n",
              "3                                                                                                                [{'created_at_utc': 2022-03-19 05:44:06, 'id': 17955856153655408, 'likes_count': 0, 'owner_username': 'najwashihab', 'text': '@josechitersone pasti yg bagian lari itu semacam hukuman 😂'}, {'created_at_utc': 2022-03-19 06:05:43, 'id': 17927729057174049, 'likes_count': 0, 'owner_username': 'josechitersone', 'text': '@najwashihab bener mbak huaa, soalnya pernah hampir pingsan kena hukuman lari keliling lapangan 🥲🥲'}]   \n",
              "4                                                                                                                                                                                                                                                                                                                                                                                          [{'created_at_utc': 2022-03-19 05:11:46, 'id': 17949438730763070, 'likes_count': 3, 'owner_username': 'najwashihab', 'text': '@alva.romance letsgoh!'}]   \n",
              "\n",
              "       created_at_utc            id  likes_count  owner_username  \\\n",
              "0 2022-03-19 04:58:57  1.788065e+16         15.0   melanieputria   \n",
              "1 2022-03-19 05:04:02  1.794587e+16          4.0    widyacatlady   \n",
              "2 2022-03-19 06:28:46  1.799891e+16          3.0   agusprayogo21   \n",
              "3 2022-03-19 04:55:46  1.800699e+16          2.0  josechitersone   \n",
              "4 2022-03-19 04:59:17  1.791206e+16          0.0    alva.romance   \n",
              "\n",
              "                                                                                        text  \n",
              "0                                    Mba Nana aja sudah jatuh cinta sama lari. Kamu gimana?😊  \n",
              "1  MBAK NANAAAA KASTIIIIIII 🥎🎾🥎🎾 terus berangan2 kalau kasti itu lacrosse hahaha #EnidBlyton  \n",
              "2                                                                                     ⚡️⚡️⚡️  \n",
              "3                                                           Paragraf pertamanya jleb mbak 😌🥲  \n",
              "4                                                        jadi kepengen lari bareng mba Nana😂  "
            ]
          },
          "execution_count": 90,
          "metadata": {},
          "output_type": "execute_result"
        }
      ],
      "source": [
        "def get_comment_answers(answers):\n",
        "    res = []\n",
        "    for a in answers:\n",
        "        res.append({\n",
        "            'created_at_utc': a.created_at_utc,\n",
        "            'id': a.id,\n",
        "            'likes_count': a.likes_count,\n",
        "            'owner_username': a.owner.username,\n",
        "            'text': a.text\n",
        "        })\n",
        "    return res\n",
        "\n",
        "counter = 0\n",
        "df_comments = pd.DataFrame()\n",
        "for c in comments:\n",
        "    if counter == 5:\n",
        "        break\n",
        "    df_comments = df_comments.append({\n",
        "        'answers': get_comment_answers(c.answers),\n",
        "        'created_at_utc': c.created_at_utc,\n",
        "        'id': c.id,\n",
        "        'likes_count': c.likes_count,\n",
        "        'owner_username': c.owner.username,\n",
        "        'text': c.text\n",
        "    }, ignore_index=True)\n",
        "    counter += 1\n",
        "    \n",
        "df_comments"
      ]
    },
    {
      "cell_type": "markdown",
      "metadata": {
        "id": "TG-a7MuaaBWI"
      },
      "source": [
        "# Data Collection - Linkedin\n",
        "\n",
        "Salah satu cara untuk mendapatkan data dari Linkedin adalah dengan melakukan <i>scraping</i> menggunakan <i>library</i> Selenium. Jadi, sebelum memulai, teman-teman perlu mengunduh chromedriver sesuai dengan versi Chrome dan OS yang Anda gunakan. Chromedriver dapat diunduh pada halaman <a href=\"https://chromedriver.chromium.org/downloads\">berikut</a>.\n",
        "\n",
        "Berikut merupakan contoh kode yang digunakan untuk mengambil data profil suatu akun Linkedin. "
      ]
    },
    {
      "cell_type": "code",
      "execution_count": null,
      "metadata": {
        "ExecuteTime": {
          "end_time": "2021-02-21T07:45:08.380063Z",
          "start_time": "2021-02-21T07:45:05.862336Z"
        },
        "id": "rK5CMZRxUKxa"
      },
      "outputs": [],
      "source": [
        "# import library\n",
        "from selenium import webdriver\n",
        "from selenium.webdriver.support.ui import WebDriverWait\n",
        "from selenium.webdriver.common.by import By\n",
        "from selenium.webdriver.support import expected_conditions as EC\n",
        "from selenium.common.exceptions import NoSuchElementException, TimeoutException\n",
        "from selenium.webdriver.common.action_chains import ActionChains\n",
        "from selenium.webdriver.common.keys import Keys\n",
        "import os\n",
        "import time\n",
        "\n",
        "driver_path = '../../../../chromedriver_linux64/chromedriver'"
      ]
    },
    {
      "cell_type": "code",
      "execution_count": null,
      "metadata": {
        "id": "UK3gfk1aYAH6"
      },
      "outputs": [],
      "source": [
        "# functions\n",
        "def scroll(height):\n",
        "    driver.execute_script('window.scrollTo(0, {})'.format(height))\n",
        "\n",
        "\n",
        "def get_single_element(xpath):\n",
        "    WebDriverWait(driver, 3).until(\n",
        "        EC.presence_of_element_located((By.XPATH, xpath)))\n",
        "    return driver.find_element_by_xpath(xpath)\n",
        "\n",
        "def fill_in(xpath, text):\n",
        "    elem = get_single_element(xpath)\n",
        "    elem.send_keys(text)\n",
        "\n",
        "\n",
        "def get_multiple_element(xpath):\n",
        "    WebDriverWait(driver, 3).until(\n",
        "        EC.presence_of_all_elements_located((By.XPATH, xpath)))\n",
        "    return driver.find_elements_by_xpath(xpath)\n",
        "\n",
        "\n",
        "def get_text(element):\n",
        "    return driver.execute_script('return arguments[0].innerText;', element)\n",
        "\n",
        "\n",
        "def get_content(xpath):\n",
        "    return get_text(get_single_element(xpath))\n",
        "\n",
        "\n",
        "def open_driver(url):\n",
        "    global driver\n",
        "    driver = webdriver.Chrome(driver_path)\n",
        "    driver.get(url)\n",
        "    time.sleep(1)\n",
        "\n",
        "\n",
        "def get_soup(url, verify=True):\n",
        "    page = requests.get(url, verify=verify)\n",
        "    soup = BeautifulSoup(page.content)\n",
        "    return soup"
      ]
    },
    {
      "cell_type": "code",
      "execution_count": null,
      "metadata": {
        "id": "239LXRSQYAH6",
        "outputId": "1304ad23-145f-442f-d3ac-f557790c669d"
      },
      "outputs": [
        {
          "name": "stderr",
          "output_type": "stream",
          "text": [
            "/tmp/ipykernel_41980/1105613198.py:32: DeprecationWarning: executable_path has been deprecated, please pass in a Service object\n",
            "  driver = webdriver.Chrome(driver_path)\n",
            "/tmp/ipykernel_41980/1105613198.py:9: DeprecationWarning: find_element_by_xpath is deprecated. Please use find_element(by=By.XPATH, value=xpath) instead\n",
            "  return driver.find_element_by_xpath(xpath)\n"
          ]
        }
      ],
      "source": [
        "# login\n",
        "link = 'https://www.linkedin.com/login/in?fromSignIn=true&trk=guest_homepage-basic_nav-header-signin'\n",
        "open_driver(link)\n",
        "xpath = '//input[@id=\"username\"]'\n",
        "fill_in(xpath, '') # diisi\n",
        "xpath = '//input[@id=\"password\"]'\n",
        "fill_in(xpath, '') # diisi\n",
        "xpath = '//button[@class=\"btn__primary--large from__button--floating\"]'\n",
        "get_single_element(xpath).click()"
      ]
    },
    {
      "cell_type": "code",
      "execution_count": null,
      "metadata": {
        "id": "-3hGQ77iYAH6"
      },
      "outputs": [],
      "source": [
        "link = 'https://www.linkedin.com/in/jerome-polin-sijabat-b0241247/'\n",
        "driver.get(link)"
      ]
    },
    {
      "cell_type": "code",
      "execution_count": null,
      "metadata": {
        "id": "HTs2rwSFYAH7",
        "outputId": "8489005b-ce5d-4bee-8945-8e67ed88b194"
      },
      "outputs": [
        {
          "name": "stderr",
          "output_type": "stream",
          "text": [
            "/tmp/ipykernel_41980/1105613198.py:9: DeprecationWarning: find_element_by_xpath is deprecated. Please use find_element(by=By.XPATH, value=xpath) instead\n",
            "  return driver.find_element_by_xpath(xpath)\n"
          ]
        },
        {
          "data": {
            "text/plain": [
              "'Jerome Polin Sijabat'"
            ]
          },
          "execution_count": 39,
          "metadata": {},
          "output_type": "execute_result"
        }
      ],
      "source": [
        "xpath = '//h1[@class=\"text-heading-xlarge inline t-24 v-align-middle break-words\"]'\n",
        "name = get_content(xpath)\n",
        "name"
      ]
    },
    {
      "cell_type": "code",
      "execution_count": null,
      "metadata": {
        "id": "V5n0lQv_YAH7",
        "outputId": "0bdf3f33-36ff-4894-8a9b-5197f7f98c31"
      },
      "outputs": [
        {
          "name": "stdout",
          "output_type": "stream",
          "text": [
            "No description\n"
          ]
        }
      ],
      "source": [
        "xpath = '//div[@class=\"display-flex ph5 pv3\"]'\n",
        "try:\n",
        "    about = get_content(xpath)\n",
        "except:\n",
        "    about = None\n",
        "    print(\"No description\")\n",
        "about"
      ]
    },
    {
      "cell_type": "code",
      "execution_count": null,
      "metadata": {
        "id": "vBD6UDdtYAH7",
        "outputId": "9ae21a48-7b4f-4010-b03a-d439d4a08888"
      },
      "outputs": [
        {
          "name": "stderr",
          "output_type": "stream",
          "text": [
            "/tmp/ipykernel_41980/1105613198.py:19: DeprecationWarning: find_elements_by_xpath is deprecated. Please use find_elements(by=By.XPATH, value=xpath) instead\n",
            "  return driver.find_elements_by_xpath(xpath)\n"
          ]
        },
        {
          "data": {
            "text/plain": [
              "[<selenium.webdriver.remote.webelement.WebElement (session=\"e2dcf2c57efe271a9eddffbdc84a3fd8\", element=\"147d006f-efaa-40bb-b86d-9dbf2007e865\")>,\n",
              " <selenium.webdriver.remote.webelement.WebElement (session=\"e2dcf2c57efe271a9eddffbdc84a3fd8\", element=\"ea4af5e8-a94e-451c-92d4-844611f36d3a\")>,\n",
              " <selenium.webdriver.remote.webelement.WebElement (session=\"e2dcf2c57efe271a9eddffbdc84a3fd8\", element=\"77994d92-c52a-4b27-88ac-a6c2ab6ab636\")>]"
            ]
          },
          "execution_count": 41,
          "metadata": {},
          "output_type": "execute_result"
        }
      ],
      "source": [
        "xpath = '//div[@id=\"experience\"]/../div[3]/ul/*'\n",
        "experiences = get_multiple_element(xpath)\n",
        "experiences"
      ]
    },
    {
      "cell_type": "code",
      "execution_count": null,
      "metadata": {
        "id": "ckQrvPiwYAH7"
      },
      "outputs": [],
      "source": [
        "arr_exp_raw = [] \n",
        "for exp in experiences:\n",
        "    arr_exp_raw.append(get_text(exp))"
      ]
    },
    {
      "cell_type": "code",
      "execution_count": null,
      "metadata": {
        "id": "O9SOPejKYAH7",
        "outputId": "3645b357-c29c-4a60-8a58-a0987c955450"
      },
      "outputs": [
        {
          "data": {
            "text/plain": [
              "['Co-Founder\\nCo-Founder\\nMenantea · Permanent\\nMenantea · Permanent\\nApr 2021 - Present · 1 yr\\nApr 2021 - Present · 1 yr\\nJakarta, Indonesia\\nJakarta, Indonesia\\nMenantea, a modern fusion tea brand in Indonesia, was founded 5 people with their each expertise on FnB industry and digital marketing. 3 of which is Hendy Setiono (founder of BabaRafi Enterprise), Sylvia Surya (founder of Kopisoe), and Bisma Adi Putra (F&B Consultant Masakin Group), and the remaining 2 is manager-talent brothers: Jehian Panangian Sijabat and Jerome Polin Sijabat. With its various tea menus, like modern fruit tea, cheese cream tea, and more, Menantea wants to revolutionize how Indonesians enjoy tea beverages.\\n\\nWith our exclusive FnB technology, and strong digital marketing side, Menantea aspire to be one of the fastest growing tea brand, gaining 200k+ followers on instagram, and 35 store openings (10 Cities in Indonesia), in less than 1 month since its grand opening.\\nMenantea, a modern fusion tea brand in Indonesia, was founded 5 people with their each expertise on FnB industry and digital marketing. 3 of which is Hendy Setiono (founder of BabaRafi Enterprise), Sylvia Surya (founder of Kopisoe), and Bisma Adi Putra (F&B Consultant Masakin Group), and the remaining 2 is manager-talent brothers: Jehian Panangian Sijabat and Jerome Polin Sijabat. With its various tea menus, like modern fruit tea, cheese cream tea, and more, Menantea wants to revolutionize how Indonesians enjoy tea beverages. With our exclusive FnB technology, and strong digital marketing side, Menantea aspire to be one of the fastest growing tea brand, gaining 200k+ followers on instagram, and 35 store openings (10 Cities in Indonesia), in less than 1 month since its grand opening.',\n",
              " 'Founder\\nFounder\\nMantappu Corp · Permanent\\nMantappu Corp · Permanent\\nDec 2017 - Present · 4 yrs 4 mos\\nDec 2017 - Present · 4 yrs 4 mos\\nTokyo, Japan\\nTokyo, Japan\\nCreated at the end of 2017 by Jerome Polin and Kevin Sendou, Nihongo Mantappu now has more than 5 million subscribers worldwide. Our content revolves around japanese culture, education, and personal life vlog of Jerome Polin. As of now, Nihongo Mantappu has over 6.000.000 subscriber nation-wide.\\nCreated at the end of 2017 by Jerome Polin and Kevin Sendou, Nihongo Mantappu now has more than 5 million subscribers worldwide. Our content revolves around japanese culture, education, and personal life vlog of Jerome Polin. As of now, Nihongo Mantappu has over 6.000.000 subscriber nation-wide.',\n",
              " 'Founder\\nFounder\\nQ&A Group\\nQ&A Group\\nJun 2015 - Present · 6 yrs 10 mos\\nJun 2015 - Present · 6 yrs 10 mos\\nIndonesia\\nIndonesia\\nQ&A Group is a social media based learning official accounts. Q&A Group influenced over 500,000 of middle/high school students across Indonesia about the smart use of social media.\\nQ&A Group is a social media based learning official accounts. Q&A Group influenced over 500,000 of middle/high school students across Indonesia about the smart use of social media.']"
            ]
          },
          "execution_count": 43,
          "metadata": {},
          "output_type": "execute_result"
        }
      ],
      "source": [
        "arr_exp_raw"
      ]
    },
    {
      "cell_type": "code",
      "execution_count": null,
      "metadata": {
        "id": "OrE2tM6qYAH7"
      },
      "outputs": [],
      "source": [
        "driver.close()"
      ]
    },
    {
      "cell_type": "markdown",
      "metadata": {
        "id": "JOXbq4uUURRi"
      },
      "source": [
        "# Tugas\n",
        "\n",
        "1. Ubah <b>Code 1</b> dan simpan hasil <i>crawling</i> (id dan teks) menggunakan <i>code</i> tersebut dengan nama `hasil_tweet_c1.csv`. Kode tersebut diubah berdasarkan ketentuan sebagai berikut:\n",
        "    * Jika Anda laki-laki dan angka-angka NPM Anda ditotalkan menjadi bilangan genap: *tweet* berbahasa Indonesia yang mengandung kata kunci `laki laki` dan tidak mengandung kata kunci `pria`  \n",
        "    * Jika Anda laki-laki dan angka-angka NPM Anda ditotalkan menjadi bilangan ganjil: *tweet* berbahasa Indonesia yang mengandung kata kunci `lebaran` atau `idul fitri`\n",
        "    * Jika Anda perempuan dan angka-angka NPM Anda ditotalkan menjadi bilangan genap: original *tweet* (bukan retweet) berbahasa Indonesia yang mengandung kata kunci `rusia` dan `ukraina`, namun tidak boleh ada kemunculan `nato`.\n",
        "    * Jika Anda perempuan dan angka-angka NPM Anda ditotalkan menjadi bilangan ganjil: *tweet* berbahasa Indonesia dengan *hashtag* `#binomo` dan mengandung kata kunci `indra`, namun tidak boleh ada kemunculan `budi setiawan`.\n",
        "\n",
        "\n",
        "2. Ubah <b>Code 2</b> dan simpan 5 <i>tweet</i> berbahasa Indonesia hasil <i>crawling</i> (id dan teks) menggunakan <i>code</i> tersebut dengan nama `hasil_tweet_c2.csv`. Kode tersebut diubah berdasarkan ketentuan sebagai berikut:\n",
        "    * Jika Anda angkatan 2019: *tweet* berbahasa Indonesia yang mengandung kata kunci `minyak goreng`  \n",
        "    * Jika Anda bukan angkatan 2019: *tweet* berbahasa Indonesia yang mengandung kata kunci `saham`\n",
        "\n",
        "\n",
        "3. Ubah <b>Code 3</b> dan simpan data profil dalam bentuk tabular dengan nama `hasil_twitter_profile_c3.csv`. Kode tersebut diubah berdasarkan ketentuan sebagai berikut:\n",
        "    * Jika Anda terakhir NPM Anda genap: akun dengan *username* @bibitid, @tulusm, dan @ibamibrahim   \n",
        "    * Jika Anda bukan angkatan 2019: akun dengan *username* @marionjolamj, @gramedia, dan @mrlogix\n",
        "    \n",
        "    \n",
        "4. Menggunakan data `goto.csv`, buat visualisasi:\n",
        "    * Jika nama Anda memiliki huruf vokal berjumlah genap: top 5 akun dengan *tweet* terbanyak (x-axis nama akun, y-axis jumlah *tweet*, urutkan dari *tweet* terbanyak)\n",
        "    * Jika nama Anda memiliki huruf vokal berjumlah ganjil: jumlah *tweet* per jam (x-axis jam tweet dibuat, y-axis jumlah *tweet*, urutkan berdasarkan jam terkecil, yaitu dari 00:00 sampai 23:00)\n",
        "    \n",
        "    \n",
        "5. Ekstrak daftar:\n",
        "    * Jika nama Anda terdiri dari 1-2 kata: *following* dari akun @najwashihab menggunakan instaloader \n",
        "    * Jika nama Anda terdiri dari 3 atau lebih kata: *follower* dari akun @hampersbymiya menggunakan instaloader \n",
        "\n",
        "\n",
        "6. Lakukan <i>scraping</i> profil Linkedin beberapa perusahaan bank terbesar di Indonesia sesuai dengan pembagian berikut:\n",
        "<table>\n",
        "<tr><th>Awalan huruf nama lengkap</th><th>URL Linkedin Perusahaan</th></tr>\n",
        "<tr><td>A-E</td><td>https://www.linkedin.com/company/pt.-bank-negara-indonesia-persero-tbk./</td></tr>\n",
        "<tr><td>F-Q</td><td>https://www.linkedin.com/company/bank-mandiri/</td></tr>\n",
        "<tr><td>R-Z</td><td>https://www.linkedin.com/company/bank-syariah-indonesia/</td></tr>\n",
        "</table>\n",
        "Informasi yang perlu diambil adalah nama, <i>bio</i>, dan jumlah *followers*. Berikut merupakan contoh hasil <i>scraping</i> dari profil Linkedin BSI:\n",
        "\n",
        "```\n",
        "{\n",
        "    \"nama\": \"PT Bank Syariah Indonesia Tbk.\",\n",
        "    \"bio\": \"Bersatu untuk Indonesia\"\n",
        "    \"followers\": \"30381\"\n",
        "}\n",
        "```\n",
        "<i>Note:</i> Anda bisa mendapatkan nilai bonus jika berhasil mendapatkan contoh 5 akun karyawan yang bekerja di perusahaan tersebut (dalam bentuk URL, misal: https://www.linkedin.com/in/jerome-polin-sijabat-b0241247/). \n",
        "\n",
        "<i>Deadline</i> pengumpulan Tugas adalah Sabtu, 26 Maret 2022 pukul 08:00 di SCeLE. Berkas yang dikumpulkan adalah Tutorial 1 - Data Collection.ipynb dan seluruh berkas csv. Kumpulkan semua berkas dalam zip dengan format penamaan Tutorial1_Nama_NPM.zip."
      ]
    },
    {
      "cell_type": "code",
      "execution_count": 8,
      "metadata": {},
      "outputs": [],
      "source": [
        "npm = [1,6,0,6,8,9,0,2,5,2]\n",
        "nama = 'Arkha Sayoga Mayadi'"
      ]
    },
    {
      "cell_type": "code",
      "execution_count": 9,
      "metadata": {},
      "outputs": [],
      "source": [
        "import pandas as pd\n",
        "acct_twitter_1 = pd.read_csv('./auth/arkha_analytics.csv')\n",
        "acct_twitter_2 = pd.read_csv('./auth/dummy_analytic.csv')\n",
        "acct_instagram = pd.read_csv('./auth/instagram_arkha1998.csv')"
      ]
    },
    {
      "cell_type": "markdown",
      "metadata": {
        "id": "BmVxS0V-YAH8"
      },
      "source": [
        "## Soal 1\n",
        "1. Ubah <b>Code 1</b> dan simpan hasil <i>crawling</i> (id dan teks) menggunakan <i>code</i> tersebut dengan nama `hasil_tweet_c1.csv`. Kode tersebut diubah berdasarkan ketentuan sebagai berikut:\n",
        "    * Jika Anda laki-laki dan angka-angka NPM Anda ditotalkan menjadi bilangan genap: *tweet* berbahasa Indonesia yang mengandung kata kunci `laki laki` dan tidak mengandung kata kunci `pria`  \n",
        "    * Jika Anda laki-laki dan angka-angka NPM Anda ditotalkan menjadi bilangan ganjil: *tweet* berbahasa Indonesia yang mengandung kata kunci `lebaran` atau `idul fitri`\n",
        "    * Jika Anda perempuan dan angka-angka NPM Anda ditotalkan menjadi bilangan genap: original *tweet* (bukan retweet) berbahasa Indonesia yang mengandung kata kunci `rusia` dan `ukraina`, namun tidak boleh ada kemunculan `nato`.\n",
        "    * Jika Anda perempuan dan angka-angka NPM Anda ditotalkan menjadi bilangan ganjil: *tweet* berbahasa Indonesia dengan *hashtag* `#binomo` dan mengandung kata kunci `indra`, namun tidak boleh ada kemunculan `budi setiawan`."
      ]
    },
    {
      "cell_type": "code",
      "execution_count": 10,
      "metadata": {},
      "outputs": [
        {
          "data": {
            "text/plain": [
              "39"
            ]
          },
          "execution_count": 10,
          "metadata": {},
          "output_type": "execute_result"
        }
      ],
      "source": [
        "sum(npm) "
      ]
    },
    {
      "cell_type": "code",
      "execution_count": 11,
      "metadata": {},
      "outputs": [],
      "source": [
        "import pandas as pd\n",
        "pd.set_option('max_colwidth', 1000)\n",
        "\n",
        "def tweepy_to_csv(tw):\n",
        "    df = pd.DataFrame()\n",
        "    for t in tw.data:\n",
        "        df = df.append({\n",
        "            'id' : t.id,\n",
        "            'text' : t.text\n",
        "        }, ignore_index=True)\n",
        "    return df"
      ]
    },
    {
      "cell_type": "code",
      "execution_count": 12,
      "metadata": {},
      "outputs": [],
      "source": [
        "import tweepy\n",
        "bearer_token = acct_twitter_1.bearer_token.values[0]\n",
        "tweepy_client = tweepy.Client(bearer_token=bearer_token)"
      ]
    },
    {
      "cell_type": "code",
      "execution_count": 13,
      "metadata": {},
      "outputs": [
        {
          "name": "stderr",
          "output_type": "stream",
          "text": [
            "/tmp/ipykernel_318678/2274127875.py:7: FutureWarning: The frame.append method is deprecated and will be removed from pandas in a future version. Use pandas.concat instead.\n",
            "  df = df.append({\n",
            "/tmp/ipykernel_318678/2274127875.py:7: FutureWarning: The frame.append method is deprecated and will be removed from pandas in a future version. Use pandas.concat instead.\n",
            "  df = df.append({\n",
            "/tmp/ipykernel_318678/2274127875.py:7: FutureWarning: The frame.append method is deprecated and will be removed from pandas in a future version. Use pandas.concat instead.\n",
            "  df = df.append({\n",
            "/tmp/ipykernel_318678/2274127875.py:7: FutureWarning: The frame.append method is deprecated and will be removed from pandas in a future version. Use pandas.concat instead.\n",
            "  df = df.append({\n",
            "/tmp/ipykernel_318678/2274127875.py:7: FutureWarning: The frame.append method is deprecated and will be removed from pandas in a future version. Use pandas.concat instead.\n",
            "  df = df.append({\n",
            "/tmp/ipykernel_318678/2274127875.py:7: FutureWarning: The frame.append method is deprecated and will be removed from pandas in a future version. Use pandas.concat instead.\n",
            "  df = df.append({\n",
            "/tmp/ipykernel_318678/2274127875.py:7: FutureWarning: The frame.append method is deprecated and will be removed from pandas in a future version. Use pandas.concat instead.\n",
            "  df = df.append({\n",
            "/tmp/ipykernel_318678/2274127875.py:7: FutureWarning: The frame.append method is deprecated and will be removed from pandas in a future version. Use pandas.concat instead.\n",
            "  df = df.append({\n",
            "/tmp/ipykernel_318678/2274127875.py:7: FutureWarning: The frame.append method is deprecated and will be removed from pandas in a future version. Use pandas.concat instead.\n",
            "  df = df.append({\n",
            "/tmp/ipykernel_318678/2274127875.py:7: FutureWarning: The frame.append method is deprecated and will be removed from pandas in a future version. Use pandas.concat instead.\n",
            "  df = df.append({\n"
          ]
        }
      ],
      "source": [
        "tw_1 = tweepy_client.search_recent_tweets(query=\"lebaran OR idul fitri lang:id\", max_results=10)\n",
        "df_1 = tweepy_to_csv(tw_1)\n",
        "df_1.to_csv('hasil_tweet_c1.csv',index=False)"
      ]
    },
    {
      "cell_type": "markdown",
      "metadata": {},
      "source": [
        "## Soal 2\n",
        "2. Ubah <b>Code 2</b> dan simpan 5 <i>tweet</i> berbahasa Indonesia hasil <i>crawling</i> (id dan teks) menggunakan <i>code</i> tersebut dengan nama `hasil_tweet_c2.csv`. Kode tersebut diubah berdasarkan ketentuan sebagai berikut:\n",
        "    * Jika Anda angkatan 2019: *tweet* berbahasa Indonesia yang mengandung kata kunci `minyak goreng`  \n",
        "    * Jika Anda bukan angkatan 2019: *tweet* berbahasa Indonesia yang mengandung kata kunci `saham`"
      ]
    },
    {
      "cell_type": "code",
      "execution_count": 14,
      "metadata": {},
      "outputs": [],
      "source": [
        "from tweepy import StreamingClient\n",
        "\n",
        "class CustomStreamingClient(StreamingClient):\n",
        "    def on_tweet(self, tweet):\n",
        "        print(tweet.text)\n",
        "\n",
        "    def on_connection_error(self):\n",
        "        print(\"Connection error, stopping stream...\")\n",
        "        self.disconnect()"
      ]
    },
    {
      "cell_type": "code",
      "execution_count": 16,
      "metadata": {},
      "outputs": [
        {
          "name": "stdout",
          "output_type": "stream",
          "text": [
            "RT @DAlperovitch: One month into Russia’s war on Ukraine, it is worth stepping back and taking stock of the geopolitical results for Russia…\n",
            "RT @JackPosobiec: EMAILS: Hunter Biden Bio Firm Partnered With Ukrainian Researchers ‘Isolating Deadly Pathogens’ Using Funds From Obama's…\n",
            "RT @Reuters: Ukraine leader demands Western nations give arms, asks if they're afraid of Moscow https://t.co/ZZS3oDPXBu https://t.co/4Snfyz…\n",
            "RT @mattia_n: In Chernihiv (northern Ukraine), the Russian occupation forces abducted Alexander Medvedev, the head of the Snov territorial…\n",
            "@YourAnonNews @LatestAnonPress @Twitter Now this is a valid argument - Twitter is violating its own policy.\n",
            "\n",
            "(As opposed to the free speech crap)\n",
            "I would never put my investments managed by a communist regime 🤣🤣🤣 https://t.co/WJDDZLt6T9\n",
            "@DrGJackBrown Do u need headshot or corporate photo editing or retouching? if yes just hire me: \n",
            "https://t.co/AaekvF18XP\n",
            "@tomiahonen An enduring mystery this weather map with a suspicious entry. What exactly was Trump trying to get out of this?  Show Alabama he was looking out for them?\n",
            "RT @Flash43191300: ⚡️NATO's task is to prevent the risks of wars or fight them if they already exist. And they say: war in Ukraine? No, no,…\n",
            "RT @POTUS: My message to the people of Ukraine is the message I delivered today to the Ukrainian Foreign Minister and Defense Minister: We…\n",
            "RT @AudiAud33594223: @rtenews Did he say anything about why he is hiding Crimes against humanity by his  own people, on  his own people.Unl…\n",
            "RT @DrGJackBrown: Low morale of the Russian military is not limited to troops invading Ukraine — Russia's senior officers never wanted this…\n",
            "@newscientist Trying to figure out a crazy person's next move is hopeless. He might do it, he might not. He is literally a terrorist in the sense that he works by creating and manipulating fear.  We mustn't give in to that.\n",
            "President Biden delivers a speech in Warsaw, as the West looks to increase pressure on Russia over the war in Ukraine. \n",
            "\n",
            "https://t.co/BwNq24XHXC\n",
            "RT @Planetes360: Charles Gave : \"L'Ukraine est le pays le plus corrompu du monde !\" \"Hunter Biden était corrompu par le régime de #Zelensky…\n",
            "RT @JDCocchiarella: Republicans are more upset over Joe Biden’s speech denouncing Putin than they were about Putin invading Ukraine.\n",
            "@CenterUkraine @AndriySadovyi Can I buy 2 birth certificates for my 2 adopted children?They are Ukraine but stateless!Children services F.useless!Original judge paper in Sumy but https://t.co/CIjGakf5iE get original?Courts not talk to each other/open? Emails not acceptable?Sort it out!My attorney wants meet U\n",
            "RT @RealCandaceO: If you fire off various guns at the range, it’s fine to say that you were experimenting with different weapons. \n",
            "\n",
            "But if…\n",
            "The drone war on Ukraine puzzles me https://t.co/malcVi8mVl\n",
            "@POTUS with weapons but no food? with Twitter but no troops?\n",
            "Back-to-back rocket attacks hit Ukraine's Lviv, near Poland https://t.co/hf06la2AnP\n",
            "RT @necuritynft: 🎁20 WL GIVEAWAY🎁\n",
            " \n",
            "👻Goofy Ghost Gang👻\n",
            "\n",
            "🧑‍💼 Over 20+ years of team experience combined\n",
            "🕸️ Web3 networking community\n",
            "😎 Stree…\n",
            "RT @Marcela97vega: Héroe colombiano en Ucrania sale corriendo al oír a los rusos.\n",
            "#UkraineWar #Ukraine #Secret26M https://t.co/Be4JocQPGk\n",
            "RT @joshtpm: It’s worth saying out loud that making regime change in Russia a war aim of the US or Ukraine or any combination of the two is…\n",
            "RT @SkyNewsAust: President Emmanuel Macron says France will take the lead on an “exceptional humanitarian operation” to evacuate the Ukrain…\n",
            "@TimesLIVE https://t.co/t2r2vMUbOW\n",
            "@bneeditor Russia needs Mariupol to hold the ports and supply lines in the south. If they just left it, it would be a weak point that would eventually breakdown their entire logistics route across the coast.\n",
            "@MacaesBruno why don't you understand we don't like you. lmao. we think you guys are self serving cowards ... nothing more\n",
            "Tonight, the elite special forces of the Russian Federation, together with Chechen troops, will attack one of the oldest and most beautiful cities in the world, the spiritual capital of Eastern Europe - the city of Kiev. Street brigades are already underway in Kiev,\n",
            "👇\n",
            "RT @nexta_tv: Keanu Reeves supported #Ukraine https://t.co/SjlOziekTK\n",
            "RT @TimInHonolulu: 4. The people like the Oligarchs, the remaining Generals and Intel heads who are still killing civilians in Ukraine need…\n",
            "RT @YingJie22739040: Stand with UKRAINE\n",
            "🇺🇦 🇺🇦 🇺🇦 🇺🇦 🇺🇦\n",
            "🌻🌻🌻🌻🌻🌻\n",
            "美軍奔赴前線\n",
            "為人類的自由而戰❗向閃耀著人性光輝的真的英雄致敬！ 慷慨赴義，上天庇佑❗ https://t.co/dGkzn60N3H\n",
            "@coxashton82 @trupatriotforu3 @MountainLiberal No no...I don't want to hear your opinion only. \n",
            "\n",
            "SHOW me how this wasn't an insurrection.  \n",
            "\n",
            "I gave you tons of material straight from the sources themselves. \n",
            "\n",
            "That's your bar.\n",
            "@daliaggeorge @ibrahimkadis @Emilio39031652 Yes the US helped the Afghans against the ones invaded them without a reason (unprovoqued) with arms and training. The US also helps Egypt with arms and training and helps Ukraine with Arms and training and helped Iraqis with arms and training, saudis, Moroccans..\n",
            "RT @Ukraine: Russia says their conscripts are not being sent to fight in Ukraine. But this is just another lie. We have already caught a bu…\n",
            "RT @LakovosJustice: URGENT NEWS REPORT: Leaked tape reveals President Biden, the CIA, the IMF and George Soros's involvement in the illegal…\n",
            "Watch | Weapons used in the Russia-Ukraine war \n",
            "\n",
            "#RussiaUkraineWar #Ukraine #UkraineConflict #Kalibr #Howitzer #Stinger #Bayraktar #Drone https://t.co/aFv3l6zAft\n",
            "Chinese have said something because they have been too quiet during the #RussiaUkraine standoff: G Parthasarathy discusses the #UkraineRussiaWar in an interview with @moneycontrolcom \n",
            "\n",
            "#UkraineCrisis #RussianUkrainianWar #Ukraine https://t.co/gvXJeSGCNY\n",
            "RT @WhiteHouse: Happening Now: President Biden delivers remarks on the united efforts of the free world to support the people of Ukraine, h…\n",
            "RT @emeriticus: Russia is trying to end the war in Ukraine as quickly as possible. \n",
            "\n",
            "Washington is trying to prolong and enlarge it and inv…\n",
            "RT @neo_tigray: 1/2 Dear Senator,\n",
            "@MittRomney @SenatorRisch @SenTedCruz @SenRubioPress @SenToddYoung @BobMenendezNJ @reda_getachew @ChrisVa…\n",
            "RT @maxmuaz: Sapura Sykt Kroni &amp; Elit?\n",
            "\n",
            "Rafizi ulas isu Sapura bhw DSN Najib Razak nk selamatkan \"elit\", syrkt \"kroni\".\n",
            "\n",
            "1st, Mokhzani buka…\n",
            "Que deviennent les détaillants dans la Russie de Poutine? - https://t.co/LCnpEypLeg\n",
            "Dans le contexte de la guerre en Ukraine, le retrait des grandes enseignes internationales sur le territoire russe met en difficulté les revendeurs. Lire la suiteVoir la source https://t.co/TWJ6RaUTxE\n",
            "RT @KyivIndependent: ⚡️ Zelensky: Impossible to save Mariupol without additional tanks, planes. \n",
            "\n",
            "“Ukraine cannot shoot down Russian missil…\n",
            "RT @wjakobik_en: Poland's 10 point plan to end the Russian aggression in Ukraine:\n",
            "\n",
            "1. SWIFT cut off for ALL Russian banks\n",
            "\n",
            "2. Asylum for Ru…\n",
            "@NATO 北约的出现制止了俄罗斯的扩张，乌克兰的民主之光让皇帝害怕了！这就是俄乌战争的原因！乌克兰加油💪💪让民主之光横扫亚洲吧！泽连斯基是民选总统，一直在为乌克兰和平向各国求助，他用实际行动证明了人民的选择！不畏强权，他是英雄！大家都来关注他吧👏👏👏上帝保佑乌克兰 https://t.co/OLSTjL86m8…\n",
            "RT @HannaLiubakova: #Ukraine Zmitser Apanasovich, a Belarusian volunteer from Kalinouski's battalion, killed in battle near Irpen. He was 3…\n",
            "RT @KyivIndependent: ⚡️Belarusian Volunteer Battalion officially joins Ukraine’s military. \n",
            "\n",
            "The members of the battalion named after Kastu…\n",
            "RT @ajamubaraka: This keeps on happening: Afghanistan in 80s produced al-Qaeda, the destruction of Libya resulted in spread of weapons acro…\n",
            "RT @mirdorcea: @vinylzone @mrsorokaa @ICRC They might well be 2 different organizations but the Rostov office was requested by ICRC during…\n",
            "RT @AaronParnas: One day after Russia said it will be focusing on Eastern Ukraine, Lviv is under significant fire today. \n",
            "\n",
            "Lviv is a town i…\n",
            "RT @POTUS: A dictator bent on rebuilding an empire will never erase a people’s love for liberty.\n",
            " \n",
            "Brutality will never grind down their wi…\n",
            "@rgourdet Les invadieron un país independiente. Matando a civiles a doquier.\n",
            "El trato que tiene Rusia es inhumano\n",
            "RT @sahouraxo: BREAKING: While all eyes are on Ukraine, American and British bombs are being dropped right now on Yemen's capital city of S…\n",
            "Russian Foreign Ministry spokesperson Maria Zakharova says Moscow is ready for dialogue with the United States on an equal and mutual basis. #Ukraine https://t.co/4yX0U7aOUC\n",
            "RT @obozrevatel_ua: https://t.co/WJZzgSYtdv\n",
            "@RALee85 https://t.co/s3fcLO4yjp\n",
            "[#Rediff] #UkraineRussiaWar #intelligenceartificielle ☎️ @FedorovMykhailo annonce que l’Ukraine va se doter d’un système d’appels automatiques vers la Russie utilisant la reconnaissance faciale pour révéler aux Russes l’ampleur de leurs pertes militaires 👉https://t.co/xTYVApqi7u\n",
            "#UkraineUncensored...\n",
            "\n",
            "Russischer Hubschrauber über #Kharkiv gesichtet.\n",
            "\n",
            "#StayWithUkraine #Odessa #Charkiv #Kiev #UkraineUnderAttaсk #Ukraine https://t.co/oQgyFkZAjd\n",
            "RT @YourAnonOne: The #Anonymous collective has sent 7.000.000 anti-war texts to Russian cell phone users to tell them the truth about Putin…\n",
            "RT @masatheman: 今回の戦争で当然ながら西側メディアにあまり出てこないポーランドからウクライナからの支援物資の搬入の様子について報告するワシントンポスト紙の記事。簡易装甲車として魔改造された車両の様子が生々しい。高度な兵器も大事だがそれ以上に兵士向けの基本物資の必…\n",
            "RT @repdarrellissa: Biden says U.S. will use chemical weapons. White House corrects him.\n",
            "\n",
            "Biden says the 82nd Airborne is on its way to Ukr…\n",
            "RT @POTUS: A dictator bent on rebuilding an empire will never erase a people’s love for liberty.\n",
            " \n",
            "Brutality will never grind down their wi…\n",
            "RT @POTUS: Putin has the gall to say he is “de-Nazifying” Ukraine.\n",
            "\n",
            "This lie isn’t just cynical. It is obscene. \n",
            "\n",
            "President Zelenskyy was d…\n",
            "RT @meatballsubzero: Zelensky continues to beg for heavy weapons from the West, President of Ukraine criticized Western leaders who refuse…\n",
            "RT @TheRickyDavila: As Ukraine is continuously bombed, another MAGA KKK styled hate rally was going on for cultists to hear the temper tant…\n",
            "#UkraineWar \n",
            "#Russian #Ukraine war report #26march \n",
            "#RussianUkrainianWar https://t.co/LWI1qxkohk\n",
            "RT @POTUS: A dictator bent on rebuilding an empire will never erase a people’s love for liberty.\n",
            " \n",
            "Brutality will never grind down their wi…\n",
            "RT @RobinMacNab: Canada’s ambassador to the UN has emerged as one of the most outspoken critics of Russian President Vladimir Putin, often…\n",
            "RT @ivan_8848: We are not at war with Ukraine\n",
            "\n",
            "Only MSM thinks Russia is at war with Ukraine; Russia is at war with the West - volunteer at…\n",
            "In the long run, choices India makes apropos #Russia’s ongoing aggression against #Ukraine may limit India’s choices going forward, particularly when the choices are concerned with direct or core interests of great powers, opine @viveksans &amp; @markscogan. https://t.co/3oELyIZksq\n",
            "Here's how the Zelenskyy deepfake could change the world https://t.co/PEza0FAmFj\n",
            "On 24 February, as she watched the news of Russia's invasion of Ukraine, Desislava Tosheva was staring at her couch.\n",
            "\n",
            "https://t.co/yFcvmqYeGl\n",
            "@NOUVEAUXDEBUTS @LexingtonBobby @POTUS This is not true. #Putin is bullshitting us with all his threats. All lies. Look, #Ukraine is an independent country and they asked to help. If Russia dares to attack US or NATO, too bad for him. He does not have any chance against NATO forces.\n",
            "RT @Reuters: ‘For God’s sake, this man cannot remain in power’: In a fiery speech, President Joe Biden condemned Russian President Vladimir…\n",
            "Shri @DrSJaishankar lauded the Narendra Modi government’s evacuation mission ‘Operation Ganga’ to bring back students and its citizens back from war-hit Ukraine by saying that the entire “foreign policy apparatus” swung into action to “ensure the ceasing of fire for safe passage” https://t.co/9edbGWRLgu\n",
            "RT @Planetes360: Charles Gave : \"L'Ukraine est le pays le plus corrompu du monde !\" \"Hunter Biden était corrompu par le régime de #Zelensky…\n",
            "Ukraine defence: Red lights and painted arrows fuel fear of Russian agents - BBC News https://t.co/E00EiShq01\n",
            "RT @Ukraine: The Ivan Franko Drama Theater performed Shakespeare’s Hamlet in a bomb shelter, dedicating their performance to the people of…\n",
            "RT @21Earther: EXCLUSIVE: Hunter Biden Bio Firm Partnered With Ukrainian Researchers ‘Isolating Deadly Pathogens’ Using Funds From Obama's…\n",
            "RT @Sarah_Colero: If I change my name to Ukraine, will the Canadian government then start to give me actual financial support?\n",
            "@Flash43191300 https://t.co/TYG5SuSFDa\n",
            "RT @Dpol_un: Nazis in #Ukraine? What Nazis? 🙈🙉🙊\n",
            "RT @ABPNews: अमेरिकी राष्ट्रपति जो बाइडन ने एक बार फिर रूस के राष्ट्रपति व्लादिमीर पुतिन पर हमला बोला. अपने पोलैंड दौरे के दौरान बाइडन ने क…\n",
            "The idiots would probably start whining about Trump's deferments.\n",
            "\n",
            "The difference?\n",
            "\n",
            "Trump was the 1st president in decades to NOT start a fresh war. \n",
            "\n",
            "Biden, a drooling idiot, is talking about starting WWIII over his business partner, the corrupt, oppressive cash cow of Ukraine.\n",
            "RT @ProjectLincoln: The Lincoln Project Re-Airs President Biden's Remarks on Ukraine - March 26, 2022 https://t.co/rKZqbHvbN5\n",
            "RT @meiselasb: The timing of this Trump &amp; GOP rally where Trump just said President Biden must recuse himself from all matters involving Uk…\n",
            "@Brendan41696173 @RazanSpeaks @ZelenskyyUa @DohaForum He didn't ask to be invaded but he sure is doing some bad shit on his own. And this hero treatment is the same dangerous treatment that empowered Hitler.\n",
            "RT @realKyleKeegan: Biden is going to rebuild the walls in Ukraine and make Russia pay for it.\n",
            "너 자신, 푸시 빌어 먹을!\n",
            "(Korean)\n",
            "\n",
            "#Ukraine #FuckPutin\n",
            "RT @AngieSkys: People in the West are the victims of one of the largest propaganda campaigns in the history of the world. Ukraine has hired…\n",
            "RT @POTUS: To the Russian people: You are not our enemy.\n",
            " \n",
            "The American people stand with you and the brave citizens in Ukraine who want pe…\n",
            "@DrOz Does this con man realize that President Biden has a lot more things to worry about than his hurt feelings? Like people dying in Ukraine and trying to keep a homicidal dictator from starting WW3 little things like that. Get a grip dude. https://t.co/WiiG3O9Qu5\n",
            "@JadahParadox @LaurieS50174710 @LatestAnonPress The point is citizens in Ukraine are being slaughtered. Companies like Nestle who own the Purina pet food brand are demonstrably funding the terror on Ukraine through tax.\n",
            "Whatever the cat eats from the can, surely a alternative replacement or freshly made is a empathetic option. https://t.co/DoaXzEpXfe\n",
            "RT @Fattybimal: I just published The war in Ukraine. No, we didn’t bring the tank … https://t.co/hnfxtVf7aZ  Children seeks tank rather tha…\n",
            "#FckTheFascistMilitary\n",
            "#2022Mar27Coup\n",
            "#WhatsHappeningInMyanmar https://t.co/WufDcDV3On\n",
            "RT @Orgetorix: Guerre en Ukraine: un réacteur de recherche nucléaire touché par des bombardements russes, Biden critique Poutine puis nuanc…\n",
            "RT @spectatorindex: BREAKING: Ukraine says that the United States has expressed 'no objections' over Poland's offer to supply fighter jets\n",
            "RT @ChadGilmartinCA: Biden had two MAJOR gaffes in Poland:\n",
            "\n",
            "1) Mistakenly told U.S. troops they were being deployed to Ukraine\n",
            "\n",
            "2) Accident…\n",
            "RT @JackPosobiec: Twitter flags neocon Adam Kinzinger for Ukraine misinformation  https://t.co/Vru2CFuNnE\n",
            "@InnaSovsun @POTUS You still did not understand that Ukraine is sacrificed lamb for people who follow their own agendas. You will get weapon so that conflict can continue. Good testing opportunity in combat situation. But that is it.\n",
            "RT @KyivIndependent: Hundreds of protesters supporting Ukraine lay on the ground in Warsaw on March 25, to represent the civilians killed b…\n",
            "@yanisvaroufakis Putin had a large window of time to negotiate but he has refused all attempts.  He has been fighting in Ukraine since 2015.  For him it is about power and no one can control him.  He is a very evil person and he will kill, mame or whatever he wants because he has no conscience.\n",
            "@RanaDev16499830 @shivi_says @MacaesBruno https://t.co/xMr5GRA4ae\n",
            "RT @EuromaidanPress: Ukraine has eliminated yet another Russian general. On 25 March, Lieutenant General, Commander of the 49th Russian Arm…\n",
            "RT @BBCRosAtkins: 9 mins on the untruths and distortions that Russia is spreading about 'Nazis' in Ukraine - including about the role of th…\n",
            "Die atomare Drohung: Ein Monat nach dem Einmarsch russischer Truppen in die Ukraine ist die Welt eine andere. Von Konrad Paul Liessmann -&gt; https://t.co/nCv0ve0WVz https://t.co/wfQbwK04lt\n",
            "RT @POTUS: To the Russian people: You are not our enemy.\n",
            " \n",
            "The American people stand with you and the brave citizens in Ukraine who want pe…\n",
            "RT @PaulaJo4GOP: $14 billion sent to Ukraine yet this is Baltimore. https://t.co/MtNxJXT3Rn\n",
            "@POTUS President Biden, you are a liar. You threw the Ukrainian people under the bus to wage your proxy war. They take all the casualties and destruction and you get an excuse to sanction Russia. This would not have happened with President Trump.\n",
            "RT @KyivIndependent: ⚡️US to accept 100,000 Ukrainian refugees. \n",
            "\n",
            "U.S. President Joe Biden said via Twitter on March 26 that “the people of…\n",
            "RT @JDCocchiarella: Republicans are more upset over Joe Biden’s speech denouncing Putin than they were about Putin invading Ukraine.\n",
            "RT @snarwani: EU agrees to buy gas from the US, reducing its dependence on Russian gas by one-third.\n",
            "\n",
            "In case you wanted to know why Washin…\n",
            "@uffizzigallery @POTUS W/Ukrainians &amp; Putin needs to go ie. a regime change for Russia🙄, the WH today had to issue a statement to walk back what Biden said bc his words will drive us straight into a US/Russia nuclear WWIII 4/4 #IncompetentPOTUS\n",
            "Ukraine President Zelensky is saying Ukrainian troops have successfully contained the Russian army, forcing the Kremlin to consider new negotiations. Paul Workman has more.  https://t.co/Bb5QrrNeP8\n",
            "@Alexey1789 Hello Alexey, hope you’re well. We are a media platform based out of NYC that highlights important video to news outlets globally. Did you shoot this video yourself? May we share it with our news partners with credit to you? Thanks so much for your time Alexey.\n",
            "President Biden denounces Putin while urging democracies to unite in support of Ukraine during speech in Poland. Kevin Gallagher reportS.  https://t.co/rAZbHQ0RSO\n",
            "RT @PaulaJo4GOP: $14 billion sent to Ukraine yet this is Baltimore. https://t.co/MtNxJXT3Rn\n",
            "Rocket attacks hit Ukraine's Lviv as Biden visits Poland https://t.co/LBIBjmcz0e\n",
            "@nfergus They said it wasnt official policy right after.\n",
            "RT @LukeDCoffey: Azerbaijan’s internationally recognized borders are just as important as Ukraine’s internationally recognized borders. You…\n",
            "RT @nomad__64: O Μπάιντεν Jr χρηματοδοτούσε έρευνες για θανατηφόρους ιούς στην Ουκρανία.\n",
            "Κάτι σαν τον Covid-19 δηλαδή;;\n",
            "Ψεκασμένη και η Dai…\n",
            "Yes @potus, Putin must go! Like we've been screaming since kids' limbs started flying A F@cking Month Ago!  In the meantime, get @ZelenskyyUa all the equipment he asked for so he and the rest of Ukraine can survive until someone puts the Kremlin down. https://t.co/zcahnMPKSL\n",
            "RT @Ukraine: Ukraine scored 2nd in Beijing 2022 Paralympic Winter Games. A live testament Ukrainians fight and win against all odds in spor…\n",
            "RT @igorsushko: Now the main culprit is Shoigu (Russian Minister of Defense) – \"if it weren't for his catastrophic military miscalculation,…\n",
            "RT @necuritynft: 🎁20 WL GIVEAWAY🎁\n",
            " \n",
            "👻Goofy Ghost Gang👻\n",
            "\n",
            "🧑‍💼 Over 20+ years of team experience combined\n",
            "🕸️ Web3 networking community\n",
            "😎 Stree…\n",
            "RT @RALee85: Senior Lieutenant Vladislav Lukonin was the commander of a reconnaissance company in the VDV's 137th Airborne Regiment. He was…\n",
            "RT @KorsunskySergiy: #RuZZia killed 136 children. #RuZZia は 136 人の子供を殺しました。\n",
            "\n",
            "Ukraine latest: War has killed 136 children, says Ukraine pros…\n",
            "@fox13seattle Biden without a teleprompter is likely to get lots of people killed.\n",
            "@3sidedstory Lol love these fake Christian pretenders when we all know their god is trump https://t.co/tzWPYRSPse\n",
            "RT @necuritynft: 🎁20 WL GIVEAWAY🎁\n",
            " \n",
            "👻Goofy Ghost Gang👻\n",
            "\n",
            "🧑‍💼 Over 20+ years of team experience combined\n",
            "🕸️ Web3 networking community\n",
            "😎 Stree…\n",
            "@POTUS That last line\n",
            "@RazyBrat @stillgray That nato is weaker, the un is weaker, they've been busy with covid, now it's the time to do what I've always wanted to. He surrounded himself with yes men. They told him what he wanted to hear, that Ukraine is weak, it will be easy to take over 2\n",
            "Conflit en Ukraine : des Länder allemands comptent interdire l'emploi du symbole «Z»\n",
            "\n",
            "Ils sont d'ores et déjà qualifiés: ce sont des \"Zidiots\" 😂😂😂😂😂😂😂 https://t.co/BsXi043LEL\n",
            "@POTUS Do not allow the war of lies to prevail\n",
            "@RTarabic This video is not from 2022.  It is winter in Ukraine.  There are leaves on the trees in these videos.  RT needs to do a better job when attempting to fake videos.\n",
            "RT @McFaul: The only way Putin will withdraw his army is when they are no longer advancing. Ukraine needs more weapons to stop their advanc…\n",
            "Russia’s invasion of Ukraine has diverted international attention from conflicts elsewhere, especially of the genocide unfolding in #Tigray. Tigrayans across the region and country are being harassed, killed, fired from jobs and living in fear. #TigrayGenocide @lynbrownmp\n",
            "RT @anneapplebaum: On the utopian novel that predicted the Ukraine war. By a specialist in Russian neo-medeivalism who knows her stuff  htt…\n",
            "RT @Poulin2012: Ces images d’humiliations publiques en Ukraine sont vérifiées. Horrible.\n",
            "@mehdirhasan Ukraine gets to decide, no one else.\n",
            "RT @JohnRoss43: Never forget in present war in Ukraine US goals are (1) most immediately to damage Russia (2) Strategically to try to isola…\n",
            "RT @HannaLiubakova: #Ukraine Zmitser Apanasovich, a Belarusian volunteer from Kalinouski's battalion, killed in battle near Irpen. He was 3…\n",
            "@Independent 👍 https://t.co/MfCxMl29zQ\n",
            "RT @samanthamarika1: Joe Biden is openly telling US soldiers that they will be in Ukraine, that the NWO is the mission, and that food short…\n",
            "@McFaul @ZelenskyyUa Hope every Western country doesn’t invite for a summit any member of the Kremlin in the next 10 years. https://t.co/cbGvTlbITv\n",
            "@r4inbowg4m3 @ShanTheGamer21 Nazism doesn't relate to democracy\n",
            "\n",
            "https://t.co/dKqxqpzhzW\n",
            "RT @CarmenAColeman: Y cuando el fiscal general de Ucrania quiso investigar a la banda de drogadictos, criminalJoe ofrece mil millone$Dls. a…\n",
            "What - he exposed the #Global #Criminals #Elite #West\n",
            "RT @thompson_bjorn: So sad what’s going on in Ukraine, here’s a video of Minneapolis after the riots in 2020. https://t.co/Gn21dxDXDs\n",
            "RT @KyivIndependent: ⚡️Belarusian Volunteer Battalion officially joins Ukraine’s military. \n",
            "\n",
            "The members of the battalion named after Kastu…\n",
            "@ANI https://t.co/pvsDtkneC5\n",
            "RT @AlexisC69973375: Political ideology courses in Chinese schools require teachers to teach students that \"Ukraine was invaded by Russia b…\n",
            "RT @UAWeapons: #Ukraine: Russian forces lost multiple trucks in Trostianets today as well: 3x Supply trucks and an apparent fuel truck.\n",
            "\n",
            "vi…\n",
            "@Shtirlitz53 I thought the same too in the beginning of the war. Believing putin’s soldiers didn’t know about the true mission. Sadly, this is war. They’re killing women, elderly, children and disable in Ukraine. May God forgive me for these words. Glory to Ukraine #StandWithUkraine 🙏🏽💙💛\n",
            "@ForeignPolicy https://t.co/bB6eTwwwJX @dratiaalikazmi\n",
            "RT @sahouraxo: Today marks 7 years of US-UK-backed war and siege against Yemen.\n",
            "\n",
            "400,000 civilians murdered and 17 million more starving to…\n",
            "RT @RALee85: Senior Lieutenant Vladislav Lukonin was the commander of a reconnaissance company in the VDV's 137th Airborne Regiment. He was…\n",
            "RT @Julius_Kim: I propose swapping 100,000 new immigrants from Ukraine for Tucker Carlson and 99,999 of his disgruntled, America underminin…\n",
            "@johnjoechad I want OUT of the EU! https://t.co/7VABEdNmmK\n",
            "RT @SarahTaber_bww: More wheat stats.\n",
            "\n",
            "My personal favorite Misleading Wheat Stat is \"Ukraine/Russia grow 25% of world wheat exports.\"\n",
            "\n",
            "Why…\n",
            "@Julie_1776 @dogskidsncake @AshleyRParker And\n",
            "\n",
            "https://t.co/Ii336sXtoS\n",
            "@phast52 Undocumented non English speaking workers only scare unskilled people.\n",
            "RT @morphonios: That's right, Joe. There are no Nazis in Ukraine. And the Nazis in Ukraine that don't exist certainly weren't armed and tra…\n",
            "@Fau_Kars @OleksandraZubal 👏👏👏\n",
            "RT @repdarrellissa: Biden says U.S. will use chemical weapons. White House corrects him.\n",
            "\n",
            "Biden says the 82nd Airborne is on its way to Ukr…\n",
            "Rockets strike Ukraine's Lviv as Biden says Putin 'cannot remain in power' https://t.co/zlgfTlE5CK https://t.co/Tsw9VSCmNj\n",
            "RT @DrGJackBrown: Low morale of the Russian military is not limited to troops invading Ukraine — Russia's senior officers never wanted this…\n",
            "RT @sahouraxo: Today marks 7 years of US-UK-backed war and siege against Yemen.\n",
            "\n",
            "400,000 civilians murdered and 17 million more starving to…\n",
            "RT @NinaCleopatra: In the years before Moscow invaded Ukraine, Democrats enriched themselves politically and personally from oligarchs and…\n",
            "@Leslieoo7 Soon. And, any way imaginable, doesn’t matter. Dudes a fkn modern day monster.\n",
            "RT @MaxAbrahms: Yesterday, Biden said American troops have been fighting in Ukraine &amp; more are headed to fight there.\n",
            "\n",
            "Today, Biden said th…\n",
            "RT @Orgetorix: Biden-Rede in Warschau: Der Krieg und die Flamme der Freiheit https://t.co/VBkWMlnYDV via @faznet\n",
            "@FoxNews @dbongino Such an idiot.\n",
            "@leslibless #JOEBIDEN TOLD A GROUP OF U.S. #TROOPS WHAT THEY WILL SEE IN #UKRAINE WHEN THEY'RE THERE. HE SHOULDN'T SPEAK IN PUBLIC. HIS #GAFFES ARE ARE GETTING DANGEROUS. #FJB #MAGA #TRUMP2024 #USA #RUSSIA #WARZONE #SAVEAMERICA https://t.co/HyiMdfdoMx\n",
            "RT @HannaLiubakova: #Ukraine Zmitser Apanasovich, a Belarusian volunteer from Kalinouski's battalion, killed in battle near Irpen. He was 3…\n",
            "RT @Fisa_end_ccp: #MilesGuo #MilesGrandLive 2022-03-20\n",
            "\n",
            "The war of Russia invading #Ukraine may end in two ways. One, Putin’s family pushes…\n",
            "@FranzMayrBerlin Ohne Frage ist Steinmeier eine Schande für Deutschland, aber nicht deswegen. Melnyk ist eine Schande für die Ukraine, aber deswegen.\n",
            "RT @CBSNews: Protesters in Cologne, Germany laid down 135 teddy bears for the children who have been killed in the Russian-Ukraine war on S…\n",
            "RT @Fattybimal: I just published The road is a lifetime. Diaries of a Refugee https://t.co/D8NWAypIuJ  #UkraineRussianWar \n",
            "#Ukraine #REFUGE…\n",
            "We have an idiom in Mandarin 菜鸡互啄 meat chickens pecking each other. Connotation: war between two militarily backward countries. The Iran-Iraq war, the India-Pakistan wars, the Armenia-Azerbaijan war, and the ongoing Russia Ukraine war are all 菜鸡互啄.\n",
            "@TakeSpecialist Ah yes because Ukraine is definitly the ones who can radicalized the EU and create a new Axis Power. \n",
            "\n",
            "You mean the language law that made it so Ukrainian should be spoken in most public settings? But also have immunities to other minority languages in the cou try?\n",
            "Cardinal Krajewski has just left Fatima, where he led the consecration of Russia, and is headed back to Ukraine. https://t.co/eeNbf7Wl1L\n",
            "RT @Navsteva: German proverb: If there is a Nazi at the table and 10 other people are talking with him, then there are 11 Nazis at the tabl…\n",
            "@POTUS Biden you are not typing these tweets!!  Its completely impossible....\n",
            "RT @JanAlbrecht: Wir haben heute den fünften Geburtstag von Liza aus Charkiv bei uns gefeiert. Seit zwei Wochen ist sie bei uns mit ihrer K…\n",
            "@I_amBlackCrow @nypost Taking a stand against what?  The Ocars didn’t say they wouldn’t have him on.  See I can do it, “I’m against cancer…everyone who disagrees with me is a fool!”  Take a stand with me!\n",
            "RT @EmmanuelMacron: Cette guerre de la Russie en Ukraine, en empêchant les récoltes et les semences de céréales, entraîne déjà de sérieux p…\n",
            "RT @RealCandaceO: If you fire off various guns at the range, it’s fine to say that you were experimenting with different weapons. \n",
            "\n",
            "But if…\n",
            "Just don’t let him put music in your IPhone https://t.co/wbrJ6HXRqx\n",
            "Its worrying https://t.co/Z7UHeQeGxF\n",
            "@elonmusk you giving amazing internet coverage to #Ukraine has been amazing, but have you thought about giving/expanding  @SpaceXStarlink coverage to #Russia so that they may have access to the truth?\n",
            "RT @BBCSteveR: When Germany won the Eurovision Song Contest in 1982, Nicole sang ‘A Little Peace’. Forty years on I can’t think of a more a…\n",
            "RT @McFaul: Russian outcry over Bidens comment today about Putin would have a lot more credibility if Putins army was not trying to overthr…\n",
            "@Teddy26869365 @nblackshoe @JRubinBlogger IBID That’s cute…doesn’t change the facts…did your tweets bring back to life all Ukraine civilians murdered because dementia joe is in the White House…go check we’ll be here waiting… https://t.co/FteSa2rWuG\n",
            "RT @WIONews: #StraightTalk | When Indian students were stranded in Ukraine, Minister Jaishankar reached out to me, asked if we could help.…\n",
            "RT @repdarrellissa: Biden says U.S. will use chemical weapons. White House corrects him.\n",
            "\n",
            "Biden says the 82nd Airborne is on its way to Ukr…\n",
            "https://t.co/jAkryNgGDc\n",
            "@RNCResearch What happened to your party? Y'all turned into traitors and cult members.\n",
            "@werewolf0713 @Tafreek0 @tomaburque @RT_com Haha. Russia has a million man military (however corrupt and inept) and enough nuclear weapons to end human civilization. It was never at risk from Ukraine. But it will pay dearly for decades for what it has done and continues to do. Catastrophic miscalculation.\n",
            "裏では双方大使を呼び合っています。ハは既に200万人ものウ難民も受け入れています。\n",
            "\n",
            "「ウが我が国への安定的なガス供給を阻止しようとしていることは主権の侵害と見なす」\n",
            "\n",
            "一方ウ「ウを迂回するガス輸送は我々の国家安全保障およびEUエネ安全保障を損なう」\n",
            "\n",
            "https://t.co/nVtCBM2bWb\n",
            "RT @acoyne: WOW. Good for him...\n",
            "\n",
            "Biden says Putin 'cannot remain in power' in sweeping speech on Russian invasion of Ukraine https://t.co/…\n",
            "RT @KyivIndependent: ⚡️ Trostyanets liberated by Ukraine. \n",
            "\n",
            "The city, located in the northern Sumy Oblast, was captured by Russian forces o…\n",
            "RT @RussianEmbassy: MFA spox #Zakharova: Kiev authorities don’t care about their citizens. #Ukraine’s armed formations use civilians as a h…\n",
            "RT @RogerLabadie: IL YA UN OEIL QUI REGARDE POUTINE!\n",
            "On ne peut pas laisser passer cette guerre de Poutine en Ukraine, la Cour pénale inter…\n",
            "China doesn't want to be too close to Russia, but not too distant either. Does China care about money or sustaining authoritarian brethren? \n",
            "https://t.co/XOpCg49LX3\n",
            "RT @TheDemCoalition: \"When I need to amp myself up for battle, I just think about the most punchable face on the planet … Tucker Carlson,\"…\n",
            "@FunNameGoesHere @millenniumgrand @aaron_schwa @aaronjmate Or they sent an email to the Kremlin with the subject line. \"Please Invade Ukraine\" ?\n",
            "@Masupioakat @USATODAY He needs his azz voted out of office , the Russian ppl need to remove this monster, stop with the conspiracy bs\n",
            "@esportsPM What about Parimatch in Belarus? Stop war! Stand with Ukraine!\n",
            "RT @ChathamHouse: Confronted with Russia’s aggression, the post-Soviet countries are losing their faith in the West in general and the EU i…\n",
            "RT @DAlperovitch: One month into Russia’s war on Ukraine, it is worth stepping back and taking stock of the geopolitical results for Russia…\n",
            "RT @nexta_tv: In #Germany, they may begin to fine for the symbol \"Z\", writes Deutsche Welle.\n",
            "\n",
            "Lower Saxony police have already been informe…\n",
            "RT @ABC: Pres. Biden on Ukraine's resistance of Russia's invasion: \"The brave Ukrainian resistance is a front in a larger fight: for the es…\n",
            "ウは有利だった情報戦の中にあって、自ら虎の威を借りたこの高飛車外交を続け、特に国境を接する程の近隣諸国との関係が悪化してきています。\n",
            "\n",
            "一方、ネオ〇チがここに集まってきている模様ですので、”ウ国民”がそれぞれ他国へほぼ出きる等すれば、一気に叩くという選択肢も露には出てきました。\n",
            "RT @kzshabazz: 'As long as you are Black, no one likes you' | Africans fleeing Ukraine report racism and discrimination at the border | htt…\n",
            "We must take a stand against Putin’s invasion of Ukraine. Will you sign the petition and send a clear message that democracy, freedom, and peace need to be defended in Ukraine, across Europe, and throughout the world? https://t.co/9Ru1s2jWjB #UKwithUkraine\n",
            "RT @KyivIndependent: ⚡️ Zelensky: If Ukraine doesn't receive planes, Russia could threaten neighbors. \n",
            "\n",
            "President Volodymyr Zelensky, in a…\n",
            "RT @igorsushko: Holodomor: How Stalin starved Ukraine. \n",
            "Stalin is Putin's hero &amp; role model. \n",
            "YouTube video by @voxdotcom , released yester…\n",
            "OPINION\n",
            "\n",
            "\" Biden Says Russian President Vladimir Putin ‘Cannot Remain in Power’\"\n",
            "⬇️ https://t.co/OhgalQrMtE\n",
            "@Tricolour_First https://t.co/oQILWmUA86\n",
            "RT @PaulaJo4GOP: $14 billion sent to Ukraine yet this is Baltimore. https://t.co/MtNxJXT3Rn\n",
            "@POTUS Mr President, why don't we actually get the Ukranians what they need? Shoulder fired missiles aint cutting it. Why do we spend $770bn on defense if not for this moment? This is one area I would not gripe about paying more taxes for. This is our time to lead the world.\n",
            "RT @xmetaverse: Huge Announcement !!! 📣 \n",
            "\n",
            "Planet X: Gold of the Gods is being showcased on the Mintable Editorial ❕❕❕\n",
            "\n",
            "Things are picking 🆙…\n",
            "@Himanshu3Dworld @BBCHindi थोड़ा जानकारी रखो भाई दुनिया का सबसे ज्यादा जमीन बाला देश रुस है सबसे ज्यादा परमाणु हथियार रुस के पास हैं अमेरिका की खासियत ईराक सीरिया अफगानिस्तान से पूछो बर्बाद करके रख दिया जमकर पैसा कमाया\n",
            "🚨SCAM!! Reported spams all over\n",
            "Micheal Wolford @Singlebuddy444\n",
            "\n",
            "Children have been killed. Children have been wounded. We must protect all children in Ukraine. Now They need peace..  Donate and help Ukrainian children and refugees via [CRAP]\n",
            "\n",
            "cryptosupport - in - ukraine . xyz\n",
            "RT @FilmUpdates: Sean Penn asks #Oscar nominees to “protest and to boycott that Academy Awards” if Ukraine president Zelenskyy isn’t part o…\n",
            "@mgb5000 @daveand84185453 @BaconByWire @richimedhurst 1 Syria? Russia enjoys the support of the President-elect and has not invaded there. Kazakhstan, the Baltic States?? What kind of nonsense is this\n",
            "@RepMTG U pathetic kunt \n",
            "Your day is coming bytch\n",
            "RT @O_Ostapchuk: @InnaSovsun I want NATO and every single person in the world to remember that thousands of killed in Mariupol and around U…\n",
            "A Mariupol survivor’s story from the ‘darkest of hells’. https://t.co/R1eO5I6E7d\n",
            "RT @billroggio: 1) This is an unpopular view (an argument I made from the beginning) that gets you branded as pro-Putin, but it needs to be…\n",
            "RT @PaulaChertok: It was heartfelt and honest, not “inarticulate” rhetoric. It was those deciding to call it “regime change” that caused a…\n",
            "@Roselover24 @RebeccaforReal Please tell us how Russia attacking Ukraine is the reason for higher food prices?? Good rices@have been skyrocking for the past 12 months\n",
            "@84vsandhu @adamscrabble Because they were given it?\n",
            "https://t.co/IWPd1C4ois\n",
            "RT @mickeymiketikue: Russia’s invasion of Ukraine has diverted international attention from conflicts elsewhere, especially of the genocide…\n",
            "RT @jajecznyk: Manchester stands with Ukraine 🇺🇦🇺🇦 https://t.co/M2r09aKQHO\n",
            "@Reuters Why haven't we seen pictures of the fallen? As awful as it would be, it could deter support for Putin, and put an end to the nonsense.\n",
            "RT @Reuters: ‘For God’s sake, this man cannot remain in power’: In a fiery speech, President Joe Biden condemned Russian President Vladimir…\n",
            "RT @nexta_tv: \"Along the paths of movement of #Russian military columns on the territory of the republic of #Belarus there are many facts o…\n"
          ]
        },
        {
          "ename": "KeyboardInterrupt",
          "evalue": "",
          "output_type": "error",
          "traceback": [
            "\u001b[0;31m---------------------------------------------------------------------------\u001b[0m",
            "\u001b[0;31mKeyboardInterrupt\u001b[0m                         Traceback (most recent call last)",
            "\u001b[1;32m/home/sebelum_masehi/Documents/Ilmu Komputer UI/Analitika Media Sosial/Tutorial/Tutorial 3/Tutorial 3 - Data Collection.ipynb Cell 82'\u001b[0m in \u001b[0;36m<cell line: 7>\u001b[0;34m()\u001b[0m\n\u001b[1;32m      <a href='vscode-notebook-cell:/home/sebelum_masehi/Documents/Ilmu%20Komputer%20UI/Analitika%20Media%20Sosial/Tutorial/Tutorial%203/Tutorial%203%20-%20Data%20Collection.ipynb#ch0000091?line=3'>4</a>\u001b[0m custom_stream\u001b[39m.\u001b[39madd_rules(tweepy\u001b[39m.\u001b[39mStreamRule(\u001b[39m\"\u001b[39m\u001b[39msaham\u001b[39m\u001b[39m\"\u001b[39m))\n\u001b[1;32m      <a href='vscode-notebook-cell:/home/sebelum_masehi/Documents/Ilmu%20Komputer%20UI/Analitika%20Media%20Sosial/Tutorial/Tutorial%203/Tutorial%203%20-%20Data%20Collection.ipynb#ch0000091?line=4'>5</a>\u001b[0m custom_stream\u001b[39m.\u001b[39madd_rules(tweepy\u001b[39m.\u001b[39mStreamRule(\u001b[39m\"\u001b[39m\u001b[39mlang:en\u001b[39m\u001b[39m\"\u001b[39m))\n\u001b[0;32m----> <a href='vscode-notebook-cell:/home/sebelum_masehi/Documents/Ilmu%20Komputer%20UI/Analitika%20Media%20Sosial/Tutorial/Tutorial%203/Tutorial%203%20-%20Data%20Collection.ipynb#ch0000091?line=6'>7</a>\u001b[0m custom_stream\u001b[39m.\u001b[39;49mfilter()\n",
            "File \u001b[0;32m~/Documents/Ilmu Komputer UI/Analitika Media Sosial/Tutorial/Tutorial 3/env/lib/python3.10/site-packages/tweepy/streaming.py:745\u001b[0m, in \u001b[0;36mStreamingClient.filter\u001b[0;34m(self, threaded, **params)\u001b[0m\n\u001b[1;32m    <a href='file:///home/sebelum_masehi/Documents/Ilmu%20Komputer%20UI/Analitika%20Media%20Sosial/Tutorial/Tutorial%203/env/lib/python3.10/site-packages/tweepy/streaming.py?line=742'>743</a>\u001b[0m     \u001b[39mreturn\u001b[39;00m \u001b[39mself\u001b[39m\u001b[39m.\u001b[39m_threaded_connect(method, endpoint, params\u001b[39m=\u001b[39mparams)\n\u001b[1;32m    <a href='file:///home/sebelum_masehi/Documents/Ilmu%20Komputer%20UI/Analitika%20Media%20Sosial/Tutorial/Tutorial%203/env/lib/python3.10/site-packages/tweepy/streaming.py?line=743'>744</a>\u001b[0m \u001b[39melse\u001b[39;00m:\n\u001b[0;32m--> <a href='file:///home/sebelum_masehi/Documents/Ilmu%20Komputer%20UI/Analitika%20Media%20Sosial/Tutorial/Tutorial%203/env/lib/python3.10/site-packages/tweepy/streaming.py?line=744'>745</a>\u001b[0m     \u001b[39mself\u001b[39;49m\u001b[39m.\u001b[39;49m_connect(method, endpoint, params\u001b[39m=\u001b[39;49mparams)\n",
            "File \u001b[0;32m~/Documents/Ilmu Komputer UI/Analitika Media Sosial/Tutorial/Tutorial 3/env/lib/python3.10/site-packages/tweepy/streaming.py:570\u001b[0m, in \u001b[0;36mStreamingClient._connect\u001b[0;34m(self, method, endpoint, **kwargs)\u001b[0m\n\u001b[1;32m    <a href='file:///home/sebelum_masehi/Documents/Ilmu%20Komputer%20UI/Analitika%20Media%20Sosial/Tutorial/Tutorial%203/env/lib/python3.10/site-packages/tweepy/streaming.py?line=567'>568</a>\u001b[0m \u001b[39mself\u001b[39m\u001b[39m.\u001b[39msession\u001b[39m.\u001b[39mheaders[\u001b[39m\"\u001b[39m\u001b[39mAuthorization\u001b[39m\u001b[39m\"\u001b[39m] \u001b[39m=\u001b[39m \u001b[39mf\u001b[39m\u001b[39m\"\u001b[39m\u001b[39mBearer \u001b[39m\u001b[39m{\u001b[39;00m\u001b[39mself\u001b[39m\u001b[39m.\u001b[39mbearer_token\u001b[39m}\u001b[39;00m\u001b[39m\"\u001b[39m\n\u001b[1;32m    <a href='file:///home/sebelum_masehi/Documents/Ilmu%20Komputer%20UI/Analitika%20Media%20Sosial/Tutorial/Tutorial%203/env/lib/python3.10/site-packages/tweepy/streaming.py?line=568'>569</a>\u001b[0m url \u001b[39m=\u001b[39m \u001b[39mf\u001b[39m\u001b[39m\"\u001b[39m\u001b[39mhttps://api.twitter.com/2/tweets/\u001b[39m\u001b[39m{\u001b[39;00mendpoint\u001b[39m}\u001b[39;00m\u001b[39m/stream\u001b[39m\u001b[39m\"\u001b[39m\n\u001b[0;32m--> <a href='file:///home/sebelum_masehi/Documents/Ilmu%20Komputer%20UI/Analitika%20Media%20Sosial/Tutorial/Tutorial%203/env/lib/python3.10/site-packages/tweepy/streaming.py?line=569'>570</a>\u001b[0m \u001b[39msuper\u001b[39;49m()\u001b[39m.\u001b[39;49m_connect(method, url, \u001b[39m*\u001b[39;49m\u001b[39m*\u001b[39;49mkwargs)\n",
            "File \u001b[0;32m~/Documents/Ilmu Komputer UI/Analitika Media Sosial/Tutorial/Tutorial 3/env/lib/python3.10/site-packages/tweepy/streaming.py:87\u001b[0m, in \u001b[0;36mBaseStream._connect\u001b[0;34m(self, method, url, auth, params, headers, body)\u001b[0m\n\u001b[1;32m     <a href='file:///home/sebelum_masehi/Documents/Ilmu%20Komputer%20UI/Analitika%20Media%20Sosial/Tutorial/Tutorial%203/env/lib/python3.10/site-packages/tweepy/streaming.py?line=83'>84</a>\u001b[0m \u001b[39mif\u001b[39;00m \u001b[39mnot\u001b[39;00m \u001b[39mself\u001b[39m\u001b[39m.\u001b[39mrunning:\n\u001b[1;32m     <a href='file:///home/sebelum_masehi/Documents/Ilmu%20Komputer%20UI/Analitika%20Media%20Sosial/Tutorial/Tutorial%203/env/lib/python3.10/site-packages/tweepy/streaming.py?line=84'>85</a>\u001b[0m     \u001b[39mbreak\u001b[39;00m\n\u001b[0;32m---> <a href='file:///home/sebelum_masehi/Documents/Ilmu%20Komputer%20UI/Analitika%20Media%20Sosial/Tutorial/Tutorial%203/env/lib/python3.10/site-packages/tweepy/streaming.py?line=86'>87</a>\u001b[0m \u001b[39mfor\u001b[39;00m line \u001b[39min\u001b[39;00m resp\u001b[39m.\u001b[39miter_lines(\n\u001b[1;32m     <a href='file:///home/sebelum_masehi/Documents/Ilmu%20Komputer%20UI/Analitika%20Media%20Sosial/Tutorial/Tutorial%203/env/lib/python3.10/site-packages/tweepy/streaming.py?line=87'>88</a>\u001b[0m     chunk_size\u001b[39m=\u001b[39m\u001b[39mself\u001b[39m\u001b[39m.\u001b[39mchunk_size\n\u001b[1;32m     <a href='file:///home/sebelum_masehi/Documents/Ilmu%20Komputer%20UI/Analitika%20Media%20Sosial/Tutorial/Tutorial%203/env/lib/python3.10/site-packages/tweepy/streaming.py?line=88'>89</a>\u001b[0m ):\n\u001b[1;32m     <a href='file:///home/sebelum_masehi/Documents/Ilmu%20Komputer%20UI/Analitika%20Media%20Sosial/Tutorial/Tutorial%203/env/lib/python3.10/site-packages/tweepy/streaming.py?line=89'>90</a>\u001b[0m     \u001b[39mif\u001b[39;00m line:\n\u001b[1;32m     <a href='file:///home/sebelum_masehi/Documents/Ilmu%20Komputer%20UI/Analitika%20Media%20Sosial/Tutorial/Tutorial%203/env/lib/python3.10/site-packages/tweepy/streaming.py?line=90'>91</a>\u001b[0m         \u001b[39mself\u001b[39m\u001b[39m.\u001b[39mon_data(line)\n",
            "File \u001b[0;32m~/Documents/Ilmu Komputer UI/Analitika Media Sosial/Tutorial/Tutorial 3/env/lib/python3.10/site-packages/requests/models.py:804\u001b[0m, in \u001b[0;36mResponse.iter_lines\u001b[0;34m(self, chunk_size, decode_unicode, delimiter)\u001b[0m\n\u001b[1;32m    <a href='file:///home/sebelum_masehi/Documents/Ilmu%20Komputer%20UI/Analitika%20Media%20Sosial/Tutorial/Tutorial%203/env/lib/python3.10/site-packages/requests/models.py?line=794'>795</a>\u001b[0m \u001b[39m\"\"\"Iterates over the response data, one line at a time.  When\u001b[39;00m\n\u001b[1;32m    <a href='file:///home/sebelum_masehi/Documents/Ilmu%20Komputer%20UI/Analitika%20Media%20Sosial/Tutorial/Tutorial%203/env/lib/python3.10/site-packages/requests/models.py?line=795'>796</a>\u001b[0m \u001b[39mstream=True is set on the request, this avoids reading the\u001b[39;00m\n\u001b[1;32m    <a href='file:///home/sebelum_masehi/Documents/Ilmu%20Komputer%20UI/Analitika%20Media%20Sosial/Tutorial/Tutorial%203/env/lib/python3.10/site-packages/requests/models.py?line=796'>797</a>\u001b[0m \u001b[39mcontent at once into memory for large responses.\u001b[39;00m\n\u001b[1;32m    <a href='file:///home/sebelum_masehi/Documents/Ilmu%20Komputer%20UI/Analitika%20Media%20Sosial/Tutorial/Tutorial%203/env/lib/python3.10/site-packages/requests/models.py?line=797'>798</a>\u001b[0m \n\u001b[1;32m    <a href='file:///home/sebelum_masehi/Documents/Ilmu%20Komputer%20UI/Analitika%20Media%20Sosial/Tutorial/Tutorial%203/env/lib/python3.10/site-packages/requests/models.py?line=798'>799</a>\u001b[0m \u001b[39m.. note:: This method is not reentrant safe.\u001b[39;00m\n\u001b[1;32m    <a href='file:///home/sebelum_masehi/Documents/Ilmu%20Komputer%20UI/Analitika%20Media%20Sosial/Tutorial/Tutorial%203/env/lib/python3.10/site-packages/requests/models.py?line=799'>800</a>\u001b[0m \u001b[39m\"\"\"\u001b[39;00m\n\u001b[1;32m    <a href='file:///home/sebelum_masehi/Documents/Ilmu%20Komputer%20UI/Analitika%20Media%20Sosial/Tutorial/Tutorial%203/env/lib/python3.10/site-packages/requests/models.py?line=801'>802</a>\u001b[0m pending \u001b[39m=\u001b[39m \u001b[39mNone\u001b[39;00m\n\u001b[0;32m--> <a href='file:///home/sebelum_masehi/Documents/Ilmu%20Komputer%20UI/Analitika%20Media%20Sosial/Tutorial/Tutorial%203/env/lib/python3.10/site-packages/requests/models.py?line=803'>804</a>\u001b[0m \u001b[39mfor\u001b[39;00m chunk \u001b[39min\u001b[39;00m \u001b[39mself\u001b[39m\u001b[39m.\u001b[39miter_content(chunk_size\u001b[39m=\u001b[39mchunk_size, decode_unicode\u001b[39m=\u001b[39mdecode_unicode):\n\u001b[1;32m    <a href='file:///home/sebelum_masehi/Documents/Ilmu%20Komputer%20UI/Analitika%20Media%20Sosial/Tutorial/Tutorial%203/env/lib/python3.10/site-packages/requests/models.py?line=805'>806</a>\u001b[0m     \u001b[39mif\u001b[39;00m pending \u001b[39mis\u001b[39;00m \u001b[39mnot\u001b[39;00m \u001b[39mNone\u001b[39;00m:\n\u001b[1;32m    <a href='file:///home/sebelum_masehi/Documents/Ilmu%20Komputer%20UI/Analitika%20Media%20Sosial/Tutorial/Tutorial%203/env/lib/python3.10/site-packages/requests/models.py?line=806'>807</a>\u001b[0m         chunk \u001b[39m=\u001b[39m pending \u001b[39m+\u001b[39m chunk\n",
            "File \u001b[0;32m~/Documents/Ilmu Komputer UI/Analitika Media Sosial/Tutorial/Tutorial 3/env/lib/python3.10/site-packages/requests/models.py:760\u001b[0m, in \u001b[0;36mResponse.iter_content.<locals>.generate\u001b[0;34m()\u001b[0m\n\u001b[1;32m    <a href='file:///home/sebelum_masehi/Documents/Ilmu%20Komputer%20UI/Analitika%20Media%20Sosial/Tutorial/Tutorial%203/env/lib/python3.10/site-packages/requests/models.py?line=757'>758</a>\u001b[0m \u001b[39mif\u001b[39;00m \u001b[39mhasattr\u001b[39m(\u001b[39mself\u001b[39m\u001b[39m.\u001b[39mraw, \u001b[39m'\u001b[39m\u001b[39mstream\u001b[39m\u001b[39m'\u001b[39m):\n\u001b[1;32m    <a href='file:///home/sebelum_masehi/Documents/Ilmu%20Komputer%20UI/Analitika%20Media%20Sosial/Tutorial/Tutorial%203/env/lib/python3.10/site-packages/requests/models.py?line=758'>759</a>\u001b[0m     \u001b[39mtry\u001b[39;00m:\n\u001b[0;32m--> <a href='file:///home/sebelum_masehi/Documents/Ilmu%20Komputer%20UI/Analitika%20Media%20Sosial/Tutorial/Tutorial%203/env/lib/python3.10/site-packages/requests/models.py?line=759'>760</a>\u001b[0m         \u001b[39mfor\u001b[39;00m chunk \u001b[39min\u001b[39;00m \u001b[39mself\u001b[39m\u001b[39m.\u001b[39mraw\u001b[39m.\u001b[39mstream(chunk_size, decode_content\u001b[39m=\u001b[39m\u001b[39mTrue\u001b[39;00m):\n\u001b[1;32m    <a href='file:///home/sebelum_masehi/Documents/Ilmu%20Komputer%20UI/Analitika%20Media%20Sosial/Tutorial/Tutorial%203/env/lib/python3.10/site-packages/requests/models.py?line=760'>761</a>\u001b[0m             \u001b[39myield\u001b[39;00m chunk\n\u001b[1;32m    <a href='file:///home/sebelum_masehi/Documents/Ilmu%20Komputer%20UI/Analitika%20Media%20Sosial/Tutorial/Tutorial%203/env/lib/python3.10/site-packages/requests/models.py?line=761'>762</a>\u001b[0m     \u001b[39mexcept\u001b[39;00m ProtocolError \u001b[39mas\u001b[39;00m e:\n",
            "File \u001b[0;32m~/Documents/Ilmu Komputer UI/Analitika Media Sosial/Tutorial/Tutorial 3/env/lib/python3.10/site-packages/urllib3/response.py:575\u001b[0m, in \u001b[0;36mHTTPResponse.stream\u001b[0;34m(self, amt, decode_content)\u001b[0m\n\u001b[1;32m    <a href='file:///home/sebelum_masehi/Documents/Ilmu%20Komputer%20UI/Analitika%20Media%20Sosial/Tutorial/Tutorial%203/env/lib/python3.10/site-packages/urllib3/response.py?line=558'>559</a>\u001b[0m \u001b[39m\"\"\"\u001b[39;00m\n\u001b[1;32m    <a href='file:///home/sebelum_masehi/Documents/Ilmu%20Komputer%20UI/Analitika%20Media%20Sosial/Tutorial/Tutorial%203/env/lib/python3.10/site-packages/urllib3/response.py?line=559'>560</a>\u001b[0m \u001b[39mA generator wrapper for the read() method. A call will block until\u001b[39;00m\n\u001b[1;32m    <a href='file:///home/sebelum_masehi/Documents/Ilmu%20Komputer%20UI/Analitika%20Media%20Sosial/Tutorial/Tutorial%203/env/lib/python3.10/site-packages/urllib3/response.py?line=560'>561</a>\u001b[0m \u001b[39m``amt`` bytes have been read from the connection or until the\u001b[39;00m\n\u001b[0;32m   (...)\u001b[0m\n\u001b[1;32m    <a href='file:///home/sebelum_masehi/Documents/Ilmu%20Komputer%20UI/Analitika%20Media%20Sosial/Tutorial/Tutorial%203/env/lib/python3.10/site-packages/urllib3/response.py?line=571'>572</a>\u001b[0m \u001b[39m    'content-encoding' header.\u001b[39;00m\n\u001b[1;32m    <a href='file:///home/sebelum_masehi/Documents/Ilmu%20Komputer%20UI/Analitika%20Media%20Sosial/Tutorial/Tutorial%203/env/lib/python3.10/site-packages/urllib3/response.py?line=572'>573</a>\u001b[0m \u001b[39m\"\"\"\u001b[39;00m\n\u001b[1;32m    <a href='file:///home/sebelum_masehi/Documents/Ilmu%20Komputer%20UI/Analitika%20Media%20Sosial/Tutorial/Tutorial%203/env/lib/python3.10/site-packages/urllib3/response.py?line=573'>574</a>\u001b[0m \u001b[39mif\u001b[39;00m \u001b[39mself\u001b[39m\u001b[39m.\u001b[39mchunked \u001b[39mand\u001b[39;00m \u001b[39mself\u001b[39m\u001b[39m.\u001b[39msupports_chunked_reads():\n\u001b[0;32m--> <a href='file:///home/sebelum_masehi/Documents/Ilmu%20Komputer%20UI/Analitika%20Media%20Sosial/Tutorial/Tutorial%203/env/lib/python3.10/site-packages/urllib3/response.py?line=574'>575</a>\u001b[0m     \u001b[39mfor\u001b[39;00m line \u001b[39min\u001b[39;00m \u001b[39mself\u001b[39m\u001b[39m.\u001b[39mread_chunked(amt, decode_content\u001b[39m=\u001b[39mdecode_content):\n\u001b[1;32m    <a href='file:///home/sebelum_masehi/Documents/Ilmu%20Komputer%20UI/Analitika%20Media%20Sosial/Tutorial/Tutorial%203/env/lib/python3.10/site-packages/urllib3/response.py?line=575'>576</a>\u001b[0m         \u001b[39myield\u001b[39;00m line\n\u001b[1;32m    <a href='file:///home/sebelum_masehi/Documents/Ilmu%20Komputer%20UI/Analitika%20Media%20Sosial/Tutorial/Tutorial%203/env/lib/python3.10/site-packages/urllib3/response.py?line=576'>577</a>\u001b[0m \u001b[39melse\u001b[39;00m:\n",
            "File \u001b[0;32m~/Documents/Ilmu Komputer UI/Analitika Media Sosial/Tutorial/Tutorial 3/env/lib/python3.10/site-packages/urllib3/response.py:767\u001b[0m, in \u001b[0;36mHTTPResponse.read_chunked\u001b[0;34m(self, amt, decode_content)\u001b[0m\n\u001b[1;32m    <a href='file:///home/sebelum_masehi/Documents/Ilmu%20Komputer%20UI/Analitika%20Media%20Sosial/Tutorial/Tutorial%203/env/lib/python3.10/site-packages/urllib3/response.py?line=763'>764</a>\u001b[0m     \u001b[39mreturn\u001b[39;00m\n\u001b[1;32m    <a href='file:///home/sebelum_masehi/Documents/Ilmu%20Komputer%20UI/Analitika%20Media%20Sosial/Tutorial/Tutorial%203/env/lib/python3.10/site-packages/urllib3/response.py?line=765'>766</a>\u001b[0m \u001b[39mwhile\u001b[39;00m \u001b[39mTrue\u001b[39;00m:\n\u001b[0;32m--> <a href='file:///home/sebelum_masehi/Documents/Ilmu%20Komputer%20UI/Analitika%20Media%20Sosial/Tutorial/Tutorial%203/env/lib/python3.10/site-packages/urllib3/response.py?line=766'>767</a>\u001b[0m     \u001b[39mself\u001b[39;49m\u001b[39m.\u001b[39;49m_update_chunk_length()\n\u001b[1;32m    <a href='file:///home/sebelum_masehi/Documents/Ilmu%20Komputer%20UI/Analitika%20Media%20Sosial/Tutorial/Tutorial%203/env/lib/python3.10/site-packages/urllib3/response.py?line=767'>768</a>\u001b[0m     \u001b[39mif\u001b[39;00m \u001b[39mself\u001b[39m\u001b[39m.\u001b[39mchunk_left \u001b[39m==\u001b[39m \u001b[39m0\u001b[39m:\n\u001b[1;32m    <a href='file:///home/sebelum_masehi/Documents/Ilmu%20Komputer%20UI/Analitika%20Media%20Sosial/Tutorial/Tutorial%203/env/lib/python3.10/site-packages/urllib3/response.py?line=768'>769</a>\u001b[0m         \u001b[39mbreak\u001b[39;00m\n",
            "File \u001b[0;32m~/Documents/Ilmu Komputer UI/Analitika Media Sosial/Tutorial/Tutorial 3/env/lib/python3.10/site-packages/urllib3/response.py:697\u001b[0m, in \u001b[0;36mHTTPResponse._update_chunk_length\u001b[0;34m(self)\u001b[0m\n\u001b[1;32m    <a href='file:///home/sebelum_masehi/Documents/Ilmu%20Komputer%20UI/Analitika%20Media%20Sosial/Tutorial/Tutorial%203/env/lib/python3.10/site-packages/urllib3/response.py?line=694'>695</a>\u001b[0m \u001b[39mif\u001b[39;00m \u001b[39mself\u001b[39m\u001b[39m.\u001b[39mchunk_left \u001b[39mis\u001b[39;00m \u001b[39mnot\u001b[39;00m \u001b[39mNone\u001b[39;00m:\n\u001b[1;32m    <a href='file:///home/sebelum_masehi/Documents/Ilmu%20Komputer%20UI/Analitika%20Media%20Sosial/Tutorial/Tutorial%203/env/lib/python3.10/site-packages/urllib3/response.py?line=695'>696</a>\u001b[0m     \u001b[39mreturn\u001b[39;00m\n\u001b[0;32m--> <a href='file:///home/sebelum_masehi/Documents/Ilmu%20Komputer%20UI/Analitika%20Media%20Sosial/Tutorial/Tutorial%203/env/lib/python3.10/site-packages/urllib3/response.py?line=696'>697</a>\u001b[0m line \u001b[39m=\u001b[39m \u001b[39mself\u001b[39;49m\u001b[39m.\u001b[39;49m_fp\u001b[39m.\u001b[39;49mfp\u001b[39m.\u001b[39;49mreadline()\n\u001b[1;32m    <a href='file:///home/sebelum_masehi/Documents/Ilmu%20Komputer%20UI/Analitika%20Media%20Sosial/Tutorial/Tutorial%203/env/lib/python3.10/site-packages/urllib3/response.py?line=697'>698</a>\u001b[0m line \u001b[39m=\u001b[39m line\u001b[39m.\u001b[39msplit(\u001b[39mb\u001b[39m\u001b[39m\"\u001b[39m\u001b[39m;\u001b[39m\u001b[39m\"\u001b[39m, \u001b[39m1\u001b[39m)[\u001b[39m0\u001b[39m]\n\u001b[1;32m    <a href='file:///home/sebelum_masehi/Documents/Ilmu%20Komputer%20UI/Analitika%20Media%20Sosial/Tutorial/Tutorial%203/env/lib/python3.10/site-packages/urllib3/response.py?line=698'>699</a>\u001b[0m \u001b[39mtry\u001b[39;00m:\n",
            "File \u001b[0;32m/usr/lib/python3.10/socket.py:705\u001b[0m, in \u001b[0;36mSocketIO.readinto\u001b[0;34m(self, b)\u001b[0m\n\u001b[1;32m    <a href='file:///usr/lib/python3.10/socket.py?line=702'>703</a>\u001b[0m \u001b[39mwhile\u001b[39;00m \u001b[39mTrue\u001b[39;00m:\n\u001b[1;32m    <a href='file:///usr/lib/python3.10/socket.py?line=703'>704</a>\u001b[0m     \u001b[39mtry\u001b[39;00m:\n\u001b[0;32m--> <a href='file:///usr/lib/python3.10/socket.py?line=704'>705</a>\u001b[0m         \u001b[39mreturn\u001b[39;00m \u001b[39mself\u001b[39;49m\u001b[39m.\u001b[39;49m_sock\u001b[39m.\u001b[39;49mrecv_into(b)\n\u001b[1;32m    <a href='file:///usr/lib/python3.10/socket.py?line=705'>706</a>\u001b[0m     \u001b[39mexcept\u001b[39;00m timeout:\n\u001b[1;32m    <a href='file:///usr/lib/python3.10/socket.py?line=706'>707</a>\u001b[0m         \u001b[39mself\u001b[39m\u001b[39m.\u001b[39m_timeout_occurred \u001b[39m=\u001b[39m \u001b[39mTrue\u001b[39;00m\n",
            "File \u001b[0;32m/usr/lib/python3.10/ssl.py:1273\u001b[0m, in \u001b[0;36mSSLSocket.recv_into\u001b[0;34m(self, buffer, nbytes, flags)\u001b[0m\n\u001b[1;32m   <a href='file:///usr/lib/python3.10/ssl.py?line=1268'>1269</a>\u001b[0m     \u001b[39mif\u001b[39;00m flags \u001b[39m!=\u001b[39m \u001b[39m0\u001b[39m:\n\u001b[1;32m   <a href='file:///usr/lib/python3.10/ssl.py?line=1269'>1270</a>\u001b[0m         \u001b[39mraise\u001b[39;00m \u001b[39mValueError\u001b[39;00m(\n\u001b[1;32m   <a href='file:///usr/lib/python3.10/ssl.py?line=1270'>1271</a>\u001b[0m           \u001b[39m\"\u001b[39m\u001b[39mnon-zero flags not allowed in calls to recv_into() on \u001b[39m\u001b[39m%s\u001b[39;00m\u001b[39m\"\u001b[39m \u001b[39m%\u001b[39m\n\u001b[1;32m   <a href='file:///usr/lib/python3.10/ssl.py?line=1271'>1272</a>\u001b[0m           \u001b[39mself\u001b[39m\u001b[39m.\u001b[39m\u001b[39m__class__\u001b[39m)\n\u001b[0;32m-> <a href='file:///usr/lib/python3.10/ssl.py?line=1272'>1273</a>\u001b[0m     \u001b[39mreturn\u001b[39;00m \u001b[39mself\u001b[39;49m\u001b[39m.\u001b[39;49mread(nbytes, buffer)\n\u001b[1;32m   <a href='file:///usr/lib/python3.10/ssl.py?line=1273'>1274</a>\u001b[0m \u001b[39melse\u001b[39;00m:\n\u001b[1;32m   <a href='file:///usr/lib/python3.10/ssl.py?line=1274'>1275</a>\u001b[0m     \u001b[39mreturn\u001b[39;00m \u001b[39msuper\u001b[39m()\u001b[39m.\u001b[39mrecv_into(buffer, nbytes, flags)\n",
            "File \u001b[0;32m/usr/lib/python3.10/ssl.py:1129\u001b[0m, in \u001b[0;36mSSLSocket.read\u001b[0;34m(self, len, buffer)\u001b[0m\n\u001b[1;32m   <a href='file:///usr/lib/python3.10/ssl.py?line=1126'>1127</a>\u001b[0m \u001b[39mtry\u001b[39;00m:\n\u001b[1;32m   <a href='file:///usr/lib/python3.10/ssl.py?line=1127'>1128</a>\u001b[0m     \u001b[39mif\u001b[39;00m buffer \u001b[39mis\u001b[39;00m \u001b[39mnot\u001b[39;00m \u001b[39mNone\u001b[39;00m:\n\u001b[0;32m-> <a href='file:///usr/lib/python3.10/ssl.py?line=1128'>1129</a>\u001b[0m         \u001b[39mreturn\u001b[39;00m \u001b[39mself\u001b[39;49m\u001b[39m.\u001b[39;49m_sslobj\u001b[39m.\u001b[39;49mread(\u001b[39mlen\u001b[39;49m, buffer)\n\u001b[1;32m   <a href='file:///usr/lib/python3.10/ssl.py?line=1129'>1130</a>\u001b[0m     \u001b[39melse\u001b[39;00m:\n\u001b[1;32m   <a href='file:///usr/lib/python3.10/ssl.py?line=1130'>1131</a>\u001b[0m         \u001b[39mreturn\u001b[39;00m \u001b[39mself\u001b[39m\u001b[39m.\u001b[39m_sslobj\u001b[39m.\u001b[39mread(\u001b[39mlen\u001b[39m)\n",
            "\u001b[0;31mKeyboardInterrupt\u001b[0m: "
          ]
        }
      ],
      "source": [
        "custom_stream = CustomStreamingClient(bearer_token)\n",
        "\n",
        "# membuat rules untuk filter\n",
        "custom_stream.add_rules(tweepy.StreamRule(\"saham\"))\n",
        "custom_stream.add_rules(tweepy.StreamRule(\"lang:en\"))\n",
        "\n",
        "custom_stream.filter()"
      ]
    },
    {
      "cell_type": "code",
      "execution_count": 20,
      "metadata": {},
      "outputs": [
        {
          "data": {
            "text/plain": [
              "tweepy.client.Response"
            ]
          },
          "execution_count": 20,
          "metadata": {},
          "output_type": "execute_result"
        }
      ],
      "source": [
        "custom_stream"
      ]
    },
    {
      "cell_type": "markdown",
      "metadata": {},
      "source": [
        "## Soal 3\n",
        "3. Ubah <b>Code 3</b> dan simpan data profil dalam bentuk tabular dengan nama `hasil_twitter_profile_c3.csv`. Kode tersebut diubah berdasarkan ketentuan sebagai berikut:\n",
        "    * Jika Anda terakhir NPM Anda genap: akun dengan *username* @bibitid, @tulusm, dan @ibamibrahim   \n",
        "    * Jika Anda bukan angkatan 2019: akun dengan *username* @marionjolamj, @gramedia, dan @mrlogix"
      ]
    },
    {
      "cell_type": "code",
      "execution_count": 7,
      "metadata": {},
      "outputs": [
        {
          "data": {
            "text/plain": [
              "2"
            ]
          },
          "execution_count": 7,
          "metadata": {},
          "output_type": "execute_result"
        }
      ],
      "source": [
        "npm[-1]"
      ]
    },
    {
      "cell_type": "code",
      "execution_count": 8,
      "metadata": {},
      "outputs": [],
      "source": [
        "consumer_key = acct_twitter_1.api_key.values[0]\n",
        "consumer_secret = acct_twitter_1.api_key_secret.values[0]"
      ]
    },
    {
      "cell_type": "code",
      "execution_count": 9,
      "metadata": {},
      "outputs": [],
      "source": [
        "from requests_oauthlib import OAuth1Session\n",
        "# field user yg ingin diambil, referensi: https://developer.twitter.com/en/docs/twitter-api/data-dictionary/object-model/user\n",
        "fields = \"created_at,description,entities,id,location,name,pinned_tweet_id,profile_image_url,protected,public_metrics,url,username,verified,withheld\"\n",
        "params = {\"usernames\": \"bibitid,tulusm,ibamibrahim\", \"user.fields\": fields}\n",
        "request_token_url = \"https://api.twitter.com/oauth/request_token\"\n",
        "oauth = OAuth1Session(consumer_key, client_secret=consumer_secret)\n",
        "fetch_response = oauth.fetch_request_token(request_token_url)"
      ]
    },
    {
      "cell_type": "code",
      "execution_count": 10,
      "metadata": {},
      "outputs": [
        {
          "data": {
            "text/plain": [
              "{'oauth_token': 'R5n92AAAAAABadzjAAABf8aFE-0',\n",
              " 'oauth_token_secret': 'vJz1X1XVpGzj5vrVOXQApl3fCd5fweJM',\n",
              " 'oauth_callback_confirmed': 'true'}"
            ]
          },
          "execution_count": 10,
          "metadata": {},
          "output_type": "execute_result"
        }
      ],
      "source": [
        "# objek response\n",
        "fetch_response"
      ]
    },
    {
      "cell_type": "code",
      "execution_count": 11,
      "metadata": {},
      "outputs": [],
      "source": [
        "resource_owner_key = fetch_response.get(\"oauth_token\")\n",
        "resource_owner_secret = fetch_response.get(\"oauth_token_secret\")"
      ]
    },
    {
      "cell_type": "code",
      "execution_count": 12,
      "metadata": {},
      "outputs": [
        {
          "name": "stdout",
          "output_type": "stream",
          "text": [
            "Please go here and authorize: https://api.twitter.com/oauth/authorize?oauth_token=R5n92AAAAAABadzjAAABf8aFE-0\n"
          ]
        }
      ],
      "source": [
        "# authorisasi\n",
        "base_authorization_url = \"https://api.twitter.com/oauth/authorize\"\n",
        "authorization_url = oauth.authorization_url(base_authorization_url)\n",
        "print(\"Please go here and authorize: %s\" % authorization_url)\n",
        "verifier = input(\"Paste the PIN here: \")"
      ]
    },
    {
      "cell_type": "code",
      "execution_count": 13,
      "metadata": {},
      "outputs": [],
      "source": [
        "# Get the access token\n",
        "access_token_url = \"https://api.twitter.com/oauth/access_token\"\n",
        "oauth = OAuth1Session(\n",
        "    consumer_key,\n",
        "    client_secret=consumer_secret,\n",
        "    resource_owner_key=resource_owner_key,\n",
        "    resource_owner_secret=resource_owner_secret,\n",
        "    verifier=verifier,\n",
        ")\n",
        "oauth_tokens = oauth.fetch_access_token(access_token_url)\n",
        "\n",
        "access_token = oauth_tokens[\"oauth_token\"]\n",
        "access_token_secret = oauth_tokens[\"oauth_token_secret\"]\n",
        "\n",
        "# make the request\n",
        "oauth = OAuth1Session(\n",
        "    consumer_key,\n",
        "    client_secret=consumer_secret,\n",
        "    resource_owner_key=access_token,\n",
        "    resource_owner_secret=access_token_secret,\n",
        ")"
      ]
    },
    {
      "cell_type": "code",
      "execution_count": 14,
      "metadata": {},
      "outputs": [
        {
          "name": "stdout",
          "output_type": "stream",
          "text": [
            "Response code: 200\n"
          ]
        }
      ],
      "source": [
        "response = oauth.get(\n",
        "    \"https://api.twitter.com/2/users/by\", params=params\n",
        ")\n",
        "\n",
        "if response.status_code != 200:\n",
        "    raise Exception(\n",
        "        \"Request returned an error: {} {}\".format(response.status_code, response.text)\n",
        "    )\n",
        "\n",
        "print(\"Response code: {}\".format(response.status_code))\n",
        "\n",
        "json_response = response.json()"
      ]
    },
    {
      "cell_type": "code",
      "execution_count": 15,
      "metadata": {},
      "outputs": [
        {
          "data": {
            "text/plain": [
              "{'data': [{'protected': False,\n",
              "   'location': 'Indonesia',\n",
              "   'entities': {'url': {'urls': [{'start': 0,\n",
              "       'end': 23,\n",
              "       'url': 'https://t.co/4QIpKZTPjA',\n",
              "       'expanded_url': 'https://linktr.ee/Bibitid',\n",
              "       'display_url': 'linktr.ee/Bibitid'}]},\n",
              "    'description': {'urls': [{'start': 86,\n",
              "       'end': 109,\n",
              "       'url': 'https://t.co/9WXjRS6jHe',\n",
              "       'expanded_url': 'https://wa.me/622150864230',\n",
              "       'display_url': 'wa.me/622150864230'},\n",
              "      {'start': 122,\n",
              "       'end': 145,\n",
              "       'url': 'https://t.co/sAXId8zVNw',\n",
              "       'expanded_url': 'http://t.me/Bibitid',\n",
              "       'display_url': 't.me/Bibitid'}]}},\n",
              "   'id': '1053475137423474689',\n",
              "   'pinned_tweet_id': '1497133468320296962',\n",
              "   'public_metrics': {'followers_count': 39251,\n",
              "    'following_count': 13,\n",
              "    'tweet_count': 4708,\n",
              "    'listed_count': 87},\n",
              "   'name': 'Bibit - Aplikasi Reksadana',\n",
              "   'username': 'bibitid',\n",
              "   'created_at': '2018-10-20T02:37:00.000Z',\n",
              "   'profile_image_url': 'https://pbs.twimg.com/profile_images/1054244606865375232/oQlDU51w_normal.jpg',\n",
              "   'description': 'Aplikasi Investasi Reksa Dana Untuk Pemula. Terdaftar dan Diawasi oleh OJK. Whatsapp: https://t.co/9WXjRS6jHe . Telegram: https://t.co/sAXId8zVNw',\n",
              "   'verified': True,\n",
              "   'url': 'https://t.co/4QIpKZTPjA'},\n",
              "  {'protected': False,\n",
              "   'location': 'INDONESIA',\n",
              "   'entities': {'url': {'urls': [{'start': 0,\n",
              "       'end': 23,\n",
              "       'url': 'https://t.co/v7kw2liT4b',\n",
              "       'expanded_url': 'http://smarturl.it/TulusManusia',\n",
              "       'display_url': 'smarturl.it/TulusManusia'}]},\n",
              "    'description': {'urls': [{'start': 54,\n",
              "       'end': 77,\n",
              "       'url': 'https://t.co/AlD2GfTTAc',\n",
              "       'expanded_url': 'http://situstulus.com',\n",
              "       'display_url': 'situstulus.com'}],\n",
              "     'mentions': [{'start': 78, 'end': 89, 'username': 'musiktulus'}]}},\n",
              "   'id': '90629215',\n",
              "   'public_metrics': {'followers_count': 447296,\n",
              "    'following_count': 500,\n",
              "    'tweet_count': 660,\n",
              "    'listed_count': 111},\n",
              "   'name': 'Tulus',\n",
              "   'username': 'tulusm',\n",
              "   'created_at': '2009-11-17T13:29:57.000Z',\n",
              "   'profile_image_url': 'https://pbs.twimg.com/profile_images/1499037695833960454/36we24WO_normal.jpg',\n",
              "   'description': 'Manusia pasti ada kurangnya. Jadi ya udah santai aja. https://t.co/AlD2GfTTAc @musiktulus Kontak Bisnis: +6287821127502',\n",
              "   'verified': True,\n",
              "   'url': 'https://t.co/v7kw2liT4b'},\n",
              "  {'protected': False,\n",
              "   'location': 'Jakarta',\n",
              "   'entities': {'url': {'urls': [{'start': 0,\n",
              "       'end': 23,\n",
              "       'url': 'https://t.co/wolL1HnOsh',\n",
              "       'expanded_url': 'https://cookpad.com/id/pengguna/5051521',\n",
              "       'display_url': 'cookpad.com/id/pengguna/50…'}]}},\n",
              "   'id': '57640365',\n",
              "   'pinned_tweet_id': '1162607433363025921',\n",
              "   'public_metrics': {'followers_count': 575,\n",
              "    'following_count': 960,\n",
              "    'tweet_count': 8585,\n",
              "    'listed_count': 1},\n",
              "   'name': 'ibam',\n",
              "   'username': 'ibamibrahim',\n",
              "   'created_at': '2009-07-17T13:19:47.000Z',\n",
              "   'profile_image_url': 'https://pbs.twimg.com/profile_images/1439159325285511169/nrYm7ldm_normal.jpg',\n",
              "   'description': 'Retweeting data/stats/math memes and stuff, so people think I’m capable 😜',\n",
              "   'verified': False,\n",
              "   'url': 'https://t.co/wolL1HnOsh'}]}"
            ]
          },
          "execution_count": 15,
          "metadata": {},
          "output_type": "execute_result"
        }
      ],
      "source": [
        "# objek response\n",
        "json_response"
      ]
    },
    {
      "cell_type": "code",
      "execution_count": 18,
      "metadata": {},
      "outputs": [],
      "source": [
        "import json\n",
        "with open(\"hasil_twitter_profile_c3.json\", \"w\") as outfile:\n",
        "    json.dump(json_response, outfile)"
      ]
    },
    {
      "cell_type": "code",
      "execution_count": 20,
      "metadata": {},
      "outputs": [],
      "source": [
        "df = pd.read_json (r'hasil_twitter_profile_c3.json')\n",
        "df.to_csv (r'hasil_twitter_profile_c3.csv', index = None)"
      ]
    },
    {
      "cell_type": "markdown",
      "metadata": {},
      "source": [
        "## Soal 4\n",
        "4. Menggunakan data `goto.csv`, buat visualisasi:\n",
        "    * Jika nama Anda memiliki huruf vokal berjumlah genap: top 5 akun dengan *tweet* terbanyak (x-axis nama akun, y-axis jumlah *tweet*, urutkan dari *tweet* terbanyak)\n",
        "    * Jika nama Anda memiliki huruf vokal berjumlah ganjil: jumlah *tweet* per jam (x-axis jam tweet dibuat, y-axis jumlah *tweet*, urutkan berdasarkan jam terkecil, yaitu dari 00:00 sampai 23:00)"
      ]
    },
    {
      "cell_type": "code",
      "execution_count": 6,
      "metadata": {},
      "outputs": [
        {
          "ename": "NameError",
          "evalue": "name 'nama' is not defined",
          "output_type": "error",
          "traceback": [
            "\u001b[0;31m---------------------------------------------------------------------------\u001b[0m",
            "\u001b[0;31mNameError\u001b[0m                                 Traceback (most recent call last)",
            "\u001b[1;32m/home/sebelum_masehi/Documents/Ilmu Komputer UI/Analitika Media Sosial/Tutorial/Tutorial 3/Tutorial 3 - Data Collection.ipynb Cell 96'\u001b[0m in \u001b[0;36m<cell line: 2>\u001b[0;34m()\u001b[0m\n\u001b[1;32m      <a href='vscode-notebook-cell:/home/sebelum_masehi/Documents/Ilmu%20Komputer%20UI/Analitika%20Media%20Sosial/Tutorial/Tutorial%203/Tutorial%203%20-%20Data%20Collection.ipynb#ch0000134?line=0'>1</a>\u001b[0m vocal_sum \u001b[39m=\u001b[39m \u001b[39m0\u001b[39m\n\u001b[1;32m      <a href='vscode-notebook-cell:/home/sebelum_masehi/Documents/Ilmu%20Komputer%20UI/Analitika%20Media%20Sosial/Tutorial/Tutorial%203/Tutorial%203%20-%20Data%20Collection.ipynb#ch0000134?line=1'>2</a>\u001b[0m \u001b[39mfor\u001b[39;00m v \u001b[39min\u001b[39;00m [\u001b[39m'\u001b[39m\u001b[39ma\u001b[39m\u001b[39m'\u001b[39m,\u001b[39m'\u001b[39m\u001b[39mi\u001b[39m\u001b[39m'\u001b[39m,\u001b[39m'\u001b[39m\u001b[39mu\u001b[39m\u001b[39m'\u001b[39m,\u001b[39m'\u001b[39m\u001b[39me\u001b[39m\u001b[39m'\u001b[39m,\u001b[39m'\u001b[39m\u001b[39mo\u001b[39m\u001b[39m'\u001b[39m]:\n\u001b[0;32m----> <a href='vscode-notebook-cell:/home/sebelum_masehi/Documents/Ilmu%20Komputer%20UI/Analitika%20Media%20Sosial/Tutorial/Tutorial%203/Tutorial%203%20-%20Data%20Collection.ipynb#ch0000134?line=2'>3</a>\u001b[0m     vocal_sum \u001b[39m+\u001b[39m\u001b[39m=\u001b[39m nama\u001b[39m.\u001b[39mlower()\u001b[39m.\u001b[39mcount(v)\n\u001b[1;32m      <a href='vscode-notebook-cell:/home/sebelum_masehi/Documents/Ilmu%20Komputer%20UI/Analitika%20Media%20Sosial/Tutorial/Tutorial%203/Tutorial%203%20-%20Data%20Collection.ipynb#ch0000134?line=3'>4</a>\u001b[0m vocal_sum\n",
            "\u001b[0;31mNameError\u001b[0m: name 'nama' is not defined"
          ]
        }
      ],
      "source": [
        "vocal_sum = 0\n",
        "for v in ['a','i','u','e','o']:\n",
        "    vocal_sum += nama.lower().count(v)\n",
        "vocal_sum"
      ]
    },
    {
      "cell_type": "code",
      "execution_count": 4,
      "metadata": {},
      "outputs": [],
      "source": [
        "# import library\n",
        "import twint\n",
        "import nest_asyncio\n",
        "\n",
        "nest_asyncio.apply()"
      ]
    },
    {
      "cell_type": "code",
      "execution_count": 5,
      "metadata": {},
      "outputs": [
        {
          "name": "stderr",
          "output_type": "stream",
          "text": [
            "CRITICAL:root:twint.run:Twint:Feed:noDataExpecting value: line 1 column 1 (char 0)\n",
            "sleeping for 1.0 secs\n",
            "CRITICAL:root:twint.run:Twint:Feed:noDataExpecting value: line 1 column 1 (char 0)\n",
            "sleeping for 8.0 secs\n",
            "CRITICAL:root:twint.run:Twint:Feed:noDataExpecting value: line 1 column 1 (char 0)\n",
            "sleeping for 27.0 secs\n",
            "CRITICAL:root:twint.run:Twint:Feed:noDataExpecting value: line 1 column 1 (char 0)\n",
            "sleeping for 64.0 secs\n",
            "CRITICAL:root:twint.run:Twint:Feed:noDataExpecting value: line 1 column 1 (char 0)\n",
            "sleeping for 125.0 secs\n",
            "CRITICAL:root:twint.run:Twint:Feed:noDataExpecting value: line 1 column 1 (char 0)\n",
            "sleeping for 216.0 secs\n",
            "CRITICAL:root:twint.run:Twint:Feed:noDataExpecting value: line 1 column 1 (char 0)\n",
            "sleeping for 343.0 secs\n",
            "CRITICAL:root:twint.run:Twint:Feed:noDataExpecting value: line 1 column 1 (char 0)\n",
            "sleeping for 512.0 secs\n",
            "CRITICAL:root:twint.run:Twint:Feed:noDataExpecting value: line 1 column 1 (char 0)\n",
            "sleeping for 729.0 secs\n"
          ]
        },
        {
          "ename": "KeyboardInterrupt",
          "evalue": "",
          "output_type": "error",
          "traceback": [
            "\u001b[0;31m---------------------------------------------------------------------------\u001b[0m",
            "\u001b[0;31mJSONDecodeError\u001b[0m                           Traceback (most recent call last)",
            "File \u001b[0;32m~/Documents/Ilmu Komputer UI/Analitika Media Sosial/Tutorial/Tutorial 3/env/lib/python3.10/site-packages/twint/run.py:65\u001b[0m, in \u001b[0;36mTwint.Feed\u001b[0;34m(self)\u001b[0m\n\u001b[1;32m     <a href='file:///home/sebelum_masehi/Documents/Ilmu%20Komputer%20UI/Analitika%20Media%20Sosial/Tutorial/Tutorial%203/env/lib/python3.10/site-packages/twint/run.py?line=63'>64</a>\u001b[0m \u001b[39melif\u001b[39;00m \u001b[39mself\u001b[39m\u001b[39m.\u001b[39mconfig\u001b[39m.\u001b[39mTwitterSearch:\n\u001b[0;32m---> <a href='file:///home/sebelum_masehi/Documents/Ilmu%20Komputer%20UI/Analitika%20Media%20Sosial/Tutorial/Tutorial%203/env/lib/python3.10/site-packages/twint/run.py?line=64'>65</a>\u001b[0m     \u001b[39mself\u001b[39m\u001b[39m.\u001b[39mfeed, \u001b[39mself\u001b[39m\u001b[39m.\u001b[39minit \u001b[39m=\u001b[39m feed\u001b[39m.\u001b[39;49mJson(response)\n\u001b[1;32m     <a href='file:///home/sebelum_masehi/Documents/Ilmu%20Komputer%20UI/Analitika%20Media%20Sosial/Tutorial/Tutorial%203/env/lib/python3.10/site-packages/twint/run.py?line=65'>66</a>\u001b[0m \u001b[39mbreak\u001b[39;00m\n",
            "File \u001b[0;32m~/Documents/Ilmu Komputer UI/Analitika Media Sosial/Tutorial/Tutorial 3/env/lib/python3.10/site-packages/twint/feed.py:42\u001b[0m, in \u001b[0;36mJson\u001b[0;34m(response)\u001b[0m\n\u001b[1;32m     <a href='file:///home/sebelum_masehi/Documents/Ilmu%20Komputer%20UI/Analitika%20Media%20Sosial/Tutorial/Tutorial%203/env/lib/python3.10/site-packages/twint/feed.py?line=40'>41</a>\u001b[0m logme\u001b[39m.\u001b[39mdebug(\u001b[39m__name__\u001b[39m\u001b[39m+\u001b[39m\u001b[39m'\u001b[39m\u001b[39m:Json\u001b[39m\u001b[39m'\u001b[39m)\n\u001b[0;32m---> <a href='file:///home/sebelum_masehi/Documents/Ilmu%20Komputer%20UI/Analitika%20Media%20Sosial/Tutorial/Tutorial%203/env/lib/python3.10/site-packages/twint/feed.py?line=41'>42</a>\u001b[0m json_response \u001b[39m=\u001b[39m loads(response)\n\u001b[1;32m     <a href='file:///home/sebelum_masehi/Documents/Ilmu%20Komputer%20UI/Analitika%20Media%20Sosial/Tutorial/Tutorial%203/env/lib/python3.10/site-packages/twint/feed.py?line=42'>43</a>\u001b[0m html \u001b[39m=\u001b[39m json_response[\u001b[39m\"\u001b[39m\u001b[39mitems_html\u001b[39m\u001b[39m\"\u001b[39m]\n",
            "File \u001b[0;32m/usr/lib/python3.10/json/__init__.py:346\u001b[0m, in \u001b[0;36mloads\u001b[0;34m(s, cls, object_hook, parse_float, parse_int, parse_constant, object_pairs_hook, **kw)\u001b[0m\n\u001b[1;32m    <a href='file:///usr/lib/python3.10/json/__init__.py?line=342'>343</a>\u001b[0m \u001b[39mif\u001b[39;00m (\u001b[39mcls\u001b[39m \u001b[39mis\u001b[39;00m \u001b[39mNone\u001b[39;00m \u001b[39mand\u001b[39;00m object_hook \u001b[39mis\u001b[39;00m \u001b[39mNone\u001b[39;00m \u001b[39mand\u001b[39;00m\n\u001b[1;32m    <a href='file:///usr/lib/python3.10/json/__init__.py?line=343'>344</a>\u001b[0m         parse_int \u001b[39mis\u001b[39;00m \u001b[39mNone\u001b[39;00m \u001b[39mand\u001b[39;00m parse_float \u001b[39mis\u001b[39;00m \u001b[39mNone\u001b[39;00m \u001b[39mand\u001b[39;00m\n\u001b[1;32m    <a href='file:///usr/lib/python3.10/json/__init__.py?line=344'>345</a>\u001b[0m         parse_constant \u001b[39mis\u001b[39;00m \u001b[39mNone\u001b[39;00m \u001b[39mand\u001b[39;00m object_pairs_hook \u001b[39mis\u001b[39;00m \u001b[39mNone\u001b[39;00m \u001b[39mand\u001b[39;00m \u001b[39mnot\u001b[39;00m kw):\n\u001b[0;32m--> <a href='file:///usr/lib/python3.10/json/__init__.py?line=345'>346</a>\u001b[0m     \u001b[39mreturn\u001b[39;00m _default_decoder\u001b[39m.\u001b[39;49mdecode(s)\n\u001b[1;32m    <a href='file:///usr/lib/python3.10/json/__init__.py?line=346'>347</a>\u001b[0m \u001b[39mif\u001b[39;00m \u001b[39mcls\u001b[39m \u001b[39mis\u001b[39;00m \u001b[39mNone\u001b[39;00m:\n",
            "File \u001b[0;32m/usr/lib/python3.10/json/decoder.py:337\u001b[0m, in \u001b[0;36mJSONDecoder.decode\u001b[0;34m(self, s, _w)\u001b[0m\n\u001b[1;32m    <a href='file:///usr/lib/python3.10/json/decoder.py?line=332'>333</a>\u001b[0m \u001b[39m\"\"\"Return the Python representation of ``s`` (a ``str`` instance\u001b[39;00m\n\u001b[1;32m    <a href='file:///usr/lib/python3.10/json/decoder.py?line=333'>334</a>\u001b[0m \u001b[39mcontaining a JSON document).\u001b[39;00m\n\u001b[1;32m    <a href='file:///usr/lib/python3.10/json/decoder.py?line=334'>335</a>\u001b[0m \n\u001b[1;32m    <a href='file:///usr/lib/python3.10/json/decoder.py?line=335'>336</a>\u001b[0m \u001b[39m\"\"\"\u001b[39;00m\n\u001b[0;32m--> <a href='file:///usr/lib/python3.10/json/decoder.py?line=336'>337</a>\u001b[0m obj, end \u001b[39m=\u001b[39m \u001b[39mself\u001b[39;49m\u001b[39m.\u001b[39;49mraw_decode(s, idx\u001b[39m=\u001b[39;49m_w(s, \u001b[39m0\u001b[39;49m)\u001b[39m.\u001b[39;49mend())\n\u001b[1;32m    <a href='file:///usr/lib/python3.10/json/decoder.py?line=337'>338</a>\u001b[0m end \u001b[39m=\u001b[39m _w(s, end)\u001b[39m.\u001b[39mend()\n",
            "File \u001b[0;32m/usr/lib/python3.10/json/decoder.py:355\u001b[0m, in \u001b[0;36mJSONDecoder.raw_decode\u001b[0;34m(self, s, idx)\u001b[0m\n\u001b[1;32m    <a href='file:///usr/lib/python3.10/json/decoder.py?line=353'>354</a>\u001b[0m \u001b[39mexcept\u001b[39;00m \u001b[39mStopIteration\u001b[39;00m \u001b[39mas\u001b[39;00m err:\n\u001b[0;32m--> <a href='file:///usr/lib/python3.10/json/decoder.py?line=354'>355</a>\u001b[0m     \u001b[39mraise\u001b[39;00m JSONDecodeError(\u001b[39m\"\u001b[39m\u001b[39mExpecting value\u001b[39m\u001b[39m\"\u001b[39m, s, err\u001b[39m.\u001b[39mvalue) \u001b[39mfrom\u001b[39;00m \u001b[39mNone\u001b[39m\n\u001b[1;32m    <a href='file:///usr/lib/python3.10/json/decoder.py?line=355'>356</a>\u001b[0m \u001b[39mreturn\u001b[39;00m obj, end\n",
            "\u001b[0;31mJSONDecodeError\u001b[0m: Expecting value: line 1 column 1 (char 0)",
            "\nDuring handling of the above exception, another exception occurred:\n",
            "\u001b[0;31mKeyboardInterrupt\u001b[0m                         Traceback (most recent call last)",
            "\u001b[1;32m/home/sebelum_masehi/Documents/Ilmu Komputer UI/Analitika Media Sosial/Tutorial/Tutorial 3/Tutorial 3 - Data Collection.ipynb Cell 99'\u001b[0m in \u001b[0;36m<cell line: 12>\u001b[0;34m()\u001b[0m\n\u001b[1;32m      <a href='vscode-notebook-cell:/home/sebelum_masehi/Documents/Ilmu%20Komputer%20UI/Analitika%20Media%20Sosial/Tutorial/Tutorial%203/Tutorial%203%20-%20Data%20Collection.ipynb#ch0000128?line=8'>9</a>\u001b[0m c\u001b[39m.\u001b[39mOutput \u001b[39m=\u001b[39m \u001b[39m'\u001b[39m\u001b[39m{}\u001b[39;00m\u001b[39m.csv\u001b[39m\u001b[39m'\u001b[39m\u001b[39m.\u001b[39mformat(keyword)\n\u001b[1;32m     <a href='vscode-notebook-cell:/home/sebelum_masehi/Documents/Ilmu%20Komputer%20UI/Analitika%20Media%20Sosial/Tutorial/Tutorial%203/Tutorial%203%20-%20Data%20Collection.ipynb#ch0000128?line=9'>10</a>\u001b[0m c\u001b[39m.\u001b[39mHide_output \u001b[39m=\u001b[39m \u001b[39mTrue\u001b[39;00m\n\u001b[0;32m---> <a href='vscode-notebook-cell:/home/sebelum_masehi/Documents/Ilmu%20Komputer%20UI/Analitika%20Media%20Sosial/Tutorial/Tutorial%203/Tutorial%203%20-%20Data%20Collection.ipynb#ch0000128?line=11'>12</a>\u001b[0m twint\u001b[39m.\u001b[39;49mrun\u001b[39m.\u001b[39;49mSearch(c)\n",
            "File \u001b[0;32m~/Documents/Ilmu Komputer UI/Analitika Media Sosial/Tutorial/Tutorial 3/env/lib/python3.10/site-packages/twint/run.py:327\u001b[0m, in \u001b[0;36mSearch\u001b[0;34m(config, callback)\u001b[0m\n\u001b[1;32m    <a href='file:///home/sebelum_masehi/Documents/Ilmu%20Komputer%20UI/Analitika%20Media%20Sosial/Tutorial/Tutorial%203/env/lib/python3.10/site-packages/twint/run.py?line=324'>325</a>\u001b[0m config\u001b[39m.\u001b[39mProfile \u001b[39m=\u001b[39m \u001b[39mFalse\u001b[39;00m\n\u001b[1;32m    <a href='file:///home/sebelum_masehi/Documents/Ilmu%20Komputer%20UI/Analitika%20Media%20Sosial/Tutorial/Tutorial%203/env/lib/python3.10/site-packages/twint/run.py?line=325'>326</a>\u001b[0m config\u001b[39m.\u001b[39mProfile_full \u001b[39m=\u001b[39m \u001b[39mFalse\u001b[39;00m\n\u001b[0;32m--> <a href='file:///home/sebelum_masehi/Documents/Ilmu%20Komputer%20UI/Analitika%20Media%20Sosial/Tutorial/Tutorial%203/env/lib/python3.10/site-packages/twint/run.py?line=326'>327</a>\u001b[0m run(config, callback)\n\u001b[1;32m    <a href='file:///home/sebelum_masehi/Documents/Ilmu%20Komputer%20UI/Analitika%20Media%20Sosial/Tutorial/Tutorial%203/env/lib/python3.10/site-packages/twint/run.py?line=327'>328</a>\u001b[0m \u001b[39mif\u001b[39;00m config\u001b[39m.\u001b[39mPandas_au:\n\u001b[1;32m    <a href='file:///home/sebelum_masehi/Documents/Ilmu%20Komputer%20UI/Analitika%20Media%20Sosial/Tutorial/Tutorial%203/env/lib/python3.10/site-packages/twint/run.py?line=328'>329</a>\u001b[0m     storage\u001b[39m.\u001b[39mpanda\u001b[39m.\u001b[39m_autoget(\u001b[39m\"\u001b[39m\u001b[39mtweet\u001b[39m\u001b[39m\"\u001b[39m)\n",
            "File \u001b[0;32m~/Documents/Ilmu Komputer UI/Analitika Media Sosial/Tutorial/Tutorial 3/env/lib/python3.10/site-packages/twint/run.py:226\u001b[0m, in \u001b[0;36mrun\u001b[0;34m(config, callback)\u001b[0m\n\u001b[1;32m    <a href='file:///home/sebelum_masehi/Documents/Ilmu%20Komputer%20UI/Analitika%20Media%20Sosial/Tutorial/Tutorial%203/env/lib/python3.10/site-packages/twint/run.py?line=222'>223</a>\u001b[0m     logme\u001b[39m.\u001b[39mexception(\u001b[39m__name__\u001b[39m\u001b[39m+\u001b[39m\u001b[39m'\u001b[39m\u001b[39m:Lookup:Unexpected exception occured while attempting to get or create a new event loop.\u001b[39m\u001b[39m'\u001b[39m)\n\u001b[1;32m    <a href='file:///home/sebelum_masehi/Documents/Ilmu%20Komputer%20UI/Analitika%20Media%20Sosial/Tutorial/Tutorial%203/env/lib/python3.10/site-packages/twint/run.py?line=223'>224</a>\u001b[0m     \u001b[39mraise\u001b[39;00m\n\u001b[0;32m--> <a href='file:///home/sebelum_masehi/Documents/Ilmu%20Komputer%20UI/Analitika%20Media%20Sosial/Tutorial/Tutorial%203/env/lib/python3.10/site-packages/twint/run.py?line=225'>226</a>\u001b[0m get_event_loop()\u001b[39m.\u001b[39;49mrun_until_complete(Twint(config)\u001b[39m.\u001b[39;49mmain(callback))\n",
            "File \u001b[0;32m~/Documents/Ilmu Komputer UI/Analitika Media Sosial/Tutorial/Tutorial 3/env/lib/python3.10/site-packages/nest_asyncio.py:75\u001b[0m, in \u001b[0;36m_patch_loop.<locals>.run_until_complete\u001b[0;34m(self, future)\u001b[0m\n\u001b[1;32m     <a href='file:///home/sebelum_masehi/Documents/Ilmu%20Komputer%20UI/Analitika%20Media%20Sosial/Tutorial/Tutorial%203/env/lib/python3.10/site-packages/nest_asyncio.py?line=72'>73</a>\u001b[0m     f\u001b[39m.\u001b[39m_log_destroy_pending \u001b[39m=\u001b[39m \u001b[39mFalse\u001b[39;00m\n\u001b[1;32m     <a href='file:///home/sebelum_masehi/Documents/Ilmu%20Komputer%20UI/Analitika%20Media%20Sosial/Tutorial/Tutorial%203/env/lib/python3.10/site-packages/nest_asyncio.py?line=73'>74</a>\u001b[0m \u001b[39mwhile\u001b[39;00m \u001b[39mnot\u001b[39;00m f\u001b[39m.\u001b[39mdone():\n\u001b[0;32m---> <a href='file:///home/sebelum_masehi/Documents/Ilmu%20Komputer%20UI/Analitika%20Media%20Sosial/Tutorial/Tutorial%203/env/lib/python3.10/site-packages/nest_asyncio.py?line=74'>75</a>\u001b[0m     \u001b[39mself\u001b[39;49m\u001b[39m.\u001b[39;49m_run_once()\n\u001b[1;32m     <a href='file:///home/sebelum_masehi/Documents/Ilmu%20Komputer%20UI/Analitika%20Media%20Sosial/Tutorial/Tutorial%203/env/lib/python3.10/site-packages/nest_asyncio.py?line=75'>76</a>\u001b[0m     \u001b[39mif\u001b[39;00m \u001b[39mself\u001b[39m\u001b[39m.\u001b[39m_stopping:\n\u001b[1;32m     <a href='file:///home/sebelum_masehi/Documents/Ilmu%20Komputer%20UI/Analitika%20Media%20Sosial/Tutorial/Tutorial%203/env/lib/python3.10/site-packages/nest_asyncio.py?line=76'>77</a>\u001b[0m         \u001b[39mbreak\u001b[39;00m\n",
            "File \u001b[0;32m~/Documents/Ilmu Komputer UI/Analitika Media Sosial/Tutorial/Tutorial 3/env/lib/python3.10/site-packages/nest_asyncio.py:111\u001b[0m, in \u001b[0;36m_patch_loop.<locals>._run_once\u001b[0;34m(self)\u001b[0m\n\u001b[1;32m    <a href='file:///home/sebelum_masehi/Documents/Ilmu%20Komputer%20UI/Analitika%20Media%20Sosial/Tutorial/Tutorial%203/env/lib/python3.10/site-packages/nest_asyncio.py?line=108'>109</a>\u001b[0m     handle \u001b[39m=\u001b[39m ready\u001b[39m.\u001b[39mpopleft()\n\u001b[1;32m    <a href='file:///home/sebelum_masehi/Documents/Ilmu%20Komputer%20UI/Analitika%20Media%20Sosial/Tutorial/Tutorial%203/env/lib/python3.10/site-packages/nest_asyncio.py?line=109'>110</a>\u001b[0m     \u001b[39mif\u001b[39;00m \u001b[39mnot\u001b[39;00m handle\u001b[39m.\u001b[39m_cancelled:\n\u001b[0;32m--> <a href='file:///home/sebelum_masehi/Documents/Ilmu%20Komputer%20UI/Analitika%20Media%20Sosial/Tutorial/Tutorial%203/env/lib/python3.10/site-packages/nest_asyncio.py?line=110'>111</a>\u001b[0m         handle\u001b[39m.\u001b[39;49m_run()\n\u001b[1;32m    <a href='file:///home/sebelum_masehi/Documents/Ilmu%20Komputer%20UI/Analitika%20Media%20Sosial/Tutorial/Tutorial%203/env/lib/python3.10/site-packages/nest_asyncio.py?line=111'>112</a>\u001b[0m handle \u001b[39m=\u001b[39m \u001b[39mNone\u001b[39;00m\n",
            "File \u001b[0;32m/usr/lib/python3.10/asyncio/events.py:80\u001b[0m, in \u001b[0;36mHandle._run\u001b[0;34m(self)\u001b[0m\n\u001b[1;32m     <a href='file:///usr/lib/python3.10/asyncio/events.py?line=77'>78</a>\u001b[0m \u001b[39mdef\u001b[39;00m \u001b[39m_run\u001b[39m(\u001b[39mself\u001b[39m):\n\u001b[1;32m     <a href='file:///usr/lib/python3.10/asyncio/events.py?line=78'>79</a>\u001b[0m     \u001b[39mtry\u001b[39;00m:\n\u001b[0;32m---> <a href='file:///usr/lib/python3.10/asyncio/events.py?line=79'>80</a>\u001b[0m         \u001b[39mself\u001b[39;49m\u001b[39m.\u001b[39;49m_context\u001b[39m.\u001b[39;49mrun(\u001b[39mself\u001b[39;49m\u001b[39m.\u001b[39;49m_callback, \u001b[39m*\u001b[39;49m\u001b[39mself\u001b[39;49m\u001b[39m.\u001b[39;49m_args)\n\u001b[1;32m     <a href='file:///usr/lib/python3.10/asyncio/events.py?line=80'>81</a>\u001b[0m     \u001b[39mexcept\u001b[39;00m (\u001b[39mSystemExit\u001b[39;00m, \u001b[39mKeyboardInterrupt\u001b[39;00m):\n\u001b[1;32m     <a href='file:///usr/lib/python3.10/asyncio/events.py?line=81'>82</a>\u001b[0m         \u001b[39mraise\u001b[39;00m\n",
            "File \u001b[0;32m~/Documents/Ilmu Komputer UI/Analitika Media Sosial/Tutorial/Tutorial 3/env/lib/python3.10/site-packages/nest_asyncio.py:183\u001b[0m, in \u001b[0;36m_patch_task.<locals>.step\u001b[0;34m(task, exc)\u001b[0m\n\u001b[1;32m    <a href='file:///home/sebelum_masehi/Documents/Ilmu%20Komputer%20UI/Analitika%20Media%20Sosial/Tutorial/Tutorial%203/env/lib/python3.10/site-packages/nest_asyncio.py?line=180'>181</a>\u001b[0m curr_task \u001b[39m=\u001b[39m curr_tasks\u001b[39m.\u001b[39mget(task\u001b[39m.\u001b[39m_loop)\n\u001b[1;32m    <a href='file:///home/sebelum_masehi/Documents/Ilmu%20Komputer%20UI/Analitika%20Media%20Sosial/Tutorial/Tutorial%203/env/lib/python3.10/site-packages/nest_asyncio.py?line=181'>182</a>\u001b[0m \u001b[39mtry\u001b[39;00m:\n\u001b[0;32m--> <a href='file:///home/sebelum_masehi/Documents/Ilmu%20Komputer%20UI/Analitika%20Media%20Sosial/Tutorial/Tutorial%203/env/lib/python3.10/site-packages/nest_asyncio.py?line=182'>183</a>\u001b[0m     step_orig(task, exc)\n\u001b[1;32m    <a href='file:///home/sebelum_masehi/Documents/Ilmu%20Komputer%20UI/Analitika%20Media%20Sosial/Tutorial/Tutorial%203/env/lib/python3.10/site-packages/nest_asyncio.py?line=183'>184</a>\u001b[0m \u001b[39mfinally\u001b[39;00m:\n\u001b[1;32m    <a href='file:///home/sebelum_masehi/Documents/Ilmu%20Komputer%20UI/Analitika%20Media%20Sosial/Tutorial/Tutorial%203/env/lib/python3.10/site-packages/nest_asyncio.py?line=184'>185</a>\u001b[0m     \u001b[39mif\u001b[39;00m curr_task \u001b[39mis\u001b[39;00m \u001b[39mNone\u001b[39;00m:\n",
            "File \u001b[0;32m/usr/lib/python3.10/asyncio/tasks.py:232\u001b[0m, in \u001b[0;36mTask.__step\u001b[0;34m(***failed resolving arguments***)\u001b[0m\n\u001b[1;32m    <a href='file:///usr/lib/python3.10/asyncio/tasks.py?line=227'>228</a>\u001b[0m \u001b[39mtry\u001b[39;00m:\n\u001b[1;32m    <a href='file:///usr/lib/python3.10/asyncio/tasks.py?line=228'>229</a>\u001b[0m     \u001b[39mif\u001b[39;00m exc \u001b[39mis\u001b[39;00m \u001b[39mNone\u001b[39;00m:\n\u001b[1;32m    <a href='file:///usr/lib/python3.10/asyncio/tasks.py?line=229'>230</a>\u001b[0m         \u001b[39m# We use the `send` method directly, because coroutines\u001b[39;00m\n\u001b[1;32m    <a href='file:///usr/lib/python3.10/asyncio/tasks.py?line=230'>231</a>\u001b[0m         \u001b[39m# don't have `__iter__` and `__next__` methods.\u001b[39;00m\n\u001b[0;32m--> <a href='file:///usr/lib/python3.10/asyncio/tasks.py?line=231'>232</a>\u001b[0m         result \u001b[39m=\u001b[39m coro\u001b[39m.\u001b[39;49msend(\u001b[39mNone\u001b[39;49;00m)\n\u001b[1;32m    <a href='file:///usr/lib/python3.10/asyncio/tasks.py?line=232'>233</a>\u001b[0m     \u001b[39melse\u001b[39;00m:\n\u001b[1;32m    <a href='file:///usr/lib/python3.10/asyncio/tasks.py?line=233'>234</a>\u001b[0m         result \u001b[39m=\u001b[39m coro\u001b[39m.\u001b[39mthrow(exc)\n",
            "File \u001b[0;32m~/Documents/Ilmu Komputer UI/Analitika Media Sosial/Tutorial/Tutorial 3/env/lib/python3.10/site-packages/twint/run.py:177\u001b[0m, in \u001b[0;36mTwint.run\u001b[0;34m(self)\u001b[0m\n\u001b[1;32m    <a href='file:///home/sebelum_masehi/Documents/Ilmu%20Komputer%20UI/Analitika%20Media%20Sosial/Tutorial/Tutorial%203/env/lib/python3.10/site-packages/twint/run.py?line=174'>175</a>\u001b[0m \u001b[39mself\u001b[39m\u001b[39m.\u001b[39mconfig\u001b[39m.\u001b[39mUntil \u001b[39m=\u001b[39m \u001b[39mstr\u001b[39m(\u001b[39mself\u001b[39m\u001b[39m.\u001b[39md\u001b[39m.\u001b[39m_until)\n\u001b[1;32m    <a href='file:///home/sebelum_masehi/Documents/Ilmu%20Komputer%20UI/Analitika%20Media%20Sosial/Tutorial/Tutorial%203/env/lib/python3.10/site-packages/twint/run.py?line=175'>176</a>\u001b[0m \u001b[39mif\u001b[39;00m \u001b[39mlen\u001b[39m(\u001b[39mself\u001b[39m\u001b[39m.\u001b[39mfeed) \u001b[39m>\u001b[39m \u001b[39m0\u001b[39m:\n\u001b[0;32m--> <a href='file:///home/sebelum_masehi/Documents/Ilmu%20Komputer%20UI/Analitika%20Media%20Sosial/Tutorial/Tutorial%203/env/lib/python3.10/site-packages/twint/run.py?line=176'>177</a>\u001b[0m     \u001b[39mawait\u001b[39;00m \u001b[39mself\u001b[39m\u001b[39m.\u001b[39mtweets()\n\u001b[1;32m    <a href='file:///home/sebelum_masehi/Documents/Ilmu%20Komputer%20UI/Analitika%20Media%20Sosial/Tutorial/Tutorial%203/env/lib/python3.10/site-packages/twint/run.py?line=177'>178</a>\u001b[0m \u001b[39melse\u001b[39;00m:\n\u001b[1;32m    <a href='file:///home/sebelum_masehi/Documents/Ilmu%20Komputer%20UI/Analitika%20Media%20Sosial/Tutorial/Tutorial%203/env/lib/python3.10/site-packages/twint/run.py?line=178'>179</a>\u001b[0m     logme\u001b[39m.\u001b[39mdebug(\u001b[39m__name__\u001b[39m\u001b[39m+\u001b[39m\u001b[39m'\u001b[39m\u001b[39m:Twint:main:gettingNewTweets\u001b[39m\u001b[39m'\u001b[39m)\n",
            "File \u001b[0;32m~/Documents/Ilmu Komputer UI/Analitika Media Sosial/Tutorial/Tutorial 3/env/lib/python3.10/site-packages/twint/run.py:137\u001b[0m, in \u001b[0;36mTwint.tweets\u001b[0;34m(self)\u001b[0m\n\u001b[1;32m    <a href='file:///home/sebelum_masehi/Documents/Ilmu%20Komputer%20UI/Analitika%20Media%20Sosial/Tutorial/Tutorial%203/env/lib/python3.10/site-packages/twint/run.py?line=135'>136</a>\u001b[0m \u001b[39masync\u001b[39;00m \u001b[39mdef\u001b[39;00m \u001b[39mtweets\u001b[39m(\u001b[39mself\u001b[39m):\n\u001b[0;32m--> <a href='file:///home/sebelum_masehi/Documents/Ilmu%20Komputer%20UI/Analitika%20Media%20Sosial/Tutorial/Tutorial%203/env/lib/python3.10/site-packages/twint/run.py?line=136'>137</a>\u001b[0m     \u001b[39mawait\u001b[39;00m \u001b[39mself\u001b[39m\u001b[39m.\u001b[39mFeed()\n\u001b[1;32m    <a href='file:///home/sebelum_masehi/Documents/Ilmu%20Komputer%20UI/Analitika%20Media%20Sosial/Tutorial/Tutorial%203/env/lib/python3.10/site-packages/twint/run.py?line=137'>138</a>\u001b[0m     \u001b[39mif\u001b[39;00m \u001b[39mself\u001b[39m\u001b[39m.\u001b[39mconfig\u001b[39m.\u001b[39mLocation:\n\u001b[1;32m    <a href='file:///home/sebelum_masehi/Documents/Ilmu%20Komputer%20UI/Analitika%20Media%20Sosial/Tutorial/Tutorial%203/env/lib/python3.10/site-packages/twint/run.py?line=138'>139</a>\u001b[0m         logme\u001b[39m.\u001b[39mdebug(\u001b[39m__name__\u001b[39m\u001b[39m+\u001b[39m\u001b[39m'\u001b[39m\u001b[39m:Twint:tweets:location\u001b[39m\u001b[39m'\u001b[39m)\n",
            "File \u001b[0;32m~/Documents/Ilmu Komputer UI/Analitika Media Sosial/Tutorial/Tutorial 3/env/lib/python3.10/site-packages/twint/run.py:98\u001b[0m, in \u001b[0;36mTwint.Feed\u001b[0;34m(self)\u001b[0m\n\u001b[1;32m     <a href='file:///home/sebelum_masehi/Documents/Ilmu%20Komputer%20UI/Analitika%20Media%20Sosial/Tutorial/Tutorial%203/env/lib/python3.10/site-packages/twint/run.py?line=94'>95</a>\u001b[0m     delay \u001b[39m=\u001b[39m \u001b[39mself\u001b[39m\u001b[39m.\u001b[39mconfig\u001b[39m.\u001b[39mMin_wait_time\n\u001b[1;32m     <a href='file:///home/sebelum_masehi/Documents/Ilmu%20Komputer%20UI/Analitika%20Media%20Sosial/Tutorial/Tutorial%203/env/lib/python3.10/site-packages/twint/run.py?line=96'>97</a>\u001b[0m sys\u001b[39m.\u001b[39mstderr\u001b[39m.\u001b[39mwrite(\u001b[39m'\u001b[39m\u001b[39msleeping for \u001b[39m\u001b[39m{}\u001b[39;00m\u001b[39m secs\u001b[39m\u001b[39m\\n\u001b[39;00m\u001b[39m'\u001b[39m\u001b[39m.\u001b[39mformat(delay))\n\u001b[0;32m---> <a href='file:///home/sebelum_masehi/Documents/Ilmu%20Komputer%20UI/Analitika%20Media%20Sosial/Tutorial/Tutorial%203/env/lib/python3.10/site-packages/twint/run.py?line=97'>98</a>\u001b[0m time\u001b[39m.\u001b[39;49msleep(delay)\n\u001b[1;32m     <a href='file:///home/sebelum_masehi/Documents/Ilmu%20Komputer%20UI/Analitika%20Media%20Sosial/Tutorial/Tutorial%203/env/lib/python3.10/site-packages/twint/run.py?line=98'>99</a>\u001b[0m \u001b[39mself\u001b[39m\u001b[39m.\u001b[39muser_agent \u001b[39m=\u001b[39m \u001b[39mawait\u001b[39;00m get\u001b[39m.\u001b[39mRandomUserAgent(wa\u001b[39m=\u001b[39m\u001b[39mTrue\u001b[39;00m)\n\u001b[1;32m    <a href='file:///home/sebelum_masehi/Documents/Ilmu%20Komputer%20UI/Analitika%20Media%20Sosial/Tutorial/Tutorial%203/env/lib/python3.10/site-packages/twint/run.py?line=99'>100</a>\u001b[0m \u001b[39mcontinue\u001b[39;00m\n",
            "\u001b[0;31mKeyboardInterrupt\u001b[0m: "
          ]
        }
      ],
      "source": [
        "# need time about 10-15 mins\n",
        "\n",
        "c = twint.Config()\n",
        "keyword = 'goto'\n",
        "c.Search = keyword # masukkan kata kunci\n",
        "c.Since = '2022-03-26 00:00:00'\n",
        "c.Until = '2022-03-26 23:59:59' \n",
        "c.Store_csv = True\n",
        "c.Output = '{}.csv'.format(keyword)\n",
        "c.Hide_output = True\n",
        "\n",
        "twint.run.Search(c)"
      ]
    },
    {
      "cell_type": "code",
      "execution_count": 23,
      "metadata": {},
      "outputs": [
        {
          "ename": "FileNotFoundError",
          "evalue": "[Errno 2] No such file or directory: 'goto.csv'",
          "output_type": "error",
          "traceback": [
            "\u001b[0;31m---------------------------------------------------------------------------\u001b[0m",
            "\u001b[0;31mFileNotFoundError\u001b[0m                         Traceback (most recent call last)",
            "\u001b[1;32m/home/sebelum_masehi/Documents/Ilmu Komputer UI/Analitika Media Sosial/Tutorial/Tutorial 3/Tutorial 3 - Data Collection.ipynb Cell 99'\u001b[0m in \u001b[0;36m<cell line: 2>\u001b[0;34m()\u001b[0m\n\u001b[1;32m      <a href='vscode-notebook-cell:/home/sebelum_masehi/Documents/Ilmu%20Komputer%20UI/Analitika%20Media%20Sosial/Tutorial/Tutorial%203/Tutorial%203%20-%20Data%20Collection.ipynb#ch0000129?line=0'>1</a>\u001b[0m \u001b[39m# explore data \u001b[39;00m\n\u001b[0;32m----> <a href='vscode-notebook-cell:/home/sebelum_masehi/Documents/Ilmu%20Komputer%20UI/Analitika%20Media%20Sosial/Tutorial/Tutorial%203/Tutorial%203%20-%20Data%20Collection.ipynb#ch0000129?line=1'>2</a>\u001b[0m df_goto \u001b[39m=\u001b[39m pd\u001b[39m.\u001b[39;49mread_csv(\u001b[39m'\u001b[39;49m\u001b[39mgoto.csv\u001b[39;49m\u001b[39m'\u001b[39;49m)\n\u001b[1;32m      <a href='vscode-notebook-cell:/home/sebelum_masehi/Documents/Ilmu%20Komputer%20UI/Analitika%20Media%20Sosial/Tutorial/Tutorial%203/Tutorial%203%20-%20Data%20Collection.ipynb#ch0000129?line=2'>3</a>\u001b[0m df_goto\u001b[39m.\u001b[39minfo()\n\u001b[1;32m      <a href='vscode-notebook-cell:/home/sebelum_masehi/Documents/Ilmu%20Komputer%20UI/Analitika%20Media%20Sosial/Tutorial/Tutorial%203/Tutorial%203%20-%20Data%20Collection.ipynb#ch0000129?line=3'>4</a>\u001b[0m df_goto\u001b[39m.\u001b[39mhead()\n",
            "File \u001b[0;32m~/Documents/Ilmu Komputer UI/Analitika Media Sosial/Tutorial/Tutorial 3/env/lib/python3.10/site-packages/pandas/util/_decorators.py:311\u001b[0m, in \u001b[0;36mdeprecate_nonkeyword_arguments.<locals>.decorate.<locals>.wrapper\u001b[0;34m(*args, **kwargs)\u001b[0m\n\u001b[1;32m    <a href='file:///home/sebelum_masehi/Documents/Ilmu%20Komputer%20UI/Analitika%20Media%20Sosial/Tutorial/Tutorial%203/env/lib/python3.10/site-packages/pandas/util/_decorators.py?line=304'>305</a>\u001b[0m \u001b[39mif\u001b[39;00m \u001b[39mlen\u001b[39m(args) \u001b[39m>\u001b[39m num_allow_args:\n\u001b[1;32m    <a href='file:///home/sebelum_masehi/Documents/Ilmu%20Komputer%20UI/Analitika%20Media%20Sosial/Tutorial/Tutorial%203/env/lib/python3.10/site-packages/pandas/util/_decorators.py?line=305'>306</a>\u001b[0m     warnings\u001b[39m.\u001b[39mwarn(\n\u001b[1;32m    <a href='file:///home/sebelum_masehi/Documents/Ilmu%20Komputer%20UI/Analitika%20Media%20Sosial/Tutorial/Tutorial%203/env/lib/python3.10/site-packages/pandas/util/_decorators.py?line=306'>307</a>\u001b[0m         msg\u001b[39m.\u001b[39mformat(arguments\u001b[39m=\u001b[39marguments),\n\u001b[1;32m    <a href='file:///home/sebelum_masehi/Documents/Ilmu%20Komputer%20UI/Analitika%20Media%20Sosial/Tutorial/Tutorial%203/env/lib/python3.10/site-packages/pandas/util/_decorators.py?line=307'>308</a>\u001b[0m         \u001b[39mFutureWarning\u001b[39;00m,\n\u001b[1;32m    <a href='file:///home/sebelum_masehi/Documents/Ilmu%20Komputer%20UI/Analitika%20Media%20Sosial/Tutorial/Tutorial%203/env/lib/python3.10/site-packages/pandas/util/_decorators.py?line=308'>309</a>\u001b[0m         stacklevel\u001b[39m=\u001b[39mstacklevel,\n\u001b[1;32m    <a href='file:///home/sebelum_masehi/Documents/Ilmu%20Komputer%20UI/Analitika%20Media%20Sosial/Tutorial/Tutorial%203/env/lib/python3.10/site-packages/pandas/util/_decorators.py?line=309'>310</a>\u001b[0m     )\n\u001b[0;32m--> <a href='file:///home/sebelum_masehi/Documents/Ilmu%20Komputer%20UI/Analitika%20Media%20Sosial/Tutorial/Tutorial%203/env/lib/python3.10/site-packages/pandas/util/_decorators.py?line=310'>311</a>\u001b[0m \u001b[39mreturn\u001b[39;00m func(\u001b[39m*\u001b[39;49margs, \u001b[39m*\u001b[39;49m\u001b[39m*\u001b[39;49mkwargs)\n",
            "File \u001b[0;32m~/Documents/Ilmu Komputer UI/Analitika Media Sosial/Tutorial/Tutorial 3/env/lib/python3.10/site-packages/pandas/io/parsers/readers.py:680\u001b[0m, in \u001b[0;36mread_csv\u001b[0;34m(filepath_or_buffer, sep, delimiter, header, names, index_col, usecols, squeeze, prefix, mangle_dupe_cols, dtype, engine, converters, true_values, false_values, skipinitialspace, skiprows, skipfooter, nrows, na_values, keep_default_na, na_filter, verbose, skip_blank_lines, parse_dates, infer_datetime_format, keep_date_col, date_parser, dayfirst, cache_dates, iterator, chunksize, compression, thousands, decimal, lineterminator, quotechar, quoting, doublequote, escapechar, comment, encoding, encoding_errors, dialect, error_bad_lines, warn_bad_lines, on_bad_lines, delim_whitespace, low_memory, memory_map, float_precision, storage_options)\u001b[0m\n\u001b[1;32m    <a href='file:///home/sebelum_masehi/Documents/Ilmu%20Komputer%20UI/Analitika%20Media%20Sosial/Tutorial/Tutorial%203/env/lib/python3.10/site-packages/pandas/io/parsers/readers.py?line=664'>665</a>\u001b[0m kwds_defaults \u001b[39m=\u001b[39m _refine_defaults_read(\n\u001b[1;32m    <a href='file:///home/sebelum_masehi/Documents/Ilmu%20Komputer%20UI/Analitika%20Media%20Sosial/Tutorial/Tutorial%203/env/lib/python3.10/site-packages/pandas/io/parsers/readers.py?line=665'>666</a>\u001b[0m     dialect,\n\u001b[1;32m    <a href='file:///home/sebelum_masehi/Documents/Ilmu%20Komputer%20UI/Analitika%20Media%20Sosial/Tutorial/Tutorial%203/env/lib/python3.10/site-packages/pandas/io/parsers/readers.py?line=666'>667</a>\u001b[0m     delimiter,\n\u001b[0;32m   (...)\u001b[0m\n\u001b[1;32m    <a href='file:///home/sebelum_masehi/Documents/Ilmu%20Komputer%20UI/Analitika%20Media%20Sosial/Tutorial/Tutorial%203/env/lib/python3.10/site-packages/pandas/io/parsers/readers.py?line=675'>676</a>\u001b[0m     defaults\u001b[39m=\u001b[39m{\u001b[39m\"\u001b[39m\u001b[39mdelimiter\u001b[39m\u001b[39m\"\u001b[39m: \u001b[39m\"\u001b[39m\u001b[39m,\u001b[39m\u001b[39m\"\u001b[39m},\n\u001b[1;32m    <a href='file:///home/sebelum_masehi/Documents/Ilmu%20Komputer%20UI/Analitika%20Media%20Sosial/Tutorial/Tutorial%203/env/lib/python3.10/site-packages/pandas/io/parsers/readers.py?line=676'>677</a>\u001b[0m )\n\u001b[1;32m    <a href='file:///home/sebelum_masehi/Documents/Ilmu%20Komputer%20UI/Analitika%20Media%20Sosial/Tutorial/Tutorial%203/env/lib/python3.10/site-packages/pandas/io/parsers/readers.py?line=677'>678</a>\u001b[0m kwds\u001b[39m.\u001b[39mupdate(kwds_defaults)\n\u001b[0;32m--> <a href='file:///home/sebelum_masehi/Documents/Ilmu%20Komputer%20UI/Analitika%20Media%20Sosial/Tutorial/Tutorial%203/env/lib/python3.10/site-packages/pandas/io/parsers/readers.py?line=679'>680</a>\u001b[0m \u001b[39mreturn\u001b[39;00m _read(filepath_or_buffer, kwds)\n",
            "File \u001b[0;32m~/Documents/Ilmu Komputer UI/Analitika Media Sosial/Tutorial/Tutorial 3/env/lib/python3.10/site-packages/pandas/io/parsers/readers.py:575\u001b[0m, in \u001b[0;36m_read\u001b[0;34m(filepath_or_buffer, kwds)\u001b[0m\n\u001b[1;32m    <a href='file:///home/sebelum_masehi/Documents/Ilmu%20Komputer%20UI/Analitika%20Media%20Sosial/Tutorial/Tutorial%203/env/lib/python3.10/site-packages/pandas/io/parsers/readers.py?line=571'>572</a>\u001b[0m _validate_names(kwds\u001b[39m.\u001b[39mget(\u001b[39m\"\u001b[39m\u001b[39mnames\u001b[39m\u001b[39m\"\u001b[39m, \u001b[39mNone\u001b[39;00m))\n\u001b[1;32m    <a href='file:///home/sebelum_masehi/Documents/Ilmu%20Komputer%20UI/Analitika%20Media%20Sosial/Tutorial/Tutorial%203/env/lib/python3.10/site-packages/pandas/io/parsers/readers.py?line=573'>574</a>\u001b[0m \u001b[39m# Create the parser.\u001b[39;00m\n\u001b[0;32m--> <a href='file:///home/sebelum_masehi/Documents/Ilmu%20Komputer%20UI/Analitika%20Media%20Sosial/Tutorial/Tutorial%203/env/lib/python3.10/site-packages/pandas/io/parsers/readers.py?line=574'>575</a>\u001b[0m parser \u001b[39m=\u001b[39m TextFileReader(filepath_or_buffer, \u001b[39m*\u001b[39;49m\u001b[39m*\u001b[39;49mkwds)\n\u001b[1;32m    <a href='file:///home/sebelum_masehi/Documents/Ilmu%20Komputer%20UI/Analitika%20Media%20Sosial/Tutorial/Tutorial%203/env/lib/python3.10/site-packages/pandas/io/parsers/readers.py?line=576'>577</a>\u001b[0m \u001b[39mif\u001b[39;00m chunksize \u001b[39mor\u001b[39;00m iterator:\n\u001b[1;32m    <a href='file:///home/sebelum_masehi/Documents/Ilmu%20Komputer%20UI/Analitika%20Media%20Sosial/Tutorial/Tutorial%203/env/lib/python3.10/site-packages/pandas/io/parsers/readers.py?line=577'>578</a>\u001b[0m     \u001b[39mreturn\u001b[39;00m parser\n",
            "File \u001b[0;32m~/Documents/Ilmu Komputer UI/Analitika Media Sosial/Tutorial/Tutorial 3/env/lib/python3.10/site-packages/pandas/io/parsers/readers.py:933\u001b[0m, in \u001b[0;36mTextFileReader.__init__\u001b[0;34m(self, f, engine, **kwds)\u001b[0m\n\u001b[1;32m    <a href='file:///home/sebelum_masehi/Documents/Ilmu%20Komputer%20UI/Analitika%20Media%20Sosial/Tutorial/Tutorial%203/env/lib/python3.10/site-packages/pandas/io/parsers/readers.py?line=929'>930</a>\u001b[0m     \u001b[39mself\u001b[39m\u001b[39m.\u001b[39moptions[\u001b[39m\"\u001b[39m\u001b[39mhas_index_names\u001b[39m\u001b[39m\"\u001b[39m] \u001b[39m=\u001b[39m kwds[\u001b[39m\"\u001b[39m\u001b[39mhas_index_names\u001b[39m\u001b[39m\"\u001b[39m]\n\u001b[1;32m    <a href='file:///home/sebelum_masehi/Documents/Ilmu%20Komputer%20UI/Analitika%20Media%20Sosial/Tutorial/Tutorial%203/env/lib/python3.10/site-packages/pandas/io/parsers/readers.py?line=931'>932</a>\u001b[0m \u001b[39mself\u001b[39m\u001b[39m.\u001b[39mhandles: IOHandles \u001b[39m|\u001b[39m \u001b[39mNone\u001b[39;00m \u001b[39m=\u001b[39m \u001b[39mNone\u001b[39;00m\n\u001b[0;32m--> <a href='file:///home/sebelum_masehi/Documents/Ilmu%20Komputer%20UI/Analitika%20Media%20Sosial/Tutorial/Tutorial%203/env/lib/python3.10/site-packages/pandas/io/parsers/readers.py?line=932'>933</a>\u001b[0m \u001b[39mself\u001b[39m\u001b[39m.\u001b[39m_engine \u001b[39m=\u001b[39m \u001b[39mself\u001b[39;49m\u001b[39m.\u001b[39;49m_make_engine(f, \u001b[39mself\u001b[39;49m\u001b[39m.\u001b[39;49mengine)\n",
            "File \u001b[0;32m~/Documents/Ilmu Komputer UI/Analitika Media Sosial/Tutorial/Tutorial 3/env/lib/python3.10/site-packages/pandas/io/parsers/readers.py:1217\u001b[0m, in \u001b[0;36mTextFileReader._make_engine\u001b[0;34m(self, f, engine)\u001b[0m\n\u001b[1;32m   <a href='file:///home/sebelum_masehi/Documents/Ilmu%20Komputer%20UI/Analitika%20Media%20Sosial/Tutorial/Tutorial%203/env/lib/python3.10/site-packages/pandas/io/parsers/readers.py?line=1212'>1213</a>\u001b[0m     mode \u001b[39m=\u001b[39m \u001b[39m\"\u001b[39m\u001b[39mrb\u001b[39m\u001b[39m\"\u001b[39m\n\u001b[1;32m   <a href='file:///home/sebelum_masehi/Documents/Ilmu%20Komputer%20UI/Analitika%20Media%20Sosial/Tutorial/Tutorial%203/env/lib/python3.10/site-packages/pandas/io/parsers/readers.py?line=1213'>1214</a>\u001b[0m \u001b[39m# error: No overload variant of \"get_handle\" matches argument types\u001b[39;00m\n\u001b[1;32m   <a href='file:///home/sebelum_masehi/Documents/Ilmu%20Komputer%20UI/Analitika%20Media%20Sosial/Tutorial/Tutorial%203/env/lib/python3.10/site-packages/pandas/io/parsers/readers.py?line=1214'>1215</a>\u001b[0m \u001b[39m# \"Union[str, PathLike[str], ReadCsvBuffer[bytes], ReadCsvBuffer[str]]\"\u001b[39;00m\n\u001b[1;32m   <a href='file:///home/sebelum_masehi/Documents/Ilmu%20Komputer%20UI/Analitika%20Media%20Sosial/Tutorial/Tutorial%203/env/lib/python3.10/site-packages/pandas/io/parsers/readers.py?line=1215'>1216</a>\u001b[0m \u001b[39m# , \"str\", \"bool\", \"Any\", \"Any\", \"Any\", \"Any\", \"Any\"\u001b[39;00m\n\u001b[0;32m-> <a href='file:///home/sebelum_masehi/Documents/Ilmu%20Komputer%20UI/Analitika%20Media%20Sosial/Tutorial/Tutorial%203/env/lib/python3.10/site-packages/pandas/io/parsers/readers.py?line=1216'>1217</a>\u001b[0m \u001b[39mself\u001b[39m\u001b[39m.\u001b[39mhandles \u001b[39m=\u001b[39m get_handle(  \u001b[39m# type: ignore[call-overload]\u001b[39;49;00m\n\u001b[1;32m   <a href='file:///home/sebelum_masehi/Documents/Ilmu%20Komputer%20UI/Analitika%20Media%20Sosial/Tutorial/Tutorial%203/env/lib/python3.10/site-packages/pandas/io/parsers/readers.py?line=1217'>1218</a>\u001b[0m     f,\n\u001b[1;32m   <a href='file:///home/sebelum_masehi/Documents/Ilmu%20Komputer%20UI/Analitika%20Media%20Sosial/Tutorial/Tutorial%203/env/lib/python3.10/site-packages/pandas/io/parsers/readers.py?line=1218'>1219</a>\u001b[0m     mode,\n\u001b[1;32m   <a href='file:///home/sebelum_masehi/Documents/Ilmu%20Komputer%20UI/Analitika%20Media%20Sosial/Tutorial/Tutorial%203/env/lib/python3.10/site-packages/pandas/io/parsers/readers.py?line=1219'>1220</a>\u001b[0m     encoding\u001b[39m=\u001b[39;49m\u001b[39mself\u001b[39;49m\u001b[39m.\u001b[39;49moptions\u001b[39m.\u001b[39;49mget(\u001b[39m\"\u001b[39;49m\u001b[39mencoding\u001b[39;49m\u001b[39m\"\u001b[39;49m, \u001b[39mNone\u001b[39;49;00m),\n\u001b[1;32m   <a href='file:///home/sebelum_masehi/Documents/Ilmu%20Komputer%20UI/Analitika%20Media%20Sosial/Tutorial/Tutorial%203/env/lib/python3.10/site-packages/pandas/io/parsers/readers.py?line=1220'>1221</a>\u001b[0m     compression\u001b[39m=\u001b[39;49m\u001b[39mself\u001b[39;49m\u001b[39m.\u001b[39;49moptions\u001b[39m.\u001b[39;49mget(\u001b[39m\"\u001b[39;49m\u001b[39mcompression\u001b[39;49m\u001b[39m\"\u001b[39;49m, \u001b[39mNone\u001b[39;49;00m),\n\u001b[1;32m   <a href='file:///home/sebelum_masehi/Documents/Ilmu%20Komputer%20UI/Analitika%20Media%20Sosial/Tutorial/Tutorial%203/env/lib/python3.10/site-packages/pandas/io/parsers/readers.py?line=1221'>1222</a>\u001b[0m     memory_map\u001b[39m=\u001b[39;49m\u001b[39mself\u001b[39;49m\u001b[39m.\u001b[39;49moptions\u001b[39m.\u001b[39;49mget(\u001b[39m\"\u001b[39;49m\u001b[39mmemory_map\u001b[39;49m\u001b[39m\"\u001b[39;49m, \u001b[39mFalse\u001b[39;49;00m),\n\u001b[1;32m   <a href='file:///home/sebelum_masehi/Documents/Ilmu%20Komputer%20UI/Analitika%20Media%20Sosial/Tutorial/Tutorial%203/env/lib/python3.10/site-packages/pandas/io/parsers/readers.py?line=1222'>1223</a>\u001b[0m     is_text\u001b[39m=\u001b[39;49mis_text,\n\u001b[1;32m   <a href='file:///home/sebelum_masehi/Documents/Ilmu%20Komputer%20UI/Analitika%20Media%20Sosial/Tutorial/Tutorial%203/env/lib/python3.10/site-packages/pandas/io/parsers/readers.py?line=1223'>1224</a>\u001b[0m     errors\u001b[39m=\u001b[39;49m\u001b[39mself\u001b[39;49m\u001b[39m.\u001b[39;49moptions\u001b[39m.\u001b[39;49mget(\u001b[39m\"\u001b[39;49m\u001b[39mencoding_errors\u001b[39;49m\u001b[39m\"\u001b[39;49m, \u001b[39m\"\u001b[39;49m\u001b[39mstrict\u001b[39;49m\u001b[39m\"\u001b[39;49m),\n\u001b[1;32m   <a href='file:///home/sebelum_masehi/Documents/Ilmu%20Komputer%20UI/Analitika%20Media%20Sosial/Tutorial/Tutorial%203/env/lib/python3.10/site-packages/pandas/io/parsers/readers.py?line=1224'>1225</a>\u001b[0m     storage_options\u001b[39m=\u001b[39;49m\u001b[39mself\u001b[39;49m\u001b[39m.\u001b[39;49moptions\u001b[39m.\u001b[39;49mget(\u001b[39m\"\u001b[39;49m\u001b[39mstorage_options\u001b[39;49m\u001b[39m\"\u001b[39;49m, \u001b[39mNone\u001b[39;49;00m),\n\u001b[1;32m   <a href='file:///home/sebelum_masehi/Documents/Ilmu%20Komputer%20UI/Analitika%20Media%20Sosial/Tutorial/Tutorial%203/env/lib/python3.10/site-packages/pandas/io/parsers/readers.py?line=1225'>1226</a>\u001b[0m )\n\u001b[1;32m   <a href='file:///home/sebelum_masehi/Documents/Ilmu%20Komputer%20UI/Analitika%20Media%20Sosial/Tutorial/Tutorial%203/env/lib/python3.10/site-packages/pandas/io/parsers/readers.py?line=1226'>1227</a>\u001b[0m \u001b[39massert\u001b[39;00m \u001b[39mself\u001b[39m\u001b[39m.\u001b[39mhandles \u001b[39mis\u001b[39;00m \u001b[39mnot\u001b[39;00m \u001b[39mNone\u001b[39;00m\n\u001b[1;32m   <a href='file:///home/sebelum_masehi/Documents/Ilmu%20Komputer%20UI/Analitika%20Media%20Sosial/Tutorial/Tutorial%203/env/lib/python3.10/site-packages/pandas/io/parsers/readers.py?line=1227'>1228</a>\u001b[0m f \u001b[39m=\u001b[39m \u001b[39mself\u001b[39m\u001b[39m.\u001b[39mhandles\u001b[39m.\u001b[39mhandle\n",
            "File \u001b[0;32m~/Documents/Ilmu Komputer UI/Analitika Media Sosial/Tutorial/Tutorial 3/env/lib/python3.10/site-packages/pandas/io/common.py:789\u001b[0m, in \u001b[0;36mget_handle\u001b[0;34m(path_or_buf, mode, encoding, compression, memory_map, is_text, errors, storage_options)\u001b[0m\n\u001b[1;32m    <a href='file:///home/sebelum_masehi/Documents/Ilmu%20Komputer%20UI/Analitika%20Media%20Sosial/Tutorial/Tutorial%203/env/lib/python3.10/site-packages/pandas/io/common.py?line=783'>784</a>\u001b[0m \u001b[39melif\u001b[39;00m \u001b[39misinstance\u001b[39m(handle, \u001b[39mstr\u001b[39m):\n\u001b[1;32m    <a href='file:///home/sebelum_masehi/Documents/Ilmu%20Komputer%20UI/Analitika%20Media%20Sosial/Tutorial/Tutorial%203/env/lib/python3.10/site-packages/pandas/io/common.py?line=784'>785</a>\u001b[0m     \u001b[39m# Check whether the filename is to be opened in binary mode.\u001b[39;00m\n\u001b[1;32m    <a href='file:///home/sebelum_masehi/Documents/Ilmu%20Komputer%20UI/Analitika%20Media%20Sosial/Tutorial/Tutorial%203/env/lib/python3.10/site-packages/pandas/io/common.py?line=785'>786</a>\u001b[0m     \u001b[39m# Binary mode does not support 'encoding' and 'newline'.\u001b[39;00m\n\u001b[1;32m    <a href='file:///home/sebelum_masehi/Documents/Ilmu%20Komputer%20UI/Analitika%20Media%20Sosial/Tutorial/Tutorial%203/env/lib/python3.10/site-packages/pandas/io/common.py?line=786'>787</a>\u001b[0m     \u001b[39mif\u001b[39;00m ioargs\u001b[39m.\u001b[39mencoding \u001b[39mand\u001b[39;00m \u001b[39m\"\u001b[39m\u001b[39mb\u001b[39m\u001b[39m\"\u001b[39m \u001b[39mnot\u001b[39;00m \u001b[39min\u001b[39;00m ioargs\u001b[39m.\u001b[39mmode:\n\u001b[1;32m    <a href='file:///home/sebelum_masehi/Documents/Ilmu%20Komputer%20UI/Analitika%20Media%20Sosial/Tutorial/Tutorial%203/env/lib/python3.10/site-packages/pandas/io/common.py?line=787'>788</a>\u001b[0m         \u001b[39m# Encoding\u001b[39;00m\n\u001b[0;32m--> <a href='file:///home/sebelum_masehi/Documents/Ilmu%20Komputer%20UI/Analitika%20Media%20Sosial/Tutorial/Tutorial%203/env/lib/python3.10/site-packages/pandas/io/common.py?line=788'>789</a>\u001b[0m         handle \u001b[39m=\u001b[39m \u001b[39mopen\u001b[39;49m(\n\u001b[1;32m    <a href='file:///home/sebelum_masehi/Documents/Ilmu%20Komputer%20UI/Analitika%20Media%20Sosial/Tutorial/Tutorial%203/env/lib/python3.10/site-packages/pandas/io/common.py?line=789'>790</a>\u001b[0m             handle,\n\u001b[1;32m    <a href='file:///home/sebelum_masehi/Documents/Ilmu%20Komputer%20UI/Analitika%20Media%20Sosial/Tutorial/Tutorial%203/env/lib/python3.10/site-packages/pandas/io/common.py?line=790'>791</a>\u001b[0m             ioargs\u001b[39m.\u001b[39;49mmode,\n\u001b[1;32m    <a href='file:///home/sebelum_masehi/Documents/Ilmu%20Komputer%20UI/Analitika%20Media%20Sosial/Tutorial/Tutorial%203/env/lib/python3.10/site-packages/pandas/io/common.py?line=791'>792</a>\u001b[0m             encoding\u001b[39m=\u001b[39;49mioargs\u001b[39m.\u001b[39;49mencoding,\n\u001b[1;32m    <a href='file:///home/sebelum_masehi/Documents/Ilmu%20Komputer%20UI/Analitika%20Media%20Sosial/Tutorial/Tutorial%203/env/lib/python3.10/site-packages/pandas/io/common.py?line=792'>793</a>\u001b[0m             errors\u001b[39m=\u001b[39;49merrors,\n\u001b[1;32m    <a href='file:///home/sebelum_masehi/Documents/Ilmu%20Komputer%20UI/Analitika%20Media%20Sosial/Tutorial/Tutorial%203/env/lib/python3.10/site-packages/pandas/io/common.py?line=793'>794</a>\u001b[0m             newline\u001b[39m=\u001b[39;49m\u001b[39m\"\u001b[39;49m\u001b[39m\"\u001b[39;49m,\n\u001b[1;32m    <a href='file:///home/sebelum_masehi/Documents/Ilmu%20Komputer%20UI/Analitika%20Media%20Sosial/Tutorial/Tutorial%203/env/lib/python3.10/site-packages/pandas/io/common.py?line=794'>795</a>\u001b[0m         )\n\u001b[1;32m    <a href='file:///home/sebelum_masehi/Documents/Ilmu%20Komputer%20UI/Analitika%20Media%20Sosial/Tutorial/Tutorial%203/env/lib/python3.10/site-packages/pandas/io/common.py?line=795'>796</a>\u001b[0m     \u001b[39melse\u001b[39;00m:\n\u001b[1;32m    <a href='file:///home/sebelum_masehi/Documents/Ilmu%20Komputer%20UI/Analitika%20Media%20Sosial/Tutorial/Tutorial%203/env/lib/python3.10/site-packages/pandas/io/common.py?line=796'>797</a>\u001b[0m         \u001b[39m# Binary mode\u001b[39;00m\n\u001b[1;32m    <a href='file:///home/sebelum_masehi/Documents/Ilmu%20Komputer%20UI/Analitika%20Media%20Sosial/Tutorial/Tutorial%203/env/lib/python3.10/site-packages/pandas/io/common.py?line=797'>798</a>\u001b[0m         handle \u001b[39m=\u001b[39m \u001b[39mopen\u001b[39m(handle, ioargs\u001b[39m.\u001b[39mmode)\n",
            "\u001b[0;31mFileNotFoundError\u001b[0m: [Errno 2] No such file or directory: 'goto.csv'"
          ]
        }
      ],
      "source": [
        "# explore data \n",
        "df_goto = pd.read_csv('goto.csv')\n",
        "df_goto.info()\n",
        "df_goto.head()"
      ]
    },
    {
      "cell_type": "code",
      "execution_count": null,
      "metadata": {},
      "outputs": [],
      "source": [
        "# wordcloud tweet goto\n",
        "\n",
        "# import library\n",
        "import nltk\n",
        "from nltk.tokenize import word_tokenize\n",
        "from Sastrawi.StopWordRemover.StopWordRemoverFactory import StopWordRemoverFactory\n",
        "stop_factory = StopWordRemoverFactory()\n",
        "stopwords = stop_factory.get_stop_words()\n",
        "\n",
        "from wordcloud import WordCloud\n",
        "import matplotlib.pyplot as plt\n",
        "%matplotlib inline"
      ]
    },
    {
      "cell_type": "code",
      "execution_count": null,
      "metadata": {},
      "outputs": [],
      "source": [
        "text = ' '.join(df_goto['tweet'].unique().tolist())\n",
        "\n",
        "# create and generate a word cloud image:\n",
        "wordcloud = WordCloud(stopwords=stopwords, max_words=100, background_color=\"white\").generate(text)\n",
        "\n",
        "# display the generated image:\n",
        "plt.figure(figsize=(10, 5))\n",
        "plt.imshow(wordcloud, interpolation='bilinear')\n",
        "plt.axis(\"off\")\n",
        "plt.show()"
      ]
    },
    {
      "cell_type": "code",
      "execution_count": null,
      "metadata": {},
      "outputs": [],
      "source": []
    },
    {
      "cell_type": "code",
      "execution_count": null,
      "metadata": {},
      "outputs": [],
      "source": []
    },
    {
      "cell_type": "markdown",
      "metadata": {},
      "source": [
        "## Soal 5\n",
        "5. Ekstrak daftar:\n",
        "    * Jika nama Anda terdiri dari 1-2 kata: *following* dari akun @najwashihab menggunakan instaloader \n",
        "    * Jika nama Anda terdiri dari 3 atau lebih kata: *follower* dari akun @hampersbymiya menggunakan instaloader "
      ]
    },
    {
      "cell_type": "code",
      "execution_count": null,
      "metadata": {},
      "outputs": [],
      "source": []
    },
    {
      "cell_type": "markdown",
      "metadata": {},
      "source": [
        "## Soal 6\n",
        "6. Lakukan <i>scraping</i> profil Linkedin beberapa perusahaan bank terbesar di Indonesia sesuai dengan pembagian berikut:\n",
        "<table>\n",
        "<tr><th>Awalan huruf nama lengkap</th><th>URL Linkedin Perusahaan</th></tr>\n",
        "<tr><td>A-E</td><td>https://www.linkedin.com/company/pt.-bank-negara-indonesia-persero-tbk./</td></tr>\n",
        "<tr><td>F-Q</td><td>https://www.linkedin.com/company/bank-mandiri/</td></tr>\n",
        "<tr><td>R-Z</td><td>https://www.linkedin.com/company/bank-syariah-indonesia/</td></tr>\n",
        "</table>\n",
        "Informasi yang perlu diambil adalah nama, <i>bio</i>, dan jumlah *followers*. Berikut merupakan contoh hasil <i>scraping</i> dari profil Linkedin BSI:\n",
        "\n",
        "```\n",
        "{\n",
        "    \"nama\": \"PT Bank Syariah Indonesia Tbk.\",\n",
        "    \"bio\": \"Bersatu untuk Indonesia\"\n",
        "    \"followers\": \"30381\"\n",
        "}\n",
        "```\n",
        "<i>Note:</i> Anda bisa mendapatkan nilai bonus jika berhasil mendapatkan contoh 5 akun karyawan yang bekerja di perusahaan tersebut (dalam bentuk URL, misal: https://www.linkedin.com/in/jerome-polin-sijabat-b0241247/)."
      ]
    },
    {
      "cell_type": "code",
      "execution_count": null,
      "metadata": {},
      "outputs": [],
      "source": []
    }
  ],
  "metadata": {
    "colab": {
      "collapsed_sections": [],
      "name": "Tutorial 3 - Data Collection.ipynb",
      "provenance": []
    },
    "kernelspec": {
      "display_name": "Python 3 (ipykernel)",
      "language": "python",
      "name": "python3"
    },
    "language_info": {
      "codemirror_mode": {
        "name": "ipython",
        "version": 3
      },
      "file_extension": ".py",
      "mimetype": "text/x-python",
      "name": "python",
      "nbconvert_exporter": "python",
      "pygments_lexer": "ipython3",
      "version": "3.10.2"
    },
    "toc": {
      "base_numbering": 1,
      "nav_menu": {},
      "number_sections": true,
      "sideBar": true,
      "skip_h1_title": false,
      "title_cell": "Table of Contents",
      "title_sidebar": "Contents",
      "toc_cell": false,
      "toc_position": {
        "height": "calc(100% - 180px)",
        "left": "10px",
        "top": "150px",
        "width": "259.797px"
      },
      "toc_section_display": true,
      "toc_window_display": true
    }
  },
  "nbformat": 4,
  "nbformat_minor": 0
}
